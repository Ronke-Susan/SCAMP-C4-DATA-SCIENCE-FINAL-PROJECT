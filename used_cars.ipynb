{
 "cells": [
  {
   "cell_type": "code",
   "execution_count": 1,
   "metadata": {
    "_cell_guid": "b1076dfc-b9ad-4769-8c92-a6c4dae69d19",
    "_uuid": "8f2839f25d086af736a60e9eeb907d3b93b6e0e5",
    "execution": {
     "iopub.execute_input": "2021-05-20T13:37:29.540926Z",
     "iopub.status.busy": "2021-05-20T13:37:29.540258Z",
     "iopub.status.idle": "2021-05-20T13:37:29.559398Z",
     "shell.execute_reply": "2021-05-20T13:37:29.558547Z",
     "shell.execute_reply.started": "2021-05-20T13:37:29.540779Z"
    }
   },
   "outputs": [
    {
     "name": "stdout",
     "output_type": "stream",
     "text": [
      "/kaggle/input/craigslist-carstrucks-data/vehicles.csv\n"
     ]
    }
   ],
   "source": [
    "# This Python 3 environment comes with many helpful analytics libraries installed\n",
    "# It is defined by the kaggle/python Docker image: https://github.com/kaggle/docker-python\n",
    "# For example, here's several helpful packages to load\n",
    "\n",
    "import numpy as np # linear algebra\n",
    "import pandas as pd # data processing, CSV file I/O (e.g. pd.read_csv)\n",
    "\n",
    "# Input data files are available in the read-only \"../input/\" directory\n",
    "# For example, running this (by clicking run or pressing Shift+Enter) will list all files under the input directory\n",
    "\n",
    "import os\n",
    "for dirname, _, filenames in os.walk('/kaggle/input'):\n",
    "    for filename in filenames:\n",
    "        print(os.path.join(dirname, filename))\n",
    "\n",
    "# You can write up to 20GB to the current directory (/kaggle/working/) that gets preserved as output when you create a version using \"Save & Run All\" \n",
    "# You can also write temporary files to /kaggle/temp/, but they won't be saved outside of the current session"
   ]
  },
  {
   "cell_type": "code",
   "execution_count": 2,
   "metadata": {
    "execution": {
     "iopub.execute_input": "2021-05-20T13:37:29.561368Z",
     "iopub.status.busy": "2021-05-20T13:37:29.560795Z",
     "iopub.status.idle": "2021-05-20T13:37:30.506152Z",
     "shell.execute_reply": "2021-05-20T13:37:30.505312Z",
     "shell.execute_reply.started": "2021-05-20T13:37:29.561325Z"
    }
   },
   "outputs": [],
   "source": [
    "#importing needed libraries\n",
    "import matplotlib\n",
    "import matplotlib.pyplot as plt\n",
    "import seaborn as sns\n",
    "from sklearn.preprocessing import LabelEncoder\n",
    "from sklearn.model_selection import train_test_split\n",
    "from sklearn.preprocessing import StandardScaler, MinMaxScaler\n",
    "#from sklearn.linear_model import LinearRegression\n",
    "from sklearn import metrics\n",
    "from sklearn.metrics import r2_score\n",
    "#from sklearn.tree import DecisionTreeRegressor\n",
    "from sklearn.ensemble import RandomForestRegressor, ExtraTreesRegressor\n",
    "%matplotlib inline"
   ]
  },
  {
   "cell_type": "code",
   "execution_count": 3,
   "metadata": {
    "execution": {
     "iopub.execute_input": "2021-05-20T13:37:30.508526Z",
     "iopub.status.busy": "2021-05-20T13:37:30.507915Z",
     "iopub.status.idle": "2021-05-20T13:37:30.513223Z",
     "shell.execute_reply": "2021-05-20T13:37:30.512016Z",
     "shell.execute_reply.started": "2021-05-20T13:37:30.508481Z"
    }
   },
   "outputs": [],
   "source": [
    "#display all columns\n",
    "pd.set_option('display.max_columns',None)"
   ]
  },
  {
   "cell_type": "code",
   "execution_count": 4,
   "metadata": {
    "execution": {
     "iopub.execute_input": "2021-05-20T13:37:30.515117Z",
     "iopub.status.busy": "2021-05-20T13:37:30.514778Z",
     "iopub.status.idle": "2021-05-20T13:38:06.915010Z",
     "shell.execute_reply": "2021-05-20T13:38:06.914043Z",
     "shell.execute_reply.started": "2021-05-20T13:37:30.515089Z"
    }
   },
   "outputs": [
    {
     "data": {
      "text/html": [
       "<div>\n",
       "<style scoped>\n",
       "    .dataframe tbody tr th:only-of-type {\n",
       "        vertical-align: middle;\n",
       "    }\n",
       "\n",
       "    .dataframe tbody tr th {\n",
       "        vertical-align: top;\n",
       "    }\n",
       "\n",
       "    .dataframe thead th {\n",
       "        text-align: right;\n",
       "    }\n",
       "</style>\n",
       "<table border=\"1\" class=\"dataframe\">\n",
       "  <thead>\n",
       "    <tr style=\"text-align: right;\">\n",
       "      <th></th>\n",
       "      <th>id</th>\n",
       "      <th>url</th>\n",
       "      <th>region</th>\n",
       "      <th>region_url</th>\n",
       "      <th>price</th>\n",
       "      <th>year</th>\n",
       "      <th>manufacturer</th>\n",
       "      <th>model</th>\n",
       "      <th>condition</th>\n",
       "      <th>cylinders</th>\n",
       "      <th>fuel</th>\n",
       "      <th>odometer</th>\n",
       "      <th>title_status</th>\n",
       "      <th>transmission</th>\n",
       "      <th>VIN</th>\n",
       "      <th>drive</th>\n",
       "      <th>size</th>\n",
       "      <th>type</th>\n",
       "      <th>paint_color</th>\n",
       "      <th>image_url</th>\n",
       "      <th>description</th>\n",
       "      <th>county</th>\n",
       "      <th>state</th>\n",
       "      <th>lat</th>\n",
       "      <th>long</th>\n",
       "      <th>posting_date</th>\n",
       "    </tr>\n",
       "  </thead>\n",
       "  <tbody>\n",
       "    <tr>\n",
       "      <th>0</th>\n",
       "      <td>7222695916</td>\n",
       "      <td>https://prescott.craigslist.org/cto/d/prescott...</td>\n",
       "      <td>prescott</td>\n",
       "      <td>https://prescott.craigslist.org</td>\n",
       "      <td>6000</td>\n",
       "      <td>NaN</td>\n",
       "      <td>NaN</td>\n",
       "      <td>NaN</td>\n",
       "      <td>NaN</td>\n",
       "      <td>NaN</td>\n",
       "      <td>NaN</td>\n",
       "      <td>NaN</td>\n",
       "      <td>NaN</td>\n",
       "      <td>NaN</td>\n",
       "      <td>NaN</td>\n",
       "      <td>NaN</td>\n",
       "      <td>NaN</td>\n",
       "      <td>NaN</td>\n",
       "      <td>NaN</td>\n",
       "      <td>NaN</td>\n",
       "      <td>NaN</td>\n",
       "      <td>NaN</td>\n",
       "      <td>az</td>\n",
       "      <td>NaN</td>\n",
       "      <td>NaN</td>\n",
       "      <td>NaN</td>\n",
       "    </tr>\n",
       "    <tr>\n",
       "      <th>1</th>\n",
       "      <td>7218891961</td>\n",
       "      <td>https://fayar.craigslist.org/ctd/d/bentonville...</td>\n",
       "      <td>fayetteville</td>\n",
       "      <td>https://fayar.craigslist.org</td>\n",
       "      <td>11900</td>\n",
       "      <td>NaN</td>\n",
       "      <td>NaN</td>\n",
       "      <td>NaN</td>\n",
       "      <td>NaN</td>\n",
       "      <td>NaN</td>\n",
       "      <td>NaN</td>\n",
       "      <td>NaN</td>\n",
       "      <td>NaN</td>\n",
       "      <td>NaN</td>\n",
       "      <td>NaN</td>\n",
       "      <td>NaN</td>\n",
       "      <td>NaN</td>\n",
       "      <td>NaN</td>\n",
       "      <td>NaN</td>\n",
       "      <td>NaN</td>\n",
       "      <td>NaN</td>\n",
       "      <td>NaN</td>\n",
       "      <td>ar</td>\n",
       "      <td>NaN</td>\n",
       "      <td>NaN</td>\n",
       "      <td>NaN</td>\n",
       "    </tr>\n",
       "    <tr>\n",
       "      <th>2</th>\n",
       "      <td>7221797935</td>\n",
       "      <td>https://keys.craigslist.org/cto/d/summerland-k...</td>\n",
       "      <td>florida keys</td>\n",
       "      <td>https://keys.craigslist.org</td>\n",
       "      <td>21000</td>\n",
       "      <td>NaN</td>\n",
       "      <td>NaN</td>\n",
       "      <td>NaN</td>\n",
       "      <td>NaN</td>\n",
       "      <td>NaN</td>\n",
       "      <td>NaN</td>\n",
       "      <td>NaN</td>\n",
       "      <td>NaN</td>\n",
       "      <td>NaN</td>\n",
       "      <td>NaN</td>\n",
       "      <td>NaN</td>\n",
       "      <td>NaN</td>\n",
       "      <td>NaN</td>\n",
       "      <td>NaN</td>\n",
       "      <td>NaN</td>\n",
       "      <td>NaN</td>\n",
       "      <td>NaN</td>\n",
       "      <td>fl</td>\n",
       "      <td>NaN</td>\n",
       "      <td>NaN</td>\n",
       "      <td>NaN</td>\n",
       "    </tr>\n",
       "    <tr>\n",
       "      <th>3</th>\n",
       "      <td>7222270760</td>\n",
       "      <td>https://worcester.craigslist.org/cto/d/west-br...</td>\n",
       "      <td>worcester / central MA</td>\n",
       "      <td>https://worcester.craigslist.org</td>\n",
       "      <td>1500</td>\n",
       "      <td>NaN</td>\n",
       "      <td>NaN</td>\n",
       "      <td>NaN</td>\n",
       "      <td>NaN</td>\n",
       "      <td>NaN</td>\n",
       "      <td>NaN</td>\n",
       "      <td>NaN</td>\n",
       "      <td>NaN</td>\n",
       "      <td>NaN</td>\n",
       "      <td>NaN</td>\n",
       "      <td>NaN</td>\n",
       "      <td>NaN</td>\n",
       "      <td>NaN</td>\n",
       "      <td>NaN</td>\n",
       "      <td>NaN</td>\n",
       "      <td>NaN</td>\n",
       "      <td>NaN</td>\n",
       "      <td>ma</td>\n",
       "      <td>NaN</td>\n",
       "      <td>NaN</td>\n",
       "      <td>NaN</td>\n",
       "    </tr>\n",
       "    <tr>\n",
       "      <th>4</th>\n",
       "      <td>7210384030</td>\n",
       "      <td>https://greensboro.craigslist.org/cto/d/trinit...</td>\n",
       "      <td>greensboro</td>\n",
       "      <td>https://greensboro.craigslist.org</td>\n",
       "      <td>4900</td>\n",
       "      <td>NaN</td>\n",
       "      <td>NaN</td>\n",
       "      <td>NaN</td>\n",
       "      <td>NaN</td>\n",
       "      <td>NaN</td>\n",
       "      <td>NaN</td>\n",
       "      <td>NaN</td>\n",
       "      <td>NaN</td>\n",
       "      <td>NaN</td>\n",
       "      <td>NaN</td>\n",
       "      <td>NaN</td>\n",
       "      <td>NaN</td>\n",
       "      <td>NaN</td>\n",
       "      <td>NaN</td>\n",
       "      <td>NaN</td>\n",
       "      <td>NaN</td>\n",
       "      <td>NaN</td>\n",
       "      <td>nc</td>\n",
       "      <td>NaN</td>\n",
       "      <td>NaN</td>\n",
       "      <td>NaN</td>\n",
       "    </tr>\n",
       "    <tr>\n",
       "      <th>...</th>\n",
       "      <td>...</td>\n",
       "      <td>...</td>\n",
       "      <td>...</td>\n",
       "      <td>...</td>\n",
       "      <td>...</td>\n",
       "      <td>...</td>\n",
       "      <td>...</td>\n",
       "      <td>...</td>\n",
       "      <td>...</td>\n",
       "      <td>...</td>\n",
       "      <td>...</td>\n",
       "      <td>...</td>\n",
       "      <td>...</td>\n",
       "      <td>...</td>\n",
       "      <td>...</td>\n",
       "      <td>...</td>\n",
       "      <td>...</td>\n",
       "      <td>...</td>\n",
       "      <td>...</td>\n",
       "      <td>...</td>\n",
       "      <td>...</td>\n",
       "      <td>...</td>\n",
       "      <td>...</td>\n",
       "      <td>...</td>\n",
       "      <td>...</td>\n",
       "      <td>...</td>\n",
       "    </tr>\n",
       "    <tr>\n",
       "      <th>426875</th>\n",
       "      <td>7301591192</td>\n",
       "      <td>https://wyoming.craigslist.org/ctd/d/atlanta-2...</td>\n",
       "      <td>wyoming</td>\n",
       "      <td>https://wyoming.craigslist.org</td>\n",
       "      <td>23590</td>\n",
       "      <td>2019.0</td>\n",
       "      <td>nissan</td>\n",
       "      <td>maxima s sedan 4d</td>\n",
       "      <td>good</td>\n",
       "      <td>6 cylinders</td>\n",
       "      <td>gas</td>\n",
       "      <td>32226.0</td>\n",
       "      <td>clean</td>\n",
       "      <td>other</td>\n",
       "      <td>1N4AA6AV6KC367801</td>\n",
       "      <td>fwd</td>\n",
       "      <td>NaN</td>\n",
       "      <td>sedan</td>\n",
       "      <td>NaN</td>\n",
       "      <td>https://images.craigslist.org/00o0o_iiraFnHg8q...</td>\n",
       "      <td>Carvana is the safer way to buy a car During t...</td>\n",
       "      <td>NaN</td>\n",
       "      <td>wy</td>\n",
       "      <td>33.786500</td>\n",
       "      <td>-84.445400</td>\n",
       "      <td>2021-04-04T03:21:31-0600</td>\n",
       "    </tr>\n",
       "    <tr>\n",
       "      <th>426876</th>\n",
       "      <td>7301591187</td>\n",
       "      <td>https://wyoming.craigslist.org/ctd/d/atlanta-2...</td>\n",
       "      <td>wyoming</td>\n",
       "      <td>https://wyoming.craigslist.org</td>\n",
       "      <td>30590</td>\n",
       "      <td>2020.0</td>\n",
       "      <td>volvo</td>\n",
       "      <td>s60 t5 momentum sedan 4d</td>\n",
       "      <td>good</td>\n",
       "      <td>NaN</td>\n",
       "      <td>gas</td>\n",
       "      <td>12029.0</td>\n",
       "      <td>clean</td>\n",
       "      <td>other</td>\n",
       "      <td>7JR102FKXLG042696</td>\n",
       "      <td>fwd</td>\n",
       "      <td>NaN</td>\n",
       "      <td>sedan</td>\n",
       "      <td>red</td>\n",
       "      <td>https://images.craigslist.org/00x0x_15sbgnxCIS...</td>\n",
       "      <td>Carvana is the safer way to buy a car During t...</td>\n",
       "      <td>NaN</td>\n",
       "      <td>wy</td>\n",
       "      <td>33.786500</td>\n",
       "      <td>-84.445400</td>\n",
       "      <td>2021-04-04T03:21:29-0600</td>\n",
       "    </tr>\n",
       "    <tr>\n",
       "      <th>426877</th>\n",
       "      <td>7301591147</td>\n",
       "      <td>https://wyoming.craigslist.org/ctd/d/atlanta-2...</td>\n",
       "      <td>wyoming</td>\n",
       "      <td>https://wyoming.craigslist.org</td>\n",
       "      <td>34990</td>\n",
       "      <td>2020.0</td>\n",
       "      <td>cadillac</td>\n",
       "      <td>xt4 sport suv 4d</td>\n",
       "      <td>good</td>\n",
       "      <td>NaN</td>\n",
       "      <td>diesel</td>\n",
       "      <td>4174.0</td>\n",
       "      <td>clean</td>\n",
       "      <td>other</td>\n",
       "      <td>1GYFZFR46LF088296</td>\n",
       "      <td>NaN</td>\n",
       "      <td>NaN</td>\n",
       "      <td>hatchback</td>\n",
       "      <td>white</td>\n",
       "      <td>https://images.craigslist.org/00L0L_farM7bxnxR...</td>\n",
       "      <td>Carvana is the safer way to buy a car During t...</td>\n",
       "      <td>NaN</td>\n",
       "      <td>wy</td>\n",
       "      <td>33.779214</td>\n",
       "      <td>-84.411811</td>\n",
       "      <td>2021-04-04T03:21:17-0600</td>\n",
       "    </tr>\n",
       "    <tr>\n",
       "      <th>426878</th>\n",
       "      <td>7301591140</td>\n",
       "      <td>https://wyoming.craigslist.org/ctd/d/atlanta-2...</td>\n",
       "      <td>wyoming</td>\n",
       "      <td>https://wyoming.craigslist.org</td>\n",
       "      <td>28990</td>\n",
       "      <td>2018.0</td>\n",
       "      <td>lexus</td>\n",
       "      <td>es 350 sedan 4d</td>\n",
       "      <td>good</td>\n",
       "      <td>6 cylinders</td>\n",
       "      <td>gas</td>\n",
       "      <td>30112.0</td>\n",
       "      <td>clean</td>\n",
       "      <td>other</td>\n",
       "      <td>58ABK1GG4JU103853</td>\n",
       "      <td>fwd</td>\n",
       "      <td>NaN</td>\n",
       "      <td>sedan</td>\n",
       "      <td>silver</td>\n",
       "      <td>https://images.craigslist.org/00z0z_bKnIVGLkDT...</td>\n",
       "      <td>Carvana is the safer way to buy a car During t...</td>\n",
       "      <td>NaN</td>\n",
       "      <td>wy</td>\n",
       "      <td>33.786500</td>\n",
       "      <td>-84.445400</td>\n",
       "      <td>2021-04-04T03:21:11-0600</td>\n",
       "    </tr>\n",
       "    <tr>\n",
       "      <th>426879</th>\n",
       "      <td>7301591129</td>\n",
       "      <td>https://wyoming.craigslist.org/ctd/d/atlanta-2...</td>\n",
       "      <td>wyoming</td>\n",
       "      <td>https://wyoming.craigslist.org</td>\n",
       "      <td>30590</td>\n",
       "      <td>2019.0</td>\n",
       "      <td>bmw</td>\n",
       "      <td>4 series 430i gran coupe</td>\n",
       "      <td>good</td>\n",
       "      <td>NaN</td>\n",
       "      <td>gas</td>\n",
       "      <td>22716.0</td>\n",
       "      <td>clean</td>\n",
       "      <td>other</td>\n",
       "      <td>WBA4J1C58KBM14708</td>\n",
       "      <td>rwd</td>\n",
       "      <td>NaN</td>\n",
       "      <td>coupe</td>\n",
       "      <td>NaN</td>\n",
       "      <td>https://images.craigslist.org/00Y0Y_lEUocjyRxa...</td>\n",
       "      <td>Carvana is the safer way to buy a car During t...</td>\n",
       "      <td>NaN</td>\n",
       "      <td>wy</td>\n",
       "      <td>33.779214</td>\n",
       "      <td>-84.411811</td>\n",
       "      <td>2021-04-04T03:21:07-0600</td>\n",
       "    </tr>\n",
       "  </tbody>\n",
       "</table>\n",
       "<p>426880 rows × 26 columns</p>\n",
       "</div>"
      ],
      "text/plain": [
       "                id                                                url  \\\n",
       "0       7222695916  https://prescott.craigslist.org/cto/d/prescott...   \n",
       "1       7218891961  https://fayar.craigslist.org/ctd/d/bentonville...   \n",
       "2       7221797935  https://keys.craigslist.org/cto/d/summerland-k...   \n",
       "3       7222270760  https://worcester.craigslist.org/cto/d/west-br...   \n",
       "4       7210384030  https://greensboro.craigslist.org/cto/d/trinit...   \n",
       "...            ...                                                ...   \n",
       "426875  7301591192  https://wyoming.craigslist.org/ctd/d/atlanta-2...   \n",
       "426876  7301591187  https://wyoming.craigslist.org/ctd/d/atlanta-2...   \n",
       "426877  7301591147  https://wyoming.craigslist.org/ctd/d/atlanta-2...   \n",
       "426878  7301591140  https://wyoming.craigslist.org/ctd/d/atlanta-2...   \n",
       "426879  7301591129  https://wyoming.craigslist.org/ctd/d/atlanta-2...   \n",
       "\n",
       "                        region                         region_url  price  \\\n",
       "0                     prescott    https://prescott.craigslist.org   6000   \n",
       "1                 fayetteville       https://fayar.craigslist.org  11900   \n",
       "2                 florida keys        https://keys.craigslist.org  21000   \n",
       "3       worcester / central MA   https://worcester.craigslist.org   1500   \n",
       "4                   greensboro  https://greensboro.craigslist.org   4900   \n",
       "...                        ...                                ...    ...   \n",
       "426875                 wyoming     https://wyoming.craigslist.org  23590   \n",
       "426876                 wyoming     https://wyoming.craigslist.org  30590   \n",
       "426877                 wyoming     https://wyoming.craigslist.org  34990   \n",
       "426878                 wyoming     https://wyoming.craigslist.org  28990   \n",
       "426879                 wyoming     https://wyoming.craigslist.org  30590   \n",
       "\n",
       "          year manufacturer                     model condition    cylinders  \\\n",
       "0          NaN          NaN                       NaN       NaN          NaN   \n",
       "1          NaN          NaN                       NaN       NaN          NaN   \n",
       "2          NaN          NaN                       NaN       NaN          NaN   \n",
       "3          NaN          NaN                       NaN       NaN          NaN   \n",
       "4          NaN          NaN                       NaN       NaN          NaN   \n",
       "...        ...          ...                       ...       ...          ...   \n",
       "426875  2019.0       nissan         maxima s sedan 4d      good  6 cylinders   \n",
       "426876  2020.0        volvo  s60 t5 momentum sedan 4d      good          NaN   \n",
       "426877  2020.0     cadillac          xt4 sport suv 4d      good          NaN   \n",
       "426878  2018.0        lexus           es 350 sedan 4d      good  6 cylinders   \n",
       "426879  2019.0          bmw  4 series 430i gran coupe      good          NaN   \n",
       "\n",
       "          fuel  odometer title_status transmission                VIN drive  \\\n",
       "0          NaN       NaN          NaN          NaN                NaN   NaN   \n",
       "1          NaN       NaN          NaN          NaN                NaN   NaN   \n",
       "2          NaN       NaN          NaN          NaN                NaN   NaN   \n",
       "3          NaN       NaN          NaN          NaN                NaN   NaN   \n",
       "4          NaN       NaN          NaN          NaN                NaN   NaN   \n",
       "...        ...       ...          ...          ...                ...   ...   \n",
       "426875     gas   32226.0        clean        other  1N4AA6AV6KC367801   fwd   \n",
       "426876     gas   12029.0        clean        other  7JR102FKXLG042696   fwd   \n",
       "426877  diesel    4174.0        clean        other  1GYFZFR46LF088296   NaN   \n",
       "426878     gas   30112.0        clean        other  58ABK1GG4JU103853   fwd   \n",
       "426879     gas   22716.0        clean        other  WBA4J1C58KBM14708   rwd   \n",
       "\n",
       "       size       type paint_color  \\\n",
       "0       NaN        NaN         NaN   \n",
       "1       NaN        NaN         NaN   \n",
       "2       NaN        NaN         NaN   \n",
       "3       NaN        NaN         NaN   \n",
       "4       NaN        NaN         NaN   \n",
       "...     ...        ...         ...   \n",
       "426875  NaN      sedan         NaN   \n",
       "426876  NaN      sedan         red   \n",
       "426877  NaN  hatchback       white   \n",
       "426878  NaN      sedan      silver   \n",
       "426879  NaN      coupe         NaN   \n",
       "\n",
       "                                                image_url  \\\n",
       "0                                                     NaN   \n",
       "1                                                     NaN   \n",
       "2                                                     NaN   \n",
       "3                                                     NaN   \n",
       "4                                                     NaN   \n",
       "...                                                   ...   \n",
       "426875  https://images.craigslist.org/00o0o_iiraFnHg8q...   \n",
       "426876  https://images.craigslist.org/00x0x_15sbgnxCIS...   \n",
       "426877  https://images.craigslist.org/00L0L_farM7bxnxR...   \n",
       "426878  https://images.craigslist.org/00z0z_bKnIVGLkDT...   \n",
       "426879  https://images.craigslist.org/00Y0Y_lEUocjyRxa...   \n",
       "\n",
       "                                              description  county state  \\\n",
       "0                                                     NaN     NaN    az   \n",
       "1                                                     NaN     NaN    ar   \n",
       "2                                                     NaN     NaN    fl   \n",
       "3                                                     NaN     NaN    ma   \n",
       "4                                                     NaN     NaN    nc   \n",
       "...                                                   ...     ...   ...   \n",
       "426875  Carvana is the safer way to buy a car During t...     NaN    wy   \n",
       "426876  Carvana is the safer way to buy a car During t...     NaN    wy   \n",
       "426877  Carvana is the safer way to buy a car During t...     NaN    wy   \n",
       "426878  Carvana is the safer way to buy a car During t...     NaN    wy   \n",
       "426879  Carvana is the safer way to buy a car During t...     NaN    wy   \n",
       "\n",
       "              lat       long              posting_date  \n",
       "0             NaN        NaN                       NaN  \n",
       "1             NaN        NaN                       NaN  \n",
       "2             NaN        NaN                       NaN  \n",
       "3             NaN        NaN                       NaN  \n",
       "4             NaN        NaN                       NaN  \n",
       "...           ...        ...                       ...  \n",
       "426875  33.786500 -84.445400  2021-04-04T03:21:31-0600  \n",
       "426876  33.786500 -84.445400  2021-04-04T03:21:29-0600  \n",
       "426877  33.779214 -84.411811  2021-04-04T03:21:17-0600  \n",
       "426878  33.786500 -84.445400  2021-04-04T03:21:11-0600  \n",
       "426879  33.779214 -84.411811  2021-04-04T03:21:07-0600  \n",
       "\n",
       "[426880 rows x 26 columns]"
      ]
     },
     "execution_count": 4,
     "metadata": {},
     "output_type": "execute_result"
    }
   ],
   "source": [
    "#loading dataset\n",
    "df= pd.read_csv('/kaggle/input/craigslist-carstrucks-data/vehicles.csv')\n",
    "df"
   ]
  },
  {
   "cell_type": "code",
   "execution_count": 5,
   "metadata": {
    "execution": {
     "iopub.execute_input": "2021-05-20T13:38:06.916488Z",
     "iopub.status.busy": "2021-05-20T13:38:06.916221Z",
     "iopub.status.idle": "2021-05-20T13:38:07.030373Z",
     "shell.execute_reply": "2021-05-20T13:38:07.029326Z",
     "shell.execute_reply.started": "2021-05-20T13:38:06.916461Z"
    }
   },
   "outputs": [
    {
     "data": {
      "text/plain": [
       "26"
      ]
     },
     "execution_count": 5,
     "metadata": {},
     "output_type": "execute_result"
    }
   ],
   "source": [
    "# to clear and free up space in memory\n",
    "import gc\n",
    "gc.collect()"
   ]
  },
  {
   "cell_type": "code",
   "execution_count": 6,
   "metadata": {
    "execution": {
     "iopub.execute_input": "2021-05-20T13:38:07.031752Z",
     "iopub.status.busy": "2021-05-20T13:38:07.031502Z",
     "iopub.status.idle": "2021-05-20T13:38:07.061423Z",
     "shell.execute_reply": "2021-05-20T13:38:07.060587Z",
     "shell.execute_reply.started": "2021-05-20T13:38:07.031728Z"
    }
   },
   "outputs": [
    {
     "data": {
      "text/html": [
       "<div>\n",
       "<style scoped>\n",
       "    .dataframe tbody tr th:only-of-type {\n",
       "        vertical-align: middle;\n",
       "    }\n",
       "\n",
       "    .dataframe tbody tr th {\n",
       "        vertical-align: top;\n",
       "    }\n",
       "\n",
       "    .dataframe thead th {\n",
       "        text-align: right;\n",
       "    }\n",
       "</style>\n",
       "<table border=\"1\" class=\"dataframe\">\n",
       "  <thead>\n",
       "    <tr style=\"text-align: right;\">\n",
       "      <th></th>\n",
       "      <th>id</th>\n",
       "      <th>url</th>\n",
       "      <th>region</th>\n",
       "      <th>region_url</th>\n",
       "      <th>price</th>\n",
       "      <th>year</th>\n",
       "      <th>manufacturer</th>\n",
       "      <th>model</th>\n",
       "      <th>condition</th>\n",
       "      <th>cylinders</th>\n",
       "      <th>fuel</th>\n",
       "      <th>odometer</th>\n",
       "      <th>title_status</th>\n",
       "      <th>transmission</th>\n",
       "      <th>VIN</th>\n",
       "      <th>drive</th>\n",
       "      <th>size</th>\n",
       "      <th>type</th>\n",
       "      <th>paint_color</th>\n",
       "      <th>image_url</th>\n",
       "      <th>description</th>\n",
       "      <th>county</th>\n",
       "      <th>state</th>\n",
       "      <th>lat</th>\n",
       "      <th>long</th>\n",
       "      <th>posting_date</th>\n",
       "    </tr>\n",
       "  </thead>\n",
       "  <tbody>\n",
       "    <tr>\n",
       "      <th>0</th>\n",
       "      <td>7222695916</td>\n",
       "      <td>https://prescott.craigslist.org/cto/d/prescott...</td>\n",
       "      <td>prescott</td>\n",
       "      <td>https://prescott.craigslist.org</td>\n",
       "      <td>6000</td>\n",
       "      <td>NaN</td>\n",
       "      <td>NaN</td>\n",
       "      <td>NaN</td>\n",
       "      <td>NaN</td>\n",
       "      <td>NaN</td>\n",
       "      <td>NaN</td>\n",
       "      <td>NaN</td>\n",
       "      <td>NaN</td>\n",
       "      <td>NaN</td>\n",
       "      <td>NaN</td>\n",
       "      <td>NaN</td>\n",
       "      <td>NaN</td>\n",
       "      <td>NaN</td>\n",
       "      <td>NaN</td>\n",
       "      <td>NaN</td>\n",
       "      <td>NaN</td>\n",
       "      <td>NaN</td>\n",
       "      <td>az</td>\n",
       "      <td>NaN</td>\n",
       "      <td>NaN</td>\n",
       "      <td>NaN</td>\n",
       "    </tr>\n",
       "    <tr>\n",
       "      <th>1</th>\n",
       "      <td>7218891961</td>\n",
       "      <td>https://fayar.craigslist.org/ctd/d/bentonville...</td>\n",
       "      <td>fayetteville</td>\n",
       "      <td>https://fayar.craigslist.org</td>\n",
       "      <td>11900</td>\n",
       "      <td>NaN</td>\n",
       "      <td>NaN</td>\n",
       "      <td>NaN</td>\n",
       "      <td>NaN</td>\n",
       "      <td>NaN</td>\n",
       "      <td>NaN</td>\n",
       "      <td>NaN</td>\n",
       "      <td>NaN</td>\n",
       "      <td>NaN</td>\n",
       "      <td>NaN</td>\n",
       "      <td>NaN</td>\n",
       "      <td>NaN</td>\n",
       "      <td>NaN</td>\n",
       "      <td>NaN</td>\n",
       "      <td>NaN</td>\n",
       "      <td>NaN</td>\n",
       "      <td>NaN</td>\n",
       "      <td>ar</td>\n",
       "      <td>NaN</td>\n",
       "      <td>NaN</td>\n",
       "      <td>NaN</td>\n",
       "    </tr>\n",
       "    <tr>\n",
       "      <th>2</th>\n",
       "      <td>7221797935</td>\n",
       "      <td>https://keys.craigslist.org/cto/d/summerland-k...</td>\n",
       "      <td>florida keys</td>\n",
       "      <td>https://keys.craigslist.org</td>\n",
       "      <td>21000</td>\n",
       "      <td>NaN</td>\n",
       "      <td>NaN</td>\n",
       "      <td>NaN</td>\n",
       "      <td>NaN</td>\n",
       "      <td>NaN</td>\n",
       "      <td>NaN</td>\n",
       "      <td>NaN</td>\n",
       "      <td>NaN</td>\n",
       "      <td>NaN</td>\n",
       "      <td>NaN</td>\n",
       "      <td>NaN</td>\n",
       "      <td>NaN</td>\n",
       "      <td>NaN</td>\n",
       "      <td>NaN</td>\n",
       "      <td>NaN</td>\n",
       "      <td>NaN</td>\n",
       "      <td>NaN</td>\n",
       "      <td>fl</td>\n",
       "      <td>NaN</td>\n",
       "      <td>NaN</td>\n",
       "      <td>NaN</td>\n",
       "    </tr>\n",
       "    <tr>\n",
       "      <th>3</th>\n",
       "      <td>7222270760</td>\n",
       "      <td>https://worcester.craigslist.org/cto/d/west-br...</td>\n",
       "      <td>worcester / central MA</td>\n",
       "      <td>https://worcester.craigslist.org</td>\n",
       "      <td>1500</td>\n",
       "      <td>NaN</td>\n",
       "      <td>NaN</td>\n",
       "      <td>NaN</td>\n",
       "      <td>NaN</td>\n",
       "      <td>NaN</td>\n",
       "      <td>NaN</td>\n",
       "      <td>NaN</td>\n",
       "      <td>NaN</td>\n",
       "      <td>NaN</td>\n",
       "      <td>NaN</td>\n",
       "      <td>NaN</td>\n",
       "      <td>NaN</td>\n",
       "      <td>NaN</td>\n",
       "      <td>NaN</td>\n",
       "      <td>NaN</td>\n",
       "      <td>NaN</td>\n",
       "      <td>NaN</td>\n",
       "      <td>ma</td>\n",
       "      <td>NaN</td>\n",
       "      <td>NaN</td>\n",
       "      <td>NaN</td>\n",
       "    </tr>\n",
       "    <tr>\n",
       "      <th>4</th>\n",
       "      <td>7210384030</td>\n",
       "      <td>https://greensboro.craigslist.org/cto/d/trinit...</td>\n",
       "      <td>greensboro</td>\n",
       "      <td>https://greensboro.craigslist.org</td>\n",
       "      <td>4900</td>\n",
       "      <td>NaN</td>\n",
       "      <td>NaN</td>\n",
       "      <td>NaN</td>\n",
       "      <td>NaN</td>\n",
       "      <td>NaN</td>\n",
       "      <td>NaN</td>\n",
       "      <td>NaN</td>\n",
       "      <td>NaN</td>\n",
       "      <td>NaN</td>\n",
       "      <td>NaN</td>\n",
       "      <td>NaN</td>\n",
       "      <td>NaN</td>\n",
       "      <td>NaN</td>\n",
       "      <td>NaN</td>\n",
       "      <td>NaN</td>\n",
       "      <td>NaN</td>\n",
       "      <td>NaN</td>\n",
       "      <td>nc</td>\n",
       "      <td>NaN</td>\n",
       "      <td>NaN</td>\n",
       "      <td>NaN</td>\n",
       "    </tr>\n",
       "  </tbody>\n",
       "</table>\n",
       "</div>"
      ],
      "text/plain": [
       "           id                                                url  \\\n",
       "0  7222695916  https://prescott.craigslist.org/cto/d/prescott...   \n",
       "1  7218891961  https://fayar.craigslist.org/ctd/d/bentonville...   \n",
       "2  7221797935  https://keys.craigslist.org/cto/d/summerland-k...   \n",
       "3  7222270760  https://worcester.craigslist.org/cto/d/west-br...   \n",
       "4  7210384030  https://greensboro.craigslist.org/cto/d/trinit...   \n",
       "\n",
       "                   region                         region_url  price  year  \\\n",
       "0                prescott    https://prescott.craigslist.org   6000   NaN   \n",
       "1            fayetteville       https://fayar.craigslist.org  11900   NaN   \n",
       "2            florida keys        https://keys.craigslist.org  21000   NaN   \n",
       "3  worcester / central MA   https://worcester.craigslist.org   1500   NaN   \n",
       "4              greensboro  https://greensboro.craigslist.org   4900   NaN   \n",
       "\n",
       "  manufacturer model condition cylinders fuel  odometer title_status  \\\n",
       "0          NaN   NaN       NaN       NaN  NaN       NaN          NaN   \n",
       "1          NaN   NaN       NaN       NaN  NaN       NaN          NaN   \n",
       "2          NaN   NaN       NaN       NaN  NaN       NaN          NaN   \n",
       "3          NaN   NaN       NaN       NaN  NaN       NaN          NaN   \n",
       "4          NaN   NaN       NaN       NaN  NaN       NaN          NaN   \n",
       "\n",
       "  transmission  VIN drive size type paint_color image_url description  county  \\\n",
       "0          NaN  NaN   NaN  NaN  NaN         NaN       NaN         NaN     NaN   \n",
       "1          NaN  NaN   NaN  NaN  NaN         NaN       NaN         NaN     NaN   \n",
       "2          NaN  NaN   NaN  NaN  NaN         NaN       NaN         NaN     NaN   \n",
       "3          NaN  NaN   NaN  NaN  NaN         NaN       NaN         NaN     NaN   \n",
       "4          NaN  NaN   NaN  NaN  NaN         NaN       NaN         NaN     NaN   \n",
       "\n",
       "  state  lat  long posting_date  \n",
       "0    az  NaN   NaN          NaN  \n",
       "1    ar  NaN   NaN          NaN  \n",
       "2    fl  NaN   NaN          NaN  \n",
       "3    ma  NaN   NaN          NaN  \n",
       "4    nc  NaN   NaN          NaN  "
      ]
     },
     "execution_count": 6,
     "metadata": {},
     "output_type": "execute_result"
    }
   ],
   "source": [
    "#inspecting dataframe\n",
    "df.head()"
   ]
  },
  {
   "cell_type": "code",
   "execution_count": 7,
   "metadata": {
    "execution": {
     "iopub.execute_input": "2021-05-20T13:38:07.063465Z",
     "iopub.status.busy": "2021-05-20T13:38:07.063230Z",
     "iopub.status.idle": "2021-05-20T13:38:07.090337Z",
     "shell.execute_reply": "2021-05-20T13:38:07.089334Z",
     "shell.execute_reply.started": "2021-05-20T13:38:07.063442Z"
    }
   },
   "outputs": [
    {
     "data": {
      "text/html": [
       "<div>\n",
       "<style scoped>\n",
       "    .dataframe tbody tr th:only-of-type {\n",
       "        vertical-align: middle;\n",
       "    }\n",
       "\n",
       "    .dataframe tbody tr th {\n",
       "        vertical-align: top;\n",
       "    }\n",
       "\n",
       "    .dataframe thead th {\n",
       "        text-align: right;\n",
       "    }\n",
       "</style>\n",
       "<table border=\"1\" class=\"dataframe\">\n",
       "  <thead>\n",
       "    <tr style=\"text-align: right;\">\n",
       "      <th></th>\n",
       "      <th>id</th>\n",
       "      <th>url</th>\n",
       "      <th>region</th>\n",
       "      <th>region_url</th>\n",
       "      <th>price</th>\n",
       "      <th>year</th>\n",
       "      <th>manufacturer</th>\n",
       "      <th>model</th>\n",
       "      <th>condition</th>\n",
       "      <th>cylinders</th>\n",
       "      <th>fuel</th>\n",
       "      <th>odometer</th>\n",
       "      <th>title_status</th>\n",
       "      <th>transmission</th>\n",
       "      <th>VIN</th>\n",
       "      <th>drive</th>\n",
       "      <th>size</th>\n",
       "      <th>type</th>\n",
       "      <th>paint_color</th>\n",
       "      <th>image_url</th>\n",
       "      <th>description</th>\n",
       "      <th>county</th>\n",
       "      <th>state</th>\n",
       "      <th>lat</th>\n",
       "      <th>long</th>\n",
       "      <th>posting_date</th>\n",
       "    </tr>\n",
       "  </thead>\n",
       "  <tbody>\n",
       "    <tr>\n",
       "      <th>426875</th>\n",
       "      <td>7301591192</td>\n",
       "      <td>https://wyoming.craigslist.org/ctd/d/atlanta-2...</td>\n",
       "      <td>wyoming</td>\n",
       "      <td>https://wyoming.craigslist.org</td>\n",
       "      <td>23590</td>\n",
       "      <td>2019.0</td>\n",
       "      <td>nissan</td>\n",
       "      <td>maxima s sedan 4d</td>\n",
       "      <td>good</td>\n",
       "      <td>6 cylinders</td>\n",
       "      <td>gas</td>\n",
       "      <td>32226.0</td>\n",
       "      <td>clean</td>\n",
       "      <td>other</td>\n",
       "      <td>1N4AA6AV6KC367801</td>\n",
       "      <td>fwd</td>\n",
       "      <td>NaN</td>\n",
       "      <td>sedan</td>\n",
       "      <td>NaN</td>\n",
       "      <td>https://images.craigslist.org/00o0o_iiraFnHg8q...</td>\n",
       "      <td>Carvana is the safer way to buy a car During t...</td>\n",
       "      <td>NaN</td>\n",
       "      <td>wy</td>\n",
       "      <td>33.786500</td>\n",
       "      <td>-84.445400</td>\n",
       "      <td>2021-04-04T03:21:31-0600</td>\n",
       "    </tr>\n",
       "    <tr>\n",
       "      <th>426876</th>\n",
       "      <td>7301591187</td>\n",
       "      <td>https://wyoming.craigslist.org/ctd/d/atlanta-2...</td>\n",
       "      <td>wyoming</td>\n",
       "      <td>https://wyoming.craigslist.org</td>\n",
       "      <td>30590</td>\n",
       "      <td>2020.0</td>\n",
       "      <td>volvo</td>\n",
       "      <td>s60 t5 momentum sedan 4d</td>\n",
       "      <td>good</td>\n",
       "      <td>NaN</td>\n",
       "      <td>gas</td>\n",
       "      <td>12029.0</td>\n",
       "      <td>clean</td>\n",
       "      <td>other</td>\n",
       "      <td>7JR102FKXLG042696</td>\n",
       "      <td>fwd</td>\n",
       "      <td>NaN</td>\n",
       "      <td>sedan</td>\n",
       "      <td>red</td>\n",
       "      <td>https://images.craigslist.org/00x0x_15sbgnxCIS...</td>\n",
       "      <td>Carvana is the safer way to buy a car During t...</td>\n",
       "      <td>NaN</td>\n",
       "      <td>wy</td>\n",
       "      <td>33.786500</td>\n",
       "      <td>-84.445400</td>\n",
       "      <td>2021-04-04T03:21:29-0600</td>\n",
       "    </tr>\n",
       "    <tr>\n",
       "      <th>426877</th>\n",
       "      <td>7301591147</td>\n",
       "      <td>https://wyoming.craigslist.org/ctd/d/atlanta-2...</td>\n",
       "      <td>wyoming</td>\n",
       "      <td>https://wyoming.craigslist.org</td>\n",
       "      <td>34990</td>\n",
       "      <td>2020.0</td>\n",
       "      <td>cadillac</td>\n",
       "      <td>xt4 sport suv 4d</td>\n",
       "      <td>good</td>\n",
       "      <td>NaN</td>\n",
       "      <td>diesel</td>\n",
       "      <td>4174.0</td>\n",
       "      <td>clean</td>\n",
       "      <td>other</td>\n",
       "      <td>1GYFZFR46LF088296</td>\n",
       "      <td>NaN</td>\n",
       "      <td>NaN</td>\n",
       "      <td>hatchback</td>\n",
       "      <td>white</td>\n",
       "      <td>https://images.craigslist.org/00L0L_farM7bxnxR...</td>\n",
       "      <td>Carvana is the safer way to buy a car During t...</td>\n",
       "      <td>NaN</td>\n",
       "      <td>wy</td>\n",
       "      <td>33.779214</td>\n",
       "      <td>-84.411811</td>\n",
       "      <td>2021-04-04T03:21:17-0600</td>\n",
       "    </tr>\n",
       "    <tr>\n",
       "      <th>426878</th>\n",
       "      <td>7301591140</td>\n",
       "      <td>https://wyoming.craigslist.org/ctd/d/atlanta-2...</td>\n",
       "      <td>wyoming</td>\n",
       "      <td>https://wyoming.craigslist.org</td>\n",
       "      <td>28990</td>\n",
       "      <td>2018.0</td>\n",
       "      <td>lexus</td>\n",
       "      <td>es 350 sedan 4d</td>\n",
       "      <td>good</td>\n",
       "      <td>6 cylinders</td>\n",
       "      <td>gas</td>\n",
       "      <td>30112.0</td>\n",
       "      <td>clean</td>\n",
       "      <td>other</td>\n",
       "      <td>58ABK1GG4JU103853</td>\n",
       "      <td>fwd</td>\n",
       "      <td>NaN</td>\n",
       "      <td>sedan</td>\n",
       "      <td>silver</td>\n",
       "      <td>https://images.craigslist.org/00z0z_bKnIVGLkDT...</td>\n",
       "      <td>Carvana is the safer way to buy a car During t...</td>\n",
       "      <td>NaN</td>\n",
       "      <td>wy</td>\n",
       "      <td>33.786500</td>\n",
       "      <td>-84.445400</td>\n",
       "      <td>2021-04-04T03:21:11-0600</td>\n",
       "    </tr>\n",
       "    <tr>\n",
       "      <th>426879</th>\n",
       "      <td>7301591129</td>\n",
       "      <td>https://wyoming.craigslist.org/ctd/d/atlanta-2...</td>\n",
       "      <td>wyoming</td>\n",
       "      <td>https://wyoming.craigslist.org</td>\n",
       "      <td>30590</td>\n",
       "      <td>2019.0</td>\n",
       "      <td>bmw</td>\n",
       "      <td>4 series 430i gran coupe</td>\n",
       "      <td>good</td>\n",
       "      <td>NaN</td>\n",
       "      <td>gas</td>\n",
       "      <td>22716.0</td>\n",
       "      <td>clean</td>\n",
       "      <td>other</td>\n",
       "      <td>WBA4J1C58KBM14708</td>\n",
       "      <td>rwd</td>\n",
       "      <td>NaN</td>\n",
       "      <td>coupe</td>\n",
       "      <td>NaN</td>\n",
       "      <td>https://images.craigslist.org/00Y0Y_lEUocjyRxa...</td>\n",
       "      <td>Carvana is the safer way to buy a car During t...</td>\n",
       "      <td>NaN</td>\n",
       "      <td>wy</td>\n",
       "      <td>33.779214</td>\n",
       "      <td>-84.411811</td>\n",
       "      <td>2021-04-04T03:21:07-0600</td>\n",
       "    </tr>\n",
       "  </tbody>\n",
       "</table>\n",
       "</div>"
      ],
      "text/plain": [
       "                id                                                url  \\\n",
       "426875  7301591192  https://wyoming.craigslist.org/ctd/d/atlanta-2...   \n",
       "426876  7301591187  https://wyoming.craigslist.org/ctd/d/atlanta-2...   \n",
       "426877  7301591147  https://wyoming.craigslist.org/ctd/d/atlanta-2...   \n",
       "426878  7301591140  https://wyoming.craigslist.org/ctd/d/atlanta-2...   \n",
       "426879  7301591129  https://wyoming.craigslist.org/ctd/d/atlanta-2...   \n",
       "\n",
       "         region                      region_url  price    year manufacturer  \\\n",
       "426875  wyoming  https://wyoming.craigslist.org  23590  2019.0       nissan   \n",
       "426876  wyoming  https://wyoming.craigslist.org  30590  2020.0        volvo   \n",
       "426877  wyoming  https://wyoming.craigslist.org  34990  2020.0     cadillac   \n",
       "426878  wyoming  https://wyoming.craigslist.org  28990  2018.0        lexus   \n",
       "426879  wyoming  https://wyoming.craigslist.org  30590  2019.0          bmw   \n",
       "\n",
       "                           model condition    cylinders    fuel  odometer  \\\n",
       "426875         maxima s sedan 4d      good  6 cylinders     gas   32226.0   \n",
       "426876  s60 t5 momentum sedan 4d      good          NaN     gas   12029.0   \n",
       "426877          xt4 sport suv 4d      good          NaN  diesel    4174.0   \n",
       "426878           es 350 sedan 4d      good  6 cylinders     gas   30112.0   \n",
       "426879  4 series 430i gran coupe      good          NaN     gas   22716.0   \n",
       "\n",
       "       title_status transmission                VIN drive size       type  \\\n",
       "426875        clean        other  1N4AA6AV6KC367801   fwd  NaN      sedan   \n",
       "426876        clean        other  7JR102FKXLG042696   fwd  NaN      sedan   \n",
       "426877        clean        other  1GYFZFR46LF088296   NaN  NaN  hatchback   \n",
       "426878        clean        other  58ABK1GG4JU103853   fwd  NaN      sedan   \n",
       "426879        clean        other  WBA4J1C58KBM14708   rwd  NaN      coupe   \n",
       "\n",
       "       paint_color                                          image_url  \\\n",
       "426875         NaN  https://images.craigslist.org/00o0o_iiraFnHg8q...   \n",
       "426876         red  https://images.craigslist.org/00x0x_15sbgnxCIS...   \n",
       "426877       white  https://images.craigslist.org/00L0L_farM7bxnxR...   \n",
       "426878      silver  https://images.craigslist.org/00z0z_bKnIVGLkDT...   \n",
       "426879         NaN  https://images.craigslist.org/00Y0Y_lEUocjyRxa...   \n",
       "\n",
       "                                              description  county state  \\\n",
       "426875  Carvana is the safer way to buy a car During t...     NaN    wy   \n",
       "426876  Carvana is the safer way to buy a car During t...     NaN    wy   \n",
       "426877  Carvana is the safer way to buy a car During t...     NaN    wy   \n",
       "426878  Carvana is the safer way to buy a car During t...     NaN    wy   \n",
       "426879  Carvana is the safer way to buy a car During t...     NaN    wy   \n",
       "\n",
       "              lat       long              posting_date  \n",
       "426875  33.786500 -84.445400  2021-04-04T03:21:31-0600  \n",
       "426876  33.786500 -84.445400  2021-04-04T03:21:29-0600  \n",
       "426877  33.779214 -84.411811  2021-04-04T03:21:17-0600  \n",
       "426878  33.786500 -84.445400  2021-04-04T03:21:11-0600  \n",
       "426879  33.779214 -84.411811  2021-04-04T03:21:07-0600  "
      ]
     },
     "execution_count": 7,
     "metadata": {},
     "output_type": "execute_result"
    }
   ],
   "source": [
    "#inspecting dataframe\n",
    "df.tail()"
   ]
  },
  {
   "cell_type": "code",
   "execution_count": 8,
   "metadata": {
    "execution": {
     "iopub.execute_input": "2021-05-20T13:38:07.092182Z",
     "iopub.status.busy": "2021-05-20T13:38:07.091924Z",
     "iopub.status.idle": "2021-05-20T13:38:07.126919Z",
     "shell.execute_reply": "2021-05-20T13:38:07.125974Z",
     "shell.execute_reply.started": "2021-05-20T13:38:07.092157Z"
    }
   },
   "outputs": [
    {
     "data": {
      "text/html": [
       "<div>\n",
       "<style scoped>\n",
       "    .dataframe tbody tr th:only-of-type {\n",
       "        vertical-align: middle;\n",
       "    }\n",
       "\n",
       "    .dataframe tbody tr th {\n",
       "        vertical-align: top;\n",
       "    }\n",
       "\n",
       "    .dataframe thead th {\n",
       "        text-align: right;\n",
       "    }\n",
       "</style>\n",
       "<table border=\"1\" class=\"dataframe\">\n",
       "  <thead>\n",
       "    <tr style=\"text-align: right;\">\n",
       "      <th></th>\n",
       "      <th>id</th>\n",
       "      <th>url</th>\n",
       "      <th>region</th>\n",
       "      <th>region_url</th>\n",
       "      <th>price</th>\n",
       "      <th>year</th>\n",
       "      <th>manufacturer</th>\n",
       "      <th>model</th>\n",
       "      <th>condition</th>\n",
       "      <th>cylinders</th>\n",
       "      <th>fuel</th>\n",
       "      <th>odometer</th>\n",
       "      <th>title_status</th>\n",
       "      <th>transmission</th>\n",
       "      <th>VIN</th>\n",
       "      <th>drive</th>\n",
       "      <th>size</th>\n",
       "      <th>type</th>\n",
       "      <th>paint_color</th>\n",
       "      <th>image_url</th>\n",
       "      <th>description</th>\n",
       "      <th>county</th>\n",
       "      <th>state</th>\n",
       "      <th>lat</th>\n",
       "      <th>long</th>\n",
       "      <th>posting_date</th>\n",
       "    </tr>\n",
       "  </thead>\n",
       "  <tbody>\n",
       "    <tr>\n",
       "      <th>270582</th>\n",
       "      <td>7310143429</td>\n",
       "      <td>https://hudsonvalley.craigslist.org/cto/d/west...</td>\n",
       "      <td>hudson valley</td>\n",
       "      <td>https://hudsonvalley.craigslist.org</td>\n",
       "      <td>29500</td>\n",
       "      <td>1997.0</td>\n",
       "      <td>mitsubishi</td>\n",
       "      <td>3000gt vr-4</td>\n",
       "      <td>like new</td>\n",
       "      <td>6 cylinders</td>\n",
       "      <td>gas</td>\n",
       "      <td>34270.0</td>\n",
       "      <td>clean</td>\n",
       "      <td>manual</td>\n",
       "      <td>NaN</td>\n",
       "      <td>4wd</td>\n",
       "      <td>NaN</td>\n",
       "      <td>coupe</td>\n",
       "      <td>green</td>\n",
       "      <td>https://images.craigslist.org/00s0s_lj2XaIcATW...</td>\n",
       "      <td>For sale is my 1997 Mitsubishi 3000GT VR-4 wit...</td>\n",
       "      <td>NaN</td>\n",
       "      <td>ny</td>\n",
       "      <td>41.3945</td>\n",
       "      <td>-73.9737</td>\n",
       "      <td>2021-04-20T21:08:38-0400</td>\n",
       "    </tr>\n",
       "  </tbody>\n",
       "</table>\n",
       "</div>"
      ],
      "text/plain": [
       "                id                                                url  \\\n",
       "270582  7310143429  https://hudsonvalley.craigslist.org/cto/d/west...   \n",
       "\n",
       "               region                           region_url  price    year  \\\n",
       "270582  hudson valley  https://hudsonvalley.craigslist.org  29500  1997.0   \n",
       "\n",
       "       manufacturer        model condition    cylinders fuel  odometer  \\\n",
       "270582   mitsubishi  3000gt vr-4  like new  6 cylinders  gas   34270.0   \n",
       "\n",
       "       title_status transmission  VIN drive size   type paint_color  \\\n",
       "270582        clean       manual  NaN   4wd  NaN  coupe       green   \n",
       "\n",
       "                                                image_url  \\\n",
       "270582  https://images.craigslist.org/00s0s_lj2XaIcATW...   \n",
       "\n",
       "                                              description  county state  \\\n",
       "270582  For sale is my 1997 Mitsubishi 3000GT VR-4 wit...     NaN    ny   \n",
       "\n",
       "            lat     long              posting_date  \n",
       "270582  41.3945 -73.9737  2021-04-20T21:08:38-0400  "
      ]
     },
     "execution_count": 8,
     "metadata": {},
     "output_type": "execute_result"
    }
   ],
   "source": [
    "#a sample of the dataframe\n",
    "df.sample()"
   ]
  },
  {
   "cell_type": "code",
   "execution_count": 9,
   "metadata": {
    "execution": {
     "iopub.execute_input": "2021-05-20T13:38:07.128402Z",
     "iopub.status.busy": "2021-05-20T13:38:07.128107Z",
     "iopub.status.idle": "2021-05-20T13:38:07.813217Z",
     "shell.execute_reply": "2021-05-20T13:38:07.812092Z",
     "shell.execute_reply.started": "2021-05-20T13:38:07.128358Z"
    }
   },
   "outputs": [
    {
     "name": "stdout",
     "output_type": "stream",
     "text": [
      "<class 'pandas.core.frame.DataFrame'>\n",
      "RangeIndex: 426880 entries, 0 to 426879\n",
      "Data columns (total 26 columns):\n",
      " #   Column        Non-Null Count   Dtype  \n",
      "---  ------        --------------   -----  \n",
      " 0   id            426880 non-null  int64  \n",
      " 1   url           426880 non-null  object \n",
      " 2   region        426880 non-null  object \n",
      " 3   region_url    426880 non-null  object \n",
      " 4   price         426880 non-null  int64  \n",
      " 5   year          425675 non-null  float64\n",
      " 6   manufacturer  409234 non-null  object \n",
      " 7   model         421603 non-null  object \n",
      " 8   condition     252776 non-null  object \n",
      " 9   cylinders     249202 non-null  object \n",
      " 10  fuel          423867 non-null  object \n",
      " 11  odometer      422480 non-null  float64\n",
      " 12  title_status  418638 non-null  object \n",
      " 13  transmission  424324 non-null  object \n",
      " 14  VIN           265838 non-null  object \n",
      " 15  drive         296313 non-null  object \n",
      " 16  size          120519 non-null  object \n",
      " 17  type          334022 non-null  object \n",
      " 18  paint_color   296677 non-null  object \n",
      " 19  image_url     426812 non-null  object \n",
      " 20  description   426810 non-null  object \n",
      " 21  county        0 non-null       float64\n",
      " 22  state         426880 non-null  object \n",
      " 23  lat           420331 non-null  float64\n",
      " 24  long          420331 non-null  float64\n",
      " 25  posting_date  426812 non-null  object \n",
      "dtypes: float64(5), int64(2), object(19)\n",
      "memory usage: 84.7+ MB\n"
     ]
    }
   ],
   "source": [
    "#checking the summary of the dataframe\n",
    "df.info()"
   ]
  },
  {
   "cell_type": "code",
   "execution_count": 10,
   "metadata": {
    "execution": {
     "iopub.execute_input": "2021-05-20T13:38:07.814654Z",
     "iopub.status.busy": "2021-05-20T13:38:07.814387Z",
     "iopub.status.idle": "2021-05-20T13:38:14.159418Z",
     "shell.execute_reply": "2021-05-20T13:38:14.158572Z",
     "shell.execute_reply.started": "2021-05-20T13:38:07.814626Z"
    }
   },
   "outputs": [
    {
     "data": {
      "text/html": [
       "<div>\n",
       "<style scoped>\n",
       "    .dataframe tbody tr th:only-of-type {\n",
       "        vertical-align: middle;\n",
       "    }\n",
       "\n",
       "    .dataframe tbody tr th {\n",
       "        vertical-align: top;\n",
       "    }\n",
       "\n",
       "    .dataframe thead th {\n",
       "        text-align: right;\n",
       "    }\n",
       "</style>\n",
       "<table border=\"1\" class=\"dataframe\">\n",
       "  <thead>\n",
       "    <tr style=\"text-align: right;\">\n",
       "      <th></th>\n",
       "      <th>id</th>\n",
       "      <th>url</th>\n",
       "      <th>region</th>\n",
       "      <th>region_url</th>\n",
       "      <th>price</th>\n",
       "      <th>year</th>\n",
       "      <th>manufacturer</th>\n",
       "      <th>model</th>\n",
       "      <th>condition</th>\n",
       "      <th>cylinders</th>\n",
       "      <th>fuel</th>\n",
       "      <th>odometer</th>\n",
       "      <th>title_status</th>\n",
       "      <th>transmission</th>\n",
       "      <th>VIN</th>\n",
       "      <th>drive</th>\n",
       "      <th>size</th>\n",
       "      <th>type</th>\n",
       "      <th>paint_color</th>\n",
       "      <th>image_url</th>\n",
       "      <th>description</th>\n",
       "      <th>county</th>\n",
       "      <th>state</th>\n",
       "      <th>lat</th>\n",
       "      <th>long</th>\n",
       "      <th>posting_date</th>\n",
       "    </tr>\n",
       "  </thead>\n",
       "  <tbody>\n",
       "    <tr>\n",
       "      <th>count</th>\n",
       "      <td>4.268800e+05</td>\n",
       "      <td>426880</td>\n",
       "      <td>426880</td>\n",
       "      <td>426880</td>\n",
       "      <td>4.268800e+05</td>\n",
       "      <td>425675.000000</td>\n",
       "      <td>409234</td>\n",
       "      <td>421603</td>\n",
       "      <td>252776</td>\n",
       "      <td>249202</td>\n",
       "      <td>423867</td>\n",
       "      <td>4.224800e+05</td>\n",
       "      <td>418638</td>\n",
       "      <td>424324</td>\n",
       "      <td>265838</td>\n",
       "      <td>296313</td>\n",
       "      <td>120519</td>\n",
       "      <td>334022</td>\n",
       "      <td>296677</td>\n",
       "      <td>426812</td>\n",
       "      <td>426810</td>\n",
       "      <td>0.0</td>\n",
       "      <td>426880</td>\n",
       "      <td>420331.000000</td>\n",
       "      <td>420331.000000</td>\n",
       "      <td>426812</td>\n",
       "    </tr>\n",
       "    <tr>\n",
       "      <th>unique</th>\n",
       "      <td>NaN</td>\n",
       "      <td>426880</td>\n",
       "      <td>404</td>\n",
       "      <td>413</td>\n",
       "      <td>NaN</td>\n",
       "      <td>NaN</td>\n",
       "      <td>42</td>\n",
       "      <td>29667</td>\n",
       "      <td>6</td>\n",
       "      <td>8</td>\n",
       "      <td>5</td>\n",
       "      <td>NaN</td>\n",
       "      <td>6</td>\n",
       "      <td>3</td>\n",
       "      <td>118264</td>\n",
       "      <td>3</td>\n",
       "      <td>4</td>\n",
       "      <td>13</td>\n",
       "      <td>12</td>\n",
       "      <td>241899</td>\n",
       "      <td>360911</td>\n",
       "      <td>NaN</td>\n",
       "      <td>51</td>\n",
       "      <td>NaN</td>\n",
       "      <td>NaN</td>\n",
       "      <td>381536</td>\n",
       "    </tr>\n",
       "    <tr>\n",
       "      <th>top</th>\n",
       "      <td>NaN</td>\n",
       "      <td>https://phoenix.craigslist.org/nph/ctd/d/phoen...</td>\n",
       "      <td>columbus</td>\n",
       "      <td>https://spokane.craigslist.org</td>\n",
       "      <td>NaN</td>\n",
       "      <td>NaN</td>\n",
       "      <td>ford</td>\n",
       "      <td>f-150</td>\n",
       "      <td>good</td>\n",
       "      <td>6 cylinders</td>\n",
       "      <td>gas</td>\n",
       "      <td>NaN</td>\n",
       "      <td>clean</td>\n",
       "      <td>automatic</td>\n",
       "      <td>1FMJU1JT1HEA52352</td>\n",
       "      <td>4wd</td>\n",
       "      <td>full-size</td>\n",
       "      <td>sedan</td>\n",
       "      <td>white</td>\n",
       "      <td>https://images.craigslist.org/00N0N_1xMPvfxRAI...</td>\n",
       "      <td>35 VEHICLES PRICED UNDER $3000!!!  BIG TIME! T...</td>\n",
       "      <td>NaN</td>\n",
       "      <td>ca</td>\n",
       "      <td>NaN</td>\n",
       "      <td>NaN</td>\n",
       "      <td>2021-04-23T22:13:05-0400</td>\n",
       "    </tr>\n",
       "    <tr>\n",
       "      <th>freq</th>\n",
       "      <td>NaN</td>\n",
       "      <td>1</td>\n",
       "      <td>3608</td>\n",
       "      <td>2988</td>\n",
       "      <td>NaN</td>\n",
       "      <td>NaN</td>\n",
       "      <td>70985</td>\n",
       "      <td>8009</td>\n",
       "      <td>121456</td>\n",
       "      <td>94169</td>\n",
       "      <td>356209</td>\n",
       "      <td>NaN</td>\n",
       "      <td>405117</td>\n",
       "      <td>336524</td>\n",
       "      <td>261</td>\n",
       "      <td>131904</td>\n",
       "      <td>63465</td>\n",
       "      <td>87056</td>\n",
       "      <td>79285</td>\n",
       "      <td>7357</td>\n",
       "      <td>231</td>\n",
       "      <td>NaN</td>\n",
       "      <td>50614</td>\n",
       "      <td>NaN</td>\n",
       "      <td>NaN</td>\n",
       "      <td>12</td>\n",
       "    </tr>\n",
       "    <tr>\n",
       "      <th>mean</th>\n",
       "      <td>7.311487e+09</td>\n",
       "      <td>NaN</td>\n",
       "      <td>NaN</td>\n",
       "      <td>NaN</td>\n",
       "      <td>7.519903e+04</td>\n",
       "      <td>2011.235191</td>\n",
       "      <td>NaN</td>\n",
       "      <td>NaN</td>\n",
       "      <td>NaN</td>\n",
       "      <td>NaN</td>\n",
       "      <td>NaN</td>\n",
       "      <td>9.804333e+04</td>\n",
       "      <td>NaN</td>\n",
       "      <td>NaN</td>\n",
       "      <td>NaN</td>\n",
       "      <td>NaN</td>\n",
       "      <td>NaN</td>\n",
       "      <td>NaN</td>\n",
       "      <td>NaN</td>\n",
       "      <td>NaN</td>\n",
       "      <td>NaN</td>\n",
       "      <td>NaN</td>\n",
       "      <td>NaN</td>\n",
       "      <td>38.493940</td>\n",
       "      <td>-94.748599</td>\n",
       "      <td>NaN</td>\n",
       "    </tr>\n",
       "    <tr>\n",
       "      <th>std</th>\n",
       "      <td>4.473170e+06</td>\n",
       "      <td>NaN</td>\n",
       "      <td>NaN</td>\n",
       "      <td>NaN</td>\n",
       "      <td>1.218228e+07</td>\n",
       "      <td>9.452120</td>\n",
       "      <td>NaN</td>\n",
       "      <td>NaN</td>\n",
       "      <td>NaN</td>\n",
       "      <td>NaN</td>\n",
       "      <td>NaN</td>\n",
       "      <td>2.138815e+05</td>\n",
       "      <td>NaN</td>\n",
       "      <td>NaN</td>\n",
       "      <td>NaN</td>\n",
       "      <td>NaN</td>\n",
       "      <td>NaN</td>\n",
       "      <td>NaN</td>\n",
       "      <td>NaN</td>\n",
       "      <td>NaN</td>\n",
       "      <td>NaN</td>\n",
       "      <td>NaN</td>\n",
       "      <td>NaN</td>\n",
       "      <td>5.841533</td>\n",
       "      <td>18.365462</td>\n",
       "      <td>NaN</td>\n",
       "    </tr>\n",
       "    <tr>\n",
       "      <th>min</th>\n",
       "      <td>7.207408e+09</td>\n",
       "      <td>NaN</td>\n",
       "      <td>NaN</td>\n",
       "      <td>NaN</td>\n",
       "      <td>0.000000e+00</td>\n",
       "      <td>1900.000000</td>\n",
       "      <td>NaN</td>\n",
       "      <td>NaN</td>\n",
       "      <td>NaN</td>\n",
       "      <td>NaN</td>\n",
       "      <td>NaN</td>\n",
       "      <td>0.000000e+00</td>\n",
       "      <td>NaN</td>\n",
       "      <td>NaN</td>\n",
       "      <td>NaN</td>\n",
       "      <td>NaN</td>\n",
       "      <td>NaN</td>\n",
       "      <td>NaN</td>\n",
       "      <td>NaN</td>\n",
       "      <td>NaN</td>\n",
       "      <td>NaN</td>\n",
       "      <td>NaN</td>\n",
       "      <td>NaN</td>\n",
       "      <td>-84.122245</td>\n",
       "      <td>-159.827728</td>\n",
       "      <td>NaN</td>\n",
       "    </tr>\n",
       "    <tr>\n",
       "      <th>25%</th>\n",
       "      <td>7.308143e+09</td>\n",
       "      <td>NaN</td>\n",
       "      <td>NaN</td>\n",
       "      <td>NaN</td>\n",
       "      <td>5.900000e+03</td>\n",
       "      <td>2008.000000</td>\n",
       "      <td>NaN</td>\n",
       "      <td>NaN</td>\n",
       "      <td>NaN</td>\n",
       "      <td>NaN</td>\n",
       "      <td>NaN</td>\n",
       "      <td>3.770400e+04</td>\n",
       "      <td>NaN</td>\n",
       "      <td>NaN</td>\n",
       "      <td>NaN</td>\n",
       "      <td>NaN</td>\n",
       "      <td>NaN</td>\n",
       "      <td>NaN</td>\n",
       "      <td>NaN</td>\n",
       "      <td>NaN</td>\n",
       "      <td>NaN</td>\n",
       "      <td>NaN</td>\n",
       "      <td>NaN</td>\n",
       "      <td>34.601900</td>\n",
       "      <td>-111.939847</td>\n",
       "      <td>NaN</td>\n",
       "    </tr>\n",
       "    <tr>\n",
       "      <th>50%</th>\n",
       "      <td>7.312621e+09</td>\n",
       "      <td>NaN</td>\n",
       "      <td>NaN</td>\n",
       "      <td>NaN</td>\n",
       "      <td>1.395000e+04</td>\n",
       "      <td>2013.000000</td>\n",
       "      <td>NaN</td>\n",
       "      <td>NaN</td>\n",
       "      <td>NaN</td>\n",
       "      <td>NaN</td>\n",
       "      <td>NaN</td>\n",
       "      <td>8.554800e+04</td>\n",
       "      <td>NaN</td>\n",
       "      <td>NaN</td>\n",
       "      <td>NaN</td>\n",
       "      <td>NaN</td>\n",
       "      <td>NaN</td>\n",
       "      <td>NaN</td>\n",
       "      <td>NaN</td>\n",
       "      <td>NaN</td>\n",
       "      <td>NaN</td>\n",
       "      <td>NaN</td>\n",
       "      <td>NaN</td>\n",
       "      <td>39.150100</td>\n",
       "      <td>-88.432600</td>\n",
       "      <td>NaN</td>\n",
       "    </tr>\n",
       "    <tr>\n",
       "      <th>75%</th>\n",
       "      <td>7.315254e+09</td>\n",
       "      <td>NaN</td>\n",
       "      <td>NaN</td>\n",
       "      <td>NaN</td>\n",
       "      <td>2.648575e+04</td>\n",
       "      <td>2017.000000</td>\n",
       "      <td>NaN</td>\n",
       "      <td>NaN</td>\n",
       "      <td>NaN</td>\n",
       "      <td>NaN</td>\n",
       "      <td>NaN</td>\n",
       "      <td>1.335425e+05</td>\n",
       "      <td>NaN</td>\n",
       "      <td>NaN</td>\n",
       "      <td>NaN</td>\n",
       "      <td>NaN</td>\n",
       "      <td>NaN</td>\n",
       "      <td>NaN</td>\n",
       "      <td>NaN</td>\n",
       "      <td>NaN</td>\n",
       "      <td>NaN</td>\n",
       "      <td>NaN</td>\n",
       "      <td>NaN</td>\n",
       "      <td>42.398900</td>\n",
       "      <td>-80.832039</td>\n",
       "      <td>NaN</td>\n",
       "    </tr>\n",
       "    <tr>\n",
       "      <th>max</th>\n",
       "      <td>7.317101e+09</td>\n",
       "      <td>NaN</td>\n",
       "      <td>NaN</td>\n",
       "      <td>NaN</td>\n",
       "      <td>3.736929e+09</td>\n",
       "      <td>2022.000000</td>\n",
       "      <td>NaN</td>\n",
       "      <td>NaN</td>\n",
       "      <td>NaN</td>\n",
       "      <td>NaN</td>\n",
       "      <td>NaN</td>\n",
       "      <td>1.000000e+07</td>\n",
       "      <td>NaN</td>\n",
       "      <td>NaN</td>\n",
       "      <td>NaN</td>\n",
       "      <td>NaN</td>\n",
       "      <td>NaN</td>\n",
       "      <td>NaN</td>\n",
       "      <td>NaN</td>\n",
       "      <td>NaN</td>\n",
       "      <td>NaN</td>\n",
       "      <td>NaN</td>\n",
       "      <td>NaN</td>\n",
       "      <td>82.390818</td>\n",
       "      <td>173.885502</td>\n",
       "      <td>NaN</td>\n",
       "    </tr>\n",
       "  </tbody>\n",
       "</table>\n",
       "</div>"
      ],
      "text/plain": [
       "                  id                                                url  \\\n",
       "count   4.268800e+05                                             426880   \n",
       "unique           NaN                                             426880   \n",
       "top              NaN  https://phoenix.craigslist.org/nph/ctd/d/phoen...   \n",
       "freq             NaN                                                  1   \n",
       "mean    7.311487e+09                                                NaN   \n",
       "std     4.473170e+06                                                NaN   \n",
       "min     7.207408e+09                                                NaN   \n",
       "25%     7.308143e+09                                                NaN   \n",
       "50%     7.312621e+09                                                NaN   \n",
       "75%     7.315254e+09                                                NaN   \n",
       "max     7.317101e+09                                                NaN   \n",
       "\n",
       "          region                      region_url         price           year  \\\n",
       "count     426880                          426880  4.268800e+05  425675.000000   \n",
       "unique       404                             413           NaN            NaN   \n",
       "top     columbus  https://spokane.craigslist.org           NaN            NaN   \n",
       "freq        3608                            2988           NaN            NaN   \n",
       "mean         NaN                             NaN  7.519903e+04    2011.235191   \n",
       "std          NaN                             NaN  1.218228e+07       9.452120   \n",
       "min          NaN                             NaN  0.000000e+00    1900.000000   \n",
       "25%          NaN                             NaN  5.900000e+03    2008.000000   \n",
       "50%          NaN                             NaN  1.395000e+04    2013.000000   \n",
       "75%          NaN                             NaN  2.648575e+04    2017.000000   \n",
       "max          NaN                             NaN  3.736929e+09    2022.000000   \n",
       "\n",
       "       manufacturer   model condition    cylinders    fuel      odometer  \\\n",
       "count        409234  421603    252776       249202  423867  4.224800e+05   \n",
       "unique           42   29667         6            8       5           NaN   \n",
       "top            ford   f-150      good  6 cylinders     gas           NaN   \n",
       "freq          70985    8009    121456        94169  356209           NaN   \n",
       "mean            NaN     NaN       NaN          NaN     NaN  9.804333e+04   \n",
       "std             NaN     NaN       NaN          NaN     NaN  2.138815e+05   \n",
       "min             NaN     NaN       NaN          NaN     NaN  0.000000e+00   \n",
       "25%             NaN     NaN       NaN          NaN     NaN  3.770400e+04   \n",
       "50%             NaN     NaN       NaN          NaN     NaN  8.554800e+04   \n",
       "75%             NaN     NaN       NaN          NaN     NaN  1.335425e+05   \n",
       "max             NaN     NaN       NaN          NaN     NaN  1.000000e+07   \n",
       "\n",
       "       title_status transmission                VIN   drive       size  \\\n",
       "count        418638       424324             265838  296313     120519   \n",
       "unique            6            3             118264       3          4   \n",
       "top           clean    automatic  1FMJU1JT1HEA52352     4wd  full-size   \n",
       "freq         405117       336524                261  131904      63465   \n",
       "mean            NaN          NaN                NaN     NaN        NaN   \n",
       "std             NaN          NaN                NaN     NaN        NaN   \n",
       "min             NaN          NaN                NaN     NaN        NaN   \n",
       "25%             NaN          NaN                NaN     NaN        NaN   \n",
       "50%             NaN          NaN                NaN     NaN        NaN   \n",
       "75%             NaN          NaN                NaN     NaN        NaN   \n",
       "max             NaN          NaN                NaN     NaN        NaN   \n",
       "\n",
       "          type paint_color                                          image_url  \\\n",
       "count   334022      296677                                             426812   \n",
       "unique      13          12                                             241899   \n",
       "top      sedan       white  https://images.craigslist.org/00N0N_1xMPvfxRAI...   \n",
       "freq     87056       79285                                               7357   \n",
       "mean       NaN         NaN                                                NaN   \n",
       "std        NaN         NaN                                                NaN   \n",
       "min        NaN         NaN                                                NaN   \n",
       "25%        NaN         NaN                                                NaN   \n",
       "50%        NaN         NaN                                                NaN   \n",
       "75%        NaN         NaN                                                NaN   \n",
       "max        NaN         NaN                                                NaN   \n",
       "\n",
       "                                              description  county   state  \\\n",
       "count                                              426810     0.0  426880   \n",
       "unique                                             360911     NaN      51   \n",
       "top     35 VEHICLES PRICED UNDER $3000!!!  BIG TIME! T...     NaN      ca   \n",
       "freq                                                  231     NaN   50614   \n",
       "mean                                                  NaN     NaN     NaN   \n",
       "std                                                   NaN     NaN     NaN   \n",
       "min                                                   NaN     NaN     NaN   \n",
       "25%                                                   NaN     NaN     NaN   \n",
       "50%                                                   NaN     NaN     NaN   \n",
       "75%                                                   NaN     NaN     NaN   \n",
       "max                                                   NaN     NaN     NaN   \n",
       "\n",
       "                  lat           long              posting_date  \n",
       "count   420331.000000  420331.000000                    426812  \n",
       "unique            NaN            NaN                    381536  \n",
       "top               NaN            NaN  2021-04-23T22:13:05-0400  \n",
       "freq              NaN            NaN                        12  \n",
       "mean        38.493940     -94.748599                       NaN  \n",
       "std          5.841533      18.365462                       NaN  \n",
       "min        -84.122245    -159.827728                       NaN  \n",
       "25%         34.601900    -111.939847                       NaN  \n",
       "50%         39.150100     -88.432600                       NaN  \n",
       "75%         42.398900     -80.832039                       NaN  \n",
       "max         82.390818     173.885502                       NaN  "
      ]
     },
     "execution_count": 10,
     "metadata": {},
     "output_type": "execute_result"
    }
   ],
   "source": [
    "#statistical description of the data frame\n",
    "df.describe(include='all')"
   ]
  },
  {
   "cell_type": "code",
   "execution_count": 11,
   "metadata": {
    "execution": {
     "iopub.execute_input": "2021-05-20T13:38:14.160850Z",
     "iopub.status.busy": "2021-05-20T13:38:14.160526Z",
     "iopub.status.idle": "2021-05-20T13:38:14.166085Z",
     "shell.execute_reply": "2021-05-20T13:38:14.165230Z",
     "shell.execute_reply.started": "2021-05-20T13:38:14.160809Z"
    }
   },
   "outputs": [
    {
     "data": {
      "text/plain": [
       "(426880, 26)"
      ]
     },
     "execution_count": 11,
     "metadata": {},
     "output_type": "execute_result"
    }
   ],
   "source": [
    "#checking the dimension of the dataframe\n",
    "df.shape"
   ]
  },
  {
   "cell_type": "markdown",
   "metadata": {},
   "source": [
    "## **Data Preprocessing**"
   ]
  },
  {
   "cell_type": "markdown",
   "metadata": {},
   "source": [
    "### Checking for and fill up missing values in the dataset"
   ]
  },
  {
   "cell_type": "code",
   "execution_count": 12,
   "metadata": {
    "execution": {
     "iopub.execute_input": "2021-05-20T13:38:14.167993Z",
     "iopub.status.busy": "2021-05-20T13:38:14.167582Z",
     "iopub.status.idle": "2021-05-20T13:38:14.864305Z",
     "shell.execute_reply": "2021-05-20T13:38:14.863324Z",
     "shell.execute_reply.started": "2021-05-20T13:38:14.167960Z"
    }
   },
   "outputs": [
    {
     "data": {
      "text/plain": [
       "id                   0\n",
       "url                  0\n",
       "region               0\n",
       "region_url           0\n",
       "price                0\n",
       "year              1205\n",
       "manufacturer     17646\n",
       "model             5277\n",
       "condition       174104\n",
       "cylinders       177678\n",
       "fuel              3013\n",
       "odometer          4400\n",
       "title_status      8242\n",
       "transmission      2556\n",
       "VIN             161042\n",
       "drive           130567\n",
       "size            306361\n",
       "type             92858\n",
       "paint_color     130203\n",
       "image_url           68\n",
       "description         70\n",
       "county          426880\n",
       "state                0\n",
       "lat               6549\n",
       "long              6549\n",
       "posting_date        68\n",
       "dtype: int64"
      ]
     },
     "execution_count": 12,
     "metadata": {},
     "output_type": "execute_result"
    }
   ],
   "source": [
    "df.isna().sum()"
   ]
  },
  {
   "cell_type": "code",
   "execution_count": 13,
   "metadata": {
    "execution": {
     "iopub.execute_input": "2021-05-20T13:38:14.866297Z",
     "iopub.status.busy": "2021-05-20T13:38:14.865869Z",
     "iopub.status.idle": "2021-05-20T13:38:15.161611Z",
     "shell.execute_reply": "2021-05-20T13:38:15.160614Z",
     "shell.execute_reply.started": "2021-05-20T13:38:14.866253Z"
    }
   },
   "outputs": [
    {
     "data": {
      "text/plain": [
       "array(['https://prescott.craigslist.org/cto/d/prescott-2010-ford-ranger/7222695916.html',\n",
       "       'https://fayar.craigslist.org/ctd/d/bentonville-2017-hyundai-elantra-se/7218891961.html',\n",
       "       'https://keys.craigslist.org/cto/d/summerland-key-2005-excursion/7221797935.html',\n",
       "       ...,\n",
       "       'https://wyoming.craigslist.org/ctd/d/atlanta-2020-caddy-cadillac-xt4-sport/7301591147.html',\n",
       "       'https://wyoming.craigslist.org/ctd/d/atlanta-2018-lexus-es-es-350-sedan-4d/7301591140.html',\n",
       "       'https://wyoming.craigslist.org/ctd/d/atlanta-2019-bmw-series-430i-gran-coupe/7301591129.html'],\n",
       "      dtype=object)"
      ]
     },
     "execution_count": 13,
     "metadata": {},
     "output_type": "execute_result"
    }
   ],
   "source": [
    "df.url.unique()"
   ]
  },
  {
   "cell_type": "markdown",
   "metadata": {},
   "source": [
    "### some of the missing information can be found in the url column. Information such as manufacturer,year and type can be extracted from the url column.\n",
    "\n",
    "### New columns will be created from it(url column) and put in a new dataframe called df2 to avoid congesting the original dataframe"
   ]
  },
  {
   "cell_type": "code",
   "execution_count": 14,
   "metadata": {
    "execution": {
     "iopub.execute_input": "2021-05-20T13:38:15.163449Z",
     "iopub.status.busy": "2021-05-20T13:38:15.163018Z",
     "iopub.status.idle": "2021-05-20T13:38:21.122278Z",
     "shell.execute_reply": "2021-05-20T13:38:21.121343Z",
     "shell.execute_reply.started": "2021-05-20T13:38:15.163406Z"
    }
   },
   "outputs": [],
   "source": [
    "#splitting the url column to extract needed information from it\n",
    "import urllib\n",
    "df2 = pd.DataFrame()\n",
    "urls=df['url']\n",
    "df2['protocol'],df2['domain'],df2['path'],df2['query'],df2['fragment'] = zip(*[urllib.parse.urlsplit(x) for x in urls])"
   ]
  },
  {
   "cell_type": "code",
   "execution_count": 15,
   "metadata": {
    "execution": {
     "iopub.execute_input": "2021-05-20T13:38:21.124393Z",
     "iopub.status.busy": "2021-05-20T13:38:21.123981Z",
     "iopub.status.idle": "2021-05-20T13:38:24.279551Z",
     "shell.execute_reply": "2021-05-20T13:38:24.278442Z",
     "shell.execute_reply.started": "2021-05-20T13:38:21.124348Z"
    }
   },
   "outputs": [
    {
     "data": {
      "text/html": [
       "<div>\n",
       "<style scoped>\n",
       "    .dataframe tbody tr th:only-of-type {\n",
       "        vertical-align: middle;\n",
       "    }\n",
       "\n",
       "    .dataframe tbody tr th {\n",
       "        vertical-align: top;\n",
       "    }\n",
       "\n",
       "    .dataframe thead th {\n",
       "        text-align: right;\n",
       "    }\n",
       "</style>\n",
       "<table border=\"1\" class=\"dataframe\">\n",
       "  <thead>\n",
       "    <tr style=\"text-align: right;\">\n",
       "      <th></th>\n",
       "      <th>protocol</th>\n",
       "      <th>domain</th>\n",
       "      <th>path</th>\n",
       "      <th>query</th>\n",
       "      <th>fragment</th>\n",
       "    </tr>\n",
       "  </thead>\n",
       "  <tbody>\n",
       "    <tr>\n",
       "      <th>0</th>\n",
       "      <td>https</td>\n",
       "      <td>prescott.craigslist.org</td>\n",
       "      <td>cto d prescott 2010 ford ranger 7222695916 html</td>\n",
       "      <td></td>\n",
       "      <td></td>\n",
       "    </tr>\n",
       "    <tr>\n",
       "      <th>1</th>\n",
       "      <td>https</td>\n",
       "      <td>fayar.craigslist.org</td>\n",
       "      <td>ctd d bentonville 2017 hyundai elantra se 721...</td>\n",
       "      <td></td>\n",
       "      <td></td>\n",
       "    </tr>\n",
       "    <tr>\n",
       "      <th>2</th>\n",
       "      <td>https</td>\n",
       "      <td>keys.craigslist.org</td>\n",
       "      <td>cto d summerland key 2005 excursion 722179793...</td>\n",
       "      <td></td>\n",
       "      <td></td>\n",
       "    </tr>\n",
       "    <tr>\n",
       "      <th>3</th>\n",
       "      <td>https</td>\n",
       "      <td>worcester.craigslist.org</td>\n",
       "      <td>cto d west brookfield 2002 honda odyssey ex 7...</td>\n",
       "      <td></td>\n",
       "      <td></td>\n",
       "    </tr>\n",
       "    <tr>\n",
       "      <th>4</th>\n",
       "      <td>https</td>\n",
       "      <td>greensboro.craigslist.org</td>\n",
       "      <td>cto d trinity 1965 chevrolet truck 7210384030...</td>\n",
       "      <td></td>\n",
       "      <td></td>\n",
       "    </tr>\n",
       "    <tr>\n",
       "      <th>...</th>\n",
       "      <td>...</td>\n",
       "      <td>...</td>\n",
       "      <td>...</td>\n",
       "      <td>...</td>\n",
       "      <td>...</td>\n",
       "    </tr>\n",
       "    <tr>\n",
       "      <th>426875</th>\n",
       "      <td>https</td>\n",
       "      <td>wyoming.craigslist.org</td>\n",
       "      <td>ctd d atlanta 2019 nissan maxima sedan 4d 730...</td>\n",
       "      <td></td>\n",
       "      <td></td>\n",
       "    </tr>\n",
       "    <tr>\n",
       "      <th>426876</th>\n",
       "      <td>https</td>\n",
       "      <td>wyoming.craigslist.org</td>\n",
       "      <td>ctd d atlanta 2020 volvo s60 t5 momentum 7301...</td>\n",
       "      <td></td>\n",
       "      <td></td>\n",
       "    </tr>\n",
       "    <tr>\n",
       "      <th>426877</th>\n",
       "      <td>https</td>\n",
       "      <td>wyoming.craigslist.org</td>\n",
       "      <td>ctd d atlanta 2020 caddy cadillac xt4 sport 7...</td>\n",
       "      <td></td>\n",
       "      <td></td>\n",
       "    </tr>\n",
       "    <tr>\n",
       "      <th>426878</th>\n",
       "      <td>https</td>\n",
       "      <td>wyoming.craigslist.org</td>\n",
       "      <td>ctd d atlanta 2018 lexus es es 350 sedan 4d 7...</td>\n",
       "      <td></td>\n",
       "      <td></td>\n",
       "    </tr>\n",
       "    <tr>\n",
       "      <th>426879</th>\n",
       "      <td>https</td>\n",
       "      <td>wyoming.craigslist.org</td>\n",
       "      <td>ctd d atlanta 2019 bmw series 430i gran coupe...</td>\n",
       "      <td></td>\n",
       "      <td></td>\n",
       "    </tr>\n",
       "  </tbody>\n",
       "</table>\n",
       "<p>426880 rows × 5 columns</p>\n",
       "</div>"
      ],
      "text/plain": [
       "       protocol                     domain  \\\n",
       "0         https    prescott.craigslist.org   \n",
       "1         https       fayar.craigslist.org   \n",
       "2         https        keys.craigslist.org   \n",
       "3         https   worcester.craigslist.org   \n",
       "4         https  greensboro.craigslist.org   \n",
       "...         ...                        ...   \n",
       "426875    https     wyoming.craigslist.org   \n",
       "426876    https     wyoming.craigslist.org   \n",
       "426877    https     wyoming.craigslist.org   \n",
       "426878    https     wyoming.craigslist.org   \n",
       "426879    https     wyoming.craigslist.org   \n",
       "\n",
       "                                                     path query fragment  \n",
       "0         cto d prescott 2010 ford ranger 7222695916 html                 \n",
       "1        ctd d bentonville 2017 hyundai elantra se 721...                 \n",
       "2        cto d summerland key 2005 excursion 722179793...                 \n",
       "3        cto d west brookfield 2002 honda odyssey ex 7...                 \n",
       "4        cto d trinity 1965 chevrolet truck 7210384030...                 \n",
       "...                                                   ...   ...      ...  \n",
       "426875   ctd d atlanta 2019 nissan maxima sedan 4d 730...                 \n",
       "426876   ctd d atlanta 2020 volvo s60 t5 momentum 7301...                 \n",
       "426877   ctd d atlanta 2020 caddy cadillac xt4 sport 7...                 \n",
       "426878   ctd d atlanta 2018 lexus es es 350 sedan 4d 7...                 \n",
       "426879   ctd d atlanta 2019 bmw series 430i gran coupe...                 \n",
       "\n",
       "[426880 rows x 5 columns]"
      ]
     },
     "execution_count": 15,
     "metadata": {},
     "output_type": "execute_result"
    }
   ],
   "source": [
    "#removing unwanted characters from the path column\n",
    "import re\n",
    "df2['path']=df2['path'].map(lambda x: re.sub(r'\\W+', ' ', x))\n",
    "df2"
   ]
  },
  {
   "cell_type": "code",
   "execution_count": 16,
   "metadata": {
    "execution": {
     "iopub.execute_input": "2021-05-20T13:38:24.281072Z",
     "iopub.status.busy": "2021-05-20T13:38:24.280771Z",
     "iopub.status.idle": "2021-05-20T13:38:24.421301Z",
     "shell.execute_reply": "2021-05-20T13:38:24.420230Z",
     "shell.execute_reply.started": "2021-05-20T13:38:24.281037Z"
    }
   },
   "outputs": [],
   "source": [
    "#dropping query and fragment column since they are empty\n",
    "df2.drop(['query', 'fragment'], axis = 1, inplace=True)"
   ]
  },
  {
   "cell_type": "code",
   "execution_count": 17,
   "metadata": {
    "execution": {
     "iopub.execute_input": "2021-05-20T13:38:24.423192Z",
     "iopub.status.busy": "2021-05-20T13:38:24.422807Z",
     "iopub.status.idle": "2021-05-20T13:38:24.556123Z",
     "shell.execute_reply": "2021-05-20T13:38:24.555047Z",
     "shell.execute_reply.started": "2021-05-20T13:38:24.423149Z"
    }
   },
   "outputs": [
    {
     "name": "stdout",
     "output_type": "stream",
     "text": [
      "<class 'pandas.core.frame.DataFrame'>\n",
      "RangeIndex: 426880 entries, 0 to 426879\n",
      "Data columns (total 3 columns):\n",
      " #   Column    Non-Null Count   Dtype \n",
      "---  ------    --------------   ----- \n",
      " 0   protocol  426880 non-null  object\n",
      " 1   domain    426880 non-null  object\n",
      " 2   path      426880 non-null  object\n",
      "dtypes: object(3)\n",
      "memory usage: 9.8+ MB\n"
     ]
    }
   ],
   "source": [
    "df2.info()"
   ]
  },
  {
   "cell_type": "code",
   "execution_count": 18,
   "metadata": {
    "execution": {
     "iopub.execute_input": "2021-05-20T13:38:24.557581Z",
     "iopub.status.busy": "2021-05-20T13:38:24.557287Z",
     "iopub.status.idle": "2021-05-20T13:38:24.669523Z",
     "shell.execute_reply": "2021-05-20T13:38:24.668386Z",
     "shell.execute_reply.started": "2021-05-20T13:38:24.557546Z"
    }
   },
   "outputs": [
    {
     "data": {
      "text/plain": [
       "88"
      ]
     },
     "execution_count": 18,
     "metadata": {},
     "output_type": "execute_result"
    }
   ],
   "source": [
    "gc.collect()"
   ]
  },
  {
   "cell_type": "markdown",
   "metadata": {},
   "source": [
    "### Since the path column in the new dataframe df2 contains a mixture of characters, we will be extracting all numeric characters from it and putting them in a new column called path_int"
   ]
  },
  {
   "cell_type": "code",
   "execution_count": 19,
   "metadata": {
    "execution": {
     "iopub.execute_input": "2021-05-20T13:38:24.673580Z",
     "iopub.status.busy": "2021-05-20T13:38:24.673283Z",
     "iopub.status.idle": "2021-05-20T13:38:27.164664Z",
     "shell.execute_reply": "2021-05-20T13:38:27.163708Z",
     "shell.execute_reply.started": "2021-05-20T13:38:24.673544Z"
    }
   },
   "outputs": [],
   "source": [
    "#compile all alphabets \n",
    "replace = re.compile(\"([a-zA-Z]+)\")\n",
    "#extracting numeric values and removing trailing white spaces\n",
    "df2['path_int']= df2['path'].str.replace(replace, \" \").str.strip()"
   ]
  },
  {
   "cell_type": "code",
   "execution_count": 20,
   "metadata": {
    "execution": {
     "iopub.execute_input": "2021-05-20T13:38:27.167180Z",
     "iopub.status.busy": "2021-05-20T13:38:27.166875Z",
     "iopub.status.idle": "2021-05-20T13:38:27.176383Z",
     "shell.execute_reply": "2021-05-20T13:38:27.175639Z",
     "shell.execute_reply.started": "2021-05-20T13:38:27.167152Z"
    }
   },
   "outputs": [
    {
     "data": {
      "text/plain": [
       "0                    2010     7222695916\n",
       "1                  2017       7218891961\n",
       "2                      2005   7221797935\n",
       "3                  2002       7222270760\n",
       "4                    1965     7210384030\n",
       "                       ...              \n",
       "426875          2019       4  7301591192\n",
       "426876        2020    60  5   7301591187\n",
       "426877          2020      4   7301591147\n",
       "426878    2018       350   4  7301591140\n",
       "426879      2019     430      7301591129\n",
       "Name: path_int, Length: 426880, dtype: object"
      ]
     },
     "execution_count": 20,
     "metadata": {},
     "output_type": "execute_result"
    }
   ],
   "source": [
    "df2.path_int"
   ]
  },
  {
   "cell_type": "markdown",
   "metadata": {},
   "source": [
    "### Noticed not all numeric values contain year details in the path_int column. Will be extracting the year details by filtering the path_int column using the function defined below"
   ]
  },
  {
   "cell_type": "code",
   "execution_count": 21,
   "metadata": {
    "execution": {
     "iopub.execute_input": "2021-05-20T13:38:27.177797Z",
     "iopub.status.busy": "2021-05-20T13:38:27.177538Z",
     "iopub.status.idle": "2021-05-20T13:38:27.185527Z",
     "shell.execute_reply": "2021-05-20T13:38:27.184789Z",
     "shell.execute_reply.started": "2021-05-20T13:38:27.177772Z"
    }
   },
   "outputs": [],
   "source": [
    "#a function for filtering the path_int column\n",
    "def checkvar(x):\n",
    "    s = str(x)\n",
    "    first_d = int(s[0])\n",
    "    if first_d == 1 or first_d == 2:\n",
    "        return s\n",
    "    else:\n",
    "        return 0"
   ]
  },
  {
   "cell_type": "markdown",
   "metadata": {},
   "source": [
    "### Applying the function above to the path_int column and putting the filtered values in a new column called pa_th as shown below. This new column will contain values starting with 1 or 2 and return 0 for path_int values starting with number greater than 2"
   ]
  },
  {
   "cell_type": "code",
   "execution_count": 22,
   "metadata": {
    "execution": {
     "iopub.execute_input": "2021-05-20T13:38:27.186875Z",
     "iopub.status.busy": "2021-05-20T13:38:27.186597Z",
     "iopub.status.idle": "2021-05-20T13:38:27.549255Z",
     "shell.execute_reply": "2021-05-20T13:38:27.548373Z",
     "shell.execute_reply.started": "2021-05-20T13:38:27.186849Z"
    }
   },
   "outputs": [
    {
     "data": {
      "text/plain": [
       "0                    2010     7222695916\n",
       "1                  2017       7218891961\n",
       "2                      2005   7221797935\n",
       "3                  2002       7222270760\n",
       "4                    1965     7210384030\n",
       "                       ...              \n",
       "426875          2019       4  7301591192\n",
       "426876        2020    60  5   7301591187\n",
       "426877          2020      4   7301591147\n",
       "426878    2018       350   4  7301591140\n",
       "426879      2019     430      7301591129\n",
       "Name: pa_th, Length: 426880, dtype: object"
      ]
     },
     "execution_count": 22,
     "metadata": {},
     "output_type": "execute_result"
    }
   ],
   "source": [
    "#creating a new column that will contain year values starting with 1 and those starting with 2\n",
    "df2['pa_th'] = df2['path_int'].dropna().apply(checkvar)\n",
    "df2['pa_th']"
   ]
  },
  {
   "cell_type": "markdown",
   "metadata": {},
   "source": [
    "### creating a new column called year that contains only the first four values filtered from the pa_th column"
   ]
  },
  {
   "cell_type": "code",
   "execution_count": 23,
   "metadata": {
    "execution": {
     "iopub.execute_input": "2021-05-20T13:38:27.550654Z",
     "iopub.status.busy": "2021-05-20T13:38:27.550386Z",
     "iopub.status.idle": "2021-05-20T13:38:27.974908Z",
     "shell.execute_reply": "2021-05-20T13:38:27.974025Z",
     "shell.execute_reply.started": "2021-05-20T13:38:27.550629Z"
    }
   },
   "outputs": [
    {
     "data": {
      "text/plain": [
       "array(['2010', '2017', '2005', '2002', '1965', '2007', '2000', '2015',\n",
       "       '2012', '2011', '2013', '2019', '2016', nan, '2014', '2020',\n",
       "       '1992', '2018', '2004', '2001', '2006', '1800', '2008', '1966',\n",
       "       '2009', '1998', '1999', '2021', '1997', '1976', '2003', '1969',\n",
       "       '1995', '1978', '1954', '1   ', '1970', '1929', '1996', '1955',\n",
       "       '1960', '1991', '1972', '250 ', '1988', '1994', '1500', '1968',\n",
       "       '150 ', '2500', '200 ', '1979', '1986', '1989', '1973', '1946',\n",
       "       '1933', '1958', '1937', '1985', '1957', '1953', '1963', '1987',\n",
       "       '1977', '1903', '100 ', '1990', '20  ', '1982', '1948', '1974',\n",
       "       '10  ', '1983', '1936', '1934', '1951', '1984', '13  ', '180 ',\n",
       "       '1931', '1980', '12  ', '11  ', '1967', '101 ', '1971', '1947',\n",
       "       '1981', '25 4', '1926', '1962', '2  7', '230 ', '1993', '1964',\n",
       "       '14  ', '1952', '124 ', '19  ', '1975', '225 ', '1940', '20 4',\n",
       "       '1959', '1923', '1950', '1922', '1928', '1000', '299 ', '1941',\n",
       "       '1932', '1956', '1924', '1927', '26  ', '2   ', '25 7', '1939',\n",
       "       '139 ', '10 7', '1942', '134 ', '15 7', '2900', '2100', '16  ',\n",
       "       '15  ', '17  ', '1949', '1700', '1961', '1935', '1495', '28  ',\n",
       "       '1918', '16 7', '25  ', '1 1 ', '1930', '20 7', '240 ', '18  ',\n",
       "       '2022', '107 ', '148 ', '27  ', '2600', '280 ', '110 ', '23 7',\n",
       "       '1938', '22  ', '1195', '23  ', '1 73', '2  4', '28 7', '245 ',\n",
       "       '1 20', '2 73', '27 2', '21  ', '1913', '135 ', '1 65', '2300',\n",
       "       '1916', '221 ', '167 ', '163 ', '194 ', '116 ', '185 ', '19 7',\n",
       "       '228 ', '263 ', '187 ', '238 ', '1084', '113 ', '170 ', '20 1',\n",
       "       '198 ', '270 ', '190 ', '222 ', '277 ', '287 ', '206 ', '268 ',\n",
       "       '2571', '254 ', '212 ', '159 ', '2  3', '10 9', '199 ', '1943',\n",
       "       '2 6 ', '122 ', '120 ', '235 ', '12 7', '108 ', '130 ', '24  ',\n",
       "       '1  7', '18 7', '2 7 ', '2 12', '1200', '2 13', '105 ', '178 ',\n",
       "       '179 ', '252 ', '166 ', '224 ', '220 ', '258 ', '241 ', '29  ',\n",
       "       '281 ', '2 3 ', '109 ', '243 ', '172 ', '276 ', '123 ', '146 ',\n",
       "       '255 ', '278 ', '210 ', '236 ', '133 ', '14 7', '10 8', '226 ',\n",
       "       '165 ', '156 ', '197 ', '196 ', '131 ', '271 ', '298 ', '2 20',\n",
       "       '2999', '2107', '2995', '2495', '293 ', '186 ', '119 ', '168 ',\n",
       "       '177 ', '173 ', '151 ', '164 ', '223 ', '260 ', '141 ', '138 ',\n",
       "       '152 ', '191 ', '114 ', '103 ', '153 ', '232 ', '115 ', '118 ',\n",
       "       '1  2', '26 4', '2  1', '1499', '1600', '193 ', '158 ', '2  2',\n",
       "       '2  9', '2099', '1799', '176 ', '15 5', '2 4 ', '149 ', '10 4',\n",
       "       '2 5 ', '2 9 ', '2 2 ', '233 ', '205 ', '274 ', '261 ', '117 ',\n",
       "       '272 ', '269 ', '2 8 ', '290 ', '283 ', '128 ', '249 ', '1899',\n",
       "       '2098', '1925', '201 ', '17 7', '106 ', '104 ', '21 7', '2295',\n",
       "       '2413', '129 ', '137 ', '13 7', '1921', '11 7', '1058', '297 ',\n",
       "       '182 ', '285 ', '275 ', '246 ', '136 ', '157 ', '286 ', '1229',\n",
       "       '296 ', '273 ', '284 ', '294 ', '234 ', '184 ', '203 ', '132 ',\n",
       "       '264 ', '247 ', '237 ', '291 ', '1075', '202 ', '204 ', '1256',\n",
       "       '229 ', '127 ', '175 ', '231 ', '142 ', '143 ', '102 ', '144 ',\n",
       "       '147 ', '140 ', '125 ', '126 ', '188 ', '183 ', '207 ', '218 ',\n",
       "       '219 ', '251 ', '2103', '262 ', '171 ', '1250', '155 ', '211 ',\n",
       "       '214 ', '215 ', '2102', '257 ', '2800', '1  1', '25 2', '1399',\n",
       "       '1915', '216 ', '189 ', '2027', '10 2', '1 34', '1699', '1480',\n",
       "       '1945', '1123', '1100', '1917', '19 1', '1300', '160 ', '17 1',\n",
       "       '1405', '1901', '2106', '1400', '239 ', '295 ', '208 ', '253 ',\n",
       "       '265 ', '25 9', '1794', '1920', '1944', '1900', '21 3', '2200',\n",
       "       '1910', '2199', '1750', '2918', '2700', '2025', '2695', '2 1 ',\n",
       "       '2950', '1887', '1 03', '162 ', '10 1', '16 1', '289 '],\n",
       "      dtype=object)"
      ]
     },
     "execution_count": 23,
     "metadata": {},
     "output_type": "execute_result"
    }
   ],
   "source": [
    "#extracting the first four values from the path_int column representing the year\n",
    "df2['year']=df2['pa_th'].dropna().str[:4]\n",
    "df2['year'].unique()"
   ]
  },
  {
   "cell_type": "markdown",
   "metadata": {},
   "source": [
    "### There are numbers that are not exactly year values,they will be replaced with 0. Any number less than 1900 or greater than 2021 are returned as zero. "
   ]
  },
  {
   "cell_type": "code",
   "execution_count": 24,
   "metadata": {
    "execution": {
     "iopub.execute_input": "2021-05-20T13:38:27.976782Z",
     "iopub.status.busy": "2021-05-20T13:38:27.976174Z",
     "iopub.status.idle": "2021-05-20T13:38:28.215896Z",
     "shell.execute_reply": "2021-05-20T13:38:28.215085Z",
     "shell.execute_reply.started": "2021-05-20T13:38:27.976734Z"
    }
   },
   "outputs": [],
   "source": [
    "#removing whitespaces\n",
    "df2['year'] = df2['year'].str.replace(\" \",\"\")"
   ]
  },
  {
   "cell_type": "code",
   "execution_count": 25,
   "metadata": {
    "execution": {
     "iopub.execute_input": "2021-05-20T13:38:28.218062Z",
     "iopub.status.busy": "2021-05-20T13:38:28.217423Z",
     "iopub.status.idle": "2021-05-20T13:38:28.281552Z",
     "shell.execute_reply": "2021-05-20T13:38:28.280769Z",
     "shell.execute_reply.started": "2021-05-20T13:38:28.218014Z"
    }
   },
   "outputs": [],
   "source": [
    "#converting year type to float to be able to perform required data manipulation\n",
    "df2['year']=df2['year'].astype(float)\n",
    "\n"
   ]
  },
  {
   "cell_type": "code",
   "execution_count": 26,
   "metadata": {
    "execution": {
     "iopub.execute_input": "2021-05-20T13:38:28.283718Z",
     "iopub.status.busy": "2021-05-20T13:38:28.283071Z",
     "iopub.status.idle": "2021-05-20T13:38:28.299353Z",
     "shell.execute_reply": "2021-05-20T13:38:28.298654Z",
     "shell.execute_reply.started": "2021-05-20T13:38:28.283668Z"
    }
   },
   "outputs": [],
   "source": [
    "#choosing only range of values that are reasonable year values\n",
    "df2.loc[~df2.year.between(1899, 2022), \"year\"] = 0"
   ]
  },
  {
   "cell_type": "code",
   "execution_count": 27,
   "metadata": {
    "execution": {
     "iopub.execute_input": "2021-05-20T13:38:28.302423Z",
     "iopub.status.busy": "2021-05-20T13:38:28.302057Z",
     "iopub.status.idle": "2021-05-20T13:38:28.315178Z",
     "shell.execute_reply": "2021-05-20T13:38:28.314319Z",
     "shell.execute_reply.started": "2021-05-20T13:38:28.302393Z"
    }
   },
   "outputs": [
    {
     "data": {
      "text/plain": [
       "array([2010., 2017., 2005., 2002., 1965., 2007., 2000., 2015., 2012.,\n",
       "       2011., 2013., 2019., 2016.,    0., 2014., 2020., 1992., 2018.,\n",
       "       2004., 2001., 2006., 2008., 1966., 2009., 1998., 1999., 2021.,\n",
       "       1997., 1976., 2003., 1969., 1995., 1978., 1954., 1970., 1929.,\n",
       "       1996., 1955., 1960., 1991., 1972., 1988., 1994., 1968., 1979.,\n",
       "       1986., 1989., 1973., 1946., 1933., 1958., 1937., 1985., 1957.,\n",
       "       1953., 1963., 1987., 1977., 1903., 1990., 1982., 1948., 1974.,\n",
       "       1983., 1936., 1934., 1951., 1984., 1931., 1980., 1967., 1971.,\n",
       "       1947., 1981., 1926., 1962., 1993., 1964., 1952., 1975., 1940.,\n",
       "       1959., 1923., 1950., 1922., 1928., 1941., 1932., 1956., 1924.,\n",
       "       1927., 1939., 1942., 1949., 1961., 1935., 1918., 1930., 2022.,\n",
       "       1938., 1913., 1916., 1943., 1899., 1925., 1921., 1915., 1945.,\n",
       "       1917., 1901., 1920., 1944., 1900., 1910.])"
      ]
     },
     "execution_count": 27,
     "metadata": {},
     "output_type": "execute_result"
    }
   ],
   "source": [
    "df2['year'].unique()"
   ]
  },
  {
   "cell_type": "markdown",
   "metadata": {},
   "source": [
    "### there are now actual year values in the new column. Next, will be filling missing year values in the original dataframe with the new year values in the second dataframe based on matching ids. "
   ]
  },
  {
   "cell_type": "code",
   "execution_count": 28,
   "metadata": {
    "execution": {
     "iopub.execute_input": "2021-05-20T13:38:28.316991Z",
     "iopub.status.busy": "2021-05-20T13:38:28.316557Z",
     "iopub.status.idle": "2021-05-20T13:38:28.338295Z",
     "shell.execute_reply": "2021-05-20T13:38:28.337404Z",
     "shell.execute_reply.started": "2021-05-20T13:38:28.316939Z"
    }
   },
   "outputs": [
    {
     "data": {
      "text/html": [
       "<div>\n",
       "<style scoped>\n",
       "    .dataframe tbody tr th:only-of-type {\n",
       "        vertical-align: middle;\n",
       "    }\n",
       "\n",
       "    .dataframe tbody tr th {\n",
       "        vertical-align: top;\n",
       "    }\n",
       "\n",
       "    .dataframe thead th {\n",
       "        text-align: right;\n",
       "    }\n",
       "</style>\n",
       "<table border=\"1\" class=\"dataframe\">\n",
       "  <thead>\n",
       "    <tr style=\"text-align: right;\">\n",
       "      <th></th>\n",
       "      <th>protocol</th>\n",
       "      <th>domain</th>\n",
       "      <th>path</th>\n",
       "      <th>path_int</th>\n",
       "      <th>pa_th</th>\n",
       "      <th>year</th>\n",
       "      <th>id</th>\n",
       "    </tr>\n",
       "  </thead>\n",
       "  <tbody>\n",
       "    <tr>\n",
       "      <th>0</th>\n",
       "      <td>https</td>\n",
       "      <td>prescott.craigslist.org</td>\n",
       "      <td>cto d prescott 2010 ford ranger 7222695916 html</td>\n",
       "      <td>2010     7222695916</td>\n",
       "      <td>2010     7222695916</td>\n",
       "      <td>2010.0</td>\n",
       "      <td>7222695916</td>\n",
       "    </tr>\n",
       "    <tr>\n",
       "      <th>1</th>\n",
       "      <td>https</td>\n",
       "      <td>fayar.craigslist.org</td>\n",
       "      <td>ctd d bentonville 2017 hyundai elantra se 721...</td>\n",
       "      <td>2017       7218891961</td>\n",
       "      <td>2017       7218891961</td>\n",
       "      <td>2017.0</td>\n",
       "      <td>7218891961</td>\n",
       "    </tr>\n",
       "    <tr>\n",
       "      <th>2</th>\n",
       "      <td>https</td>\n",
       "      <td>keys.craigslist.org</td>\n",
       "      <td>cto d summerland key 2005 excursion 722179793...</td>\n",
       "      <td>2005   7221797935</td>\n",
       "      <td>2005   7221797935</td>\n",
       "      <td>2005.0</td>\n",
       "      <td>7221797935</td>\n",
       "    </tr>\n",
       "    <tr>\n",
       "      <th>3</th>\n",
       "      <td>https</td>\n",
       "      <td>worcester.craigslist.org</td>\n",
       "      <td>cto d west brookfield 2002 honda odyssey ex 7...</td>\n",
       "      <td>2002       7222270760</td>\n",
       "      <td>2002       7222270760</td>\n",
       "      <td>2002.0</td>\n",
       "      <td>7222270760</td>\n",
       "    </tr>\n",
       "    <tr>\n",
       "      <th>4</th>\n",
       "      <td>https</td>\n",
       "      <td>greensboro.craigslist.org</td>\n",
       "      <td>cto d trinity 1965 chevrolet truck 7210384030...</td>\n",
       "      <td>1965     7210384030</td>\n",
       "      <td>1965     7210384030</td>\n",
       "      <td>1965.0</td>\n",
       "      <td>7210384030</td>\n",
       "    </tr>\n",
       "    <tr>\n",
       "      <th>...</th>\n",
       "      <td>...</td>\n",
       "      <td>...</td>\n",
       "      <td>...</td>\n",
       "      <td>...</td>\n",
       "      <td>...</td>\n",
       "      <td>...</td>\n",
       "      <td>...</td>\n",
       "    </tr>\n",
       "    <tr>\n",
       "      <th>426875</th>\n",
       "      <td>https</td>\n",
       "      <td>wyoming.craigslist.org</td>\n",
       "      <td>ctd d atlanta 2019 nissan maxima sedan 4d 730...</td>\n",
       "      <td>2019       4  7301591192</td>\n",
       "      <td>2019       4  7301591192</td>\n",
       "      <td>2019.0</td>\n",
       "      <td>7301591192</td>\n",
       "    </tr>\n",
       "    <tr>\n",
       "      <th>426876</th>\n",
       "      <td>https</td>\n",
       "      <td>wyoming.craigslist.org</td>\n",
       "      <td>ctd d atlanta 2020 volvo s60 t5 momentum 7301...</td>\n",
       "      <td>2020    60  5   7301591187</td>\n",
       "      <td>2020    60  5   7301591187</td>\n",
       "      <td>2020.0</td>\n",
       "      <td>7301591187</td>\n",
       "    </tr>\n",
       "    <tr>\n",
       "      <th>426877</th>\n",
       "      <td>https</td>\n",
       "      <td>wyoming.craigslist.org</td>\n",
       "      <td>ctd d atlanta 2020 caddy cadillac xt4 sport 7...</td>\n",
       "      <td>2020      4   7301591147</td>\n",
       "      <td>2020      4   7301591147</td>\n",
       "      <td>2020.0</td>\n",
       "      <td>7301591147</td>\n",
       "    </tr>\n",
       "    <tr>\n",
       "      <th>426878</th>\n",
       "      <td>https</td>\n",
       "      <td>wyoming.craigslist.org</td>\n",
       "      <td>ctd d atlanta 2018 lexus es es 350 sedan 4d 7...</td>\n",
       "      <td>2018       350   4  7301591140</td>\n",
       "      <td>2018       350   4  7301591140</td>\n",
       "      <td>2018.0</td>\n",
       "      <td>7301591140</td>\n",
       "    </tr>\n",
       "    <tr>\n",
       "      <th>426879</th>\n",
       "      <td>https</td>\n",
       "      <td>wyoming.craigslist.org</td>\n",
       "      <td>ctd d atlanta 2019 bmw series 430i gran coupe...</td>\n",
       "      <td>2019     430      7301591129</td>\n",
       "      <td>2019     430      7301591129</td>\n",
       "      <td>2019.0</td>\n",
       "      <td>7301591129</td>\n",
       "    </tr>\n",
       "  </tbody>\n",
       "</table>\n",
       "<p>426880 rows × 7 columns</p>\n",
       "</div>"
      ],
      "text/plain": [
       "       protocol                     domain  \\\n",
       "0         https    prescott.craigslist.org   \n",
       "1         https       fayar.craigslist.org   \n",
       "2         https        keys.craigslist.org   \n",
       "3         https   worcester.craigslist.org   \n",
       "4         https  greensboro.craigslist.org   \n",
       "...         ...                        ...   \n",
       "426875    https     wyoming.craigslist.org   \n",
       "426876    https     wyoming.craigslist.org   \n",
       "426877    https     wyoming.craigslist.org   \n",
       "426878    https     wyoming.craigslist.org   \n",
       "426879    https     wyoming.craigslist.org   \n",
       "\n",
       "                                                     path  \\\n",
       "0         cto d prescott 2010 ford ranger 7222695916 html   \n",
       "1        ctd d bentonville 2017 hyundai elantra se 721...   \n",
       "2        cto d summerland key 2005 excursion 722179793...   \n",
       "3        cto d west brookfield 2002 honda odyssey ex 7...   \n",
       "4        cto d trinity 1965 chevrolet truck 7210384030...   \n",
       "...                                                   ...   \n",
       "426875   ctd d atlanta 2019 nissan maxima sedan 4d 730...   \n",
       "426876   ctd d atlanta 2020 volvo s60 t5 momentum 7301...   \n",
       "426877   ctd d atlanta 2020 caddy cadillac xt4 sport 7...   \n",
       "426878   ctd d atlanta 2018 lexus es es 350 sedan 4d 7...   \n",
       "426879   ctd d atlanta 2019 bmw series 430i gran coupe...   \n",
       "\n",
       "                              path_int                           pa_th  \\\n",
       "0                  2010     7222695916             2010     7222695916   \n",
       "1                2017       7218891961           2017       7218891961   \n",
       "2                    2005   7221797935               2005   7221797935   \n",
       "3                2002       7222270760           2002       7222270760   \n",
       "4                  1965     7210384030             1965     7210384030   \n",
       "...                                ...                             ...   \n",
       "426875        2019       4  7301591192        2019       4  7301591192   \n",
       "426876      2020    60  5   7301591187      2020    60  5   7301591187   \n",
       "426877        2020      4   7301591147        2020      4   7301591147   \n",
       "426878  2018       350   4  7301591140  2018       350   4  7301591140   \n",
       "426879    2019     430      7301591129    2019     430      7301591129   \n",
       "\n",
       "          year          id  \n",
       "0       2010.0  7222695916  \n",
       "1       2017.0  7218891961  \n",
       "2       2005.0  7221797935  \n",
       "3       2002.0  7222270760  \n",
       "4       1965.0  7210384030  \n",
       "...        ...         ...  \n",
       "426875  2019.0  7301591192  \n",
       "426876  2020.0  7301591187  \n",
       "426877  2020.0  7301591147  \n",
       "426878  2018.0  7301591140  \n",
       "426879  2019.0  7301591129  \n",
       "\n",
       "[426880 rows x 7 columns]"
      ]
     },
     "execution_count": 28,
     "metadata": {},
     "output_type": "execute_result"
    }
   ],
   "source": [
    "#creating a matching id column for new dataframe\n",
    "df2['id']=df['id']\n",
    "df2"
   ]
  },
  {
   "cell_type": "code",
   "execution_count": 29,
   "metadata": {
    "execution": {
     "iopub.execute_input": "2021-05-20T13:38:28.339907Z",
     "iopub.status.busy": "2021-05-20T13:38:28.339557Z",
     "iopub.status.idle": "2021-05-20T13:38:28.575683Z",
     "shell.execute_reply": "2021-05-20T13:38:28.574650Z",
     "shell.execute_reply.started": "2021-05-20T13:38:28.339873Z"
    }
   },
   "outputs": [],
   "source": [
    "#fill missing values in the first dataframe year column with actual values from the other dataframe based on ID\n",
    "df['year']=df.set_index('id')['year'].fillna(df2.set_index('id')['year']).values"
   ]
  },
  {
   "cell_type": "code",
   "execution_count": 30,
   "metadata": {
    "execution": {
     "iopub.execute_input": "2021-05-20T13:38:28.577391Z",
     "iopub.status.busy": "2021-05-20T13:38:28.577074Z",
     "iopub.status.idle": "2021-05-20T13:38:28.622568Z",
     "shell.execute_reply": "2021-05-20T13:38:28.621537Z",
     "shell.execute_reply.started": "2021-05-20T13:38:28.577361Z"
    }
   },
   "outputs": [
    {
     "data": {
      "text/html": [
       "<div>\n",
       "<style scoped>\n",
       "    .dataframe tbody tr th:only-of-type {\n",
       "        vertical-align: middle;\n",
       "    }\n",
       "\n",
       "    .dataframe tbody tr th {\n",
       "        vertical-align: top;\n",
       "    }\n",
       "\n",
       "    .dataframe thead th {\n",
       "        text-align: right;\n",
       "    }\n",
       "</style>\n",
       "<table border=\"1\" class=\"dataframe\">\n",
       "  <thead>\n",
       "    <tr style=\"text-align: right;\">\n",
       "      <th></th>\n",
       "      <th>id</th>\n",
       "      <th>url</th>\n",
       "      <th>region</th>\n",
       "      <th>region_url</th>\n",
       "      <th>price</th>\n",
       "      <th>year</th>\n",
       "      <th>manufacturer</th>\n",
       "      <th>model</th>\n",
       "      <th>condition</th>\n",
       "      <th>cylinders</th>\n",
       "      <th>fuel</th>\n",
       "      <th>odometer</th>\n",
       "      <th>title_status</th>\n",
       "      <th>transmission</th>\n",
       "      <th>VIN</th>\n",
       "      <th>drive</th>\n",
       "      <th>size</th>\n",
       "      <th>type</th>\n",
       "      <th>paint_color</th>\n",
       "      <th>image_url</th>\n",
       "      <th>description</th>\n",
       "      <th>county</th>\n",
       "      <th>state</th>\n",
       "      <th>lat</th>\n",
       "      <th>long</th>\n",
       "      <th>posting_date</th>\n",
       "    </tr>\n",
       "  </thead>\n",
       "  <tbody>\n",
       "    <tr>\n",
       "      <th>0</th>\n",
       "      <td>7222695916</td>\n",
       "      <td>https://prescott.craigslist.org/cto/d/prescott...</td>\n",
       "      <td>prescott</td>\n",
       "      <td>https://prescott.craigslist.org</td>\n",
       "      <td>6000</td>\n",
       "      <td>2010.0</td>\n",
       "      <td>NaN</td>\n",
       "      <td>NaN</td>\n",
       "      <td>NaN</td>\n",
       "      <td>NaN</td>\n",
       "      <td>NaN</td>\n",
       "      <td>NaN</td>\n",
       "      <td>NaN</td>\n",
       "      <td>NaN</td>\n",
       "      <td>NaN</td>\n",
       "      <td>NaN</td>\n",
       "      <td>NaN</td>\n",
       "      <td>NaN</td>\n",
       "      <td>NaN</td>\n",
       "      <td>NaN</td>\n",
       "      <td>NaN</td>\n",
       "      <td>NaN</td>\n",
       "      <td>az</td>\n",
       "      <td>NaN</td>\n",
       "      <td>NaN</td>\n",
       "      <td>NaN</td>\n",
       "    </tr>\n",
       "    <tr>\n",
       "      <th>1</th>\n",
       "      <td>7218891961</td>\n",
       "      <td>https://fayar.craigslist.org/ctd/d/bentonville...</td>\n",
       "      <td>fayetteville</td>\n",
       "      <td>https://fayar.craigslist.org</td>\n",
       "      <td>11900</td>\n",
       "      <td>2017.0</td>\n",
       "      <td>NaN</td>\n",
       "      <td>NaN</td>\n",
       "      <td>NaN</td>\n",
       "      <td>NaN</td>\n",
       "      <td>NaN</td>\n",
       "      <td>NaN</td>\n",
       "      <td>NaN</td>\n",
       "      <td>NaN</td>\n",
       "      <td>NaN</td>\n",
       "      <td>NaN</td>\n",
       "      <td>NaN</td>\n",
       "      <td>NaN</td>\n",
       "      <td>NaN</td>\n",
       "      <td>NaN</td>\n",
       "      <td>NaN</td>\n",
       "      <td>NaN</td>\n",
       "      <td>ar</td>\n",
       "      <td>NaN</td>\n",
       "      <td>NaN</td>\n",
       "      <td>NaN</td>\n",
       "    </tr>\n",
       "    <tr>\n",
       "      <th>2</th>\n",
       "      <td>7221797935</td>\n",
       "      <td>https://keys.craigslist.org/cto/d/summerland-k...</td>\n",
       "      <td>florida keys</td>\n",
       "      <td>https://keys.craigslist.org</td>\n",
       "      <td>21000</td>\n",
       "      <td>2005.0</td>\n",
       "      <td>NaN</td>\n",
       "      <td>NaN</td>\n",
       "      <td>NaN</td>\n",
       "      <td>NaN</td>\n",
       "      <td>NaN</td>\n",
       "      <td>NaN</td>\n",
       "      <td>NaN</td>\n",
       "      <td>NaN</td>\n",
       "      <td>NaN</td>\n",
       "      <td>NaN</td>\n",
       "      <td>NaN</td>\n",
       "      <td>NaN</td>\n",
       "      <td>NaN</td>\n",
       "      <td>NaN</td>\n",
       "      <td>NaN</td>\n",
       "      <td>NaN</td>\n",
       "      <td>fl</td>\n",
       "      <td>NaN</td>\n",
       "      <td>NaN</td>\n",
       "      <td>NaN</td>\n",
       "    </tr>\n",
       "    <tr>\n",
       "      <th>3</th>\n",
       "      <td>7222270760</td>\n",
       "      <td>https://worcester.craigslist.org/cto/d/west-br...</td>\n",
       "      <td>worcester / central MA</td>\n",
       "      <td>https://worcester.craigslist.org</td>\n",
       "      <td>1500</td>\n",
       "      <td>2002.0</td>\n",
       "      <td>NaN</td>\n",
       "      <td>NaN</td>\n",
       "      <td>NaN</td>\n",
       "      <td>NaN</td>\n",
       "      <td>NaN</td>\n",
       "      <td>NaN</td>\n",
       "      <td>NaN</td>\n",
       "      <td>NaN</td>\n",
       "      <td>NaN</td>\n",
       "      <td>NaN</td>\n",
       "      <td>NaN</td>\n",
       "      <td>NaN</td>\n",
       "      <td>NaN</td>\n",
       "      <td>NaN</td>\n",
       "      <td>NaN</td>\n",
       "      <td>NaN</td>\n",
       "      <td>ma</td>\n",
       "      <td>NaN</td>\n",
       "      <td>NaN</td>\n",
       "      <td>NaN</td>\n",
       "    </tr>\n",
       "    <tr>\n",
       "      <th>4</th>\n",
       "      <td>7210384030</td>\n",
       "      <td>https://greensboro.craigslist.org/cto/d/trinit...</td>\n",
       "      <td>greensboro</td>\n",
       "      <td>https://greensboro.craigslist.org</td>\n",
       "      <td>4900</td>\n",
       "      <td>1965.0</td>\n",
       "      <td>NaN</td>\n",
       "      <td>NaN</td>\n",
       "      <td>NaN</td>\n",
       "      <td>NaN</td>\n",
       "      <td>NaN</td>\n",
       "      <td>NaN</td>\n",
       "      <td>NaN</td>\n",
       "      <td>NaN</td>\n",
       "      <td>NaN</td>\n",
       "      <td>NaN</td>\n",
       "      <td>NaN</td>\n",
       "      <td>NaN</td>\n",
       "      <td>NaN</td>\n",
       "      <td>NaN</td>\n",
       "      <td>NaN</td>\n",
       "      <td>NaN</td>\n",
       "      <td>nc</td>\n",
       "      <td>NaN</td>\n",
       "      <td>NaN</td>\n",
       "      <td>NaN</td>\n",
       "    </tr>\n",
       "    <tr>\n",
       "      <th>...</th>\n",
       "      <td>...</td>\n",
       "      <td>...</td>\n",
       "      <td>...</td>\n",
       "      <td>...</td>\n",
       "      <td>...</td>\n",
       "      <td>...</td>\n",
       "      <td>...</td>\n",
       "      <td>...</td>\n",
       "      <td>...</td>\n",
       "      <td>...</td>\n",
       "      <td>...</td>\n",
       "      <td>...</td>\n",
       "      <td>...</td>\n",
       "      <td>...</td>\n",
       "      <td>...</td>\n",
       "      <td>...</td>\n",
       "      <td>...</td>\n",
       "      <td>...</td>\n",
       "      <td>...</td>\n",
       "      <td>...</td>\n",
       "      <td>...</td>\n",
       "      <td>...</td>\n",
       "      <td>...</td>\n",
       "      <td>...</td>\n",
       "      <td>...</td>\n",
       "      <td>...</td>\n",
       "    </tr>\n",
       "    <tr>\n",
       "      <th>426875</th>\n",
       "      <td>7301591192</td>\n",
       "      <td>https://wyoming.craigslist.org/ctd/d/atlanta-2...</td>\n",
       "      <td>wyoming</td>\n",
       "      <td>https://wyoming.craigslist.org</td>\n",
       "      <td>23590</td>\n",
       "      <td>2019.0</td>\n",
       "      <td>nissan</td>\n",
       "      <td>maxima s sedan 4d</td>\n",
       "      <td>good</td>\n",
       "      <td>6 cylinders</td>\n",
       "      <td>gas</td>\n",
       "      <td>32226.0</td>\n",
       "      <td>clean</td>\n",
       "      <td>other</td>\n",
       "      <td>1N4AA6AV6KC367801</td>\n",
       "      <td>fwd</td>\n",
       "      <td>NaN</td>\n",
       "      <td>sedan</td>\n",
       "      <td>NaN</td>\n",
       "      <td>https://images.craigslist.org/00o0o_iiraFnHg8q...</td>\n",
       "      <td>Carvana is the safer way to buy a car During t...</td>\n",
       "      <td>NaN</td>\n",
       "      <td>wy</td>\n",
       "      <td>33.786500</td>\n",
       "      <td>-84.445400</td>\n",
       "      <td>2021-04-04T03:21:31-0600</td>\n",
       "    </tr>\n",
       "    <tr>\n",
       "      <th>426876</th>\n",
       "      <td>7301591187</td>\n",
       "      <td>https://wyoming.craigslist.org/ctd/d/atlanta-2...</td>\n",
       "      <td>wyoming</td>\n",
       "      <td>https://wyoming.craigslist.org</td>\n",
       "      <td>30590</td>\n",
       "      <td>2020.0</td>\n",
       "      <td>volvo</td>\n",
       "      <td>s60 t5 momentum sedan 4d</td>\n",
       "      <td>good</td>\n",
       "      <td>NaN</td>\n",
       "      <td>gas</td>\n",
       "      <td>12029.0</td>\n",
       "      <td>clean</td>\n",
       "      <td>other</td>\n",
       "      <td>7JR102FKXLG042696</td>\n",
       "      <td>fwd</td>\n",
       "      <td>NaN</td>\n",
       "      <td>sedan</td>\n",
       "      <td>red</td>\n",
       "      <td>https://images.craigslist.org/00x0x_15sbgnxCIS...</td>\n",
       "      <td>Carvana is the safer way to buy a car During t...</td>\n",
       "      <td>NaN</td>\n",
       "      <td>wy</td>\n",
       "      <td>33.786500</td>\n",
       "      <td>-84.445400</td>\n",
       "      <td>2021-04-04T03:21:29-0600</td>\n",
       "    </tr>\n",
       "    <tr>\n",
       "      <th>426877</th>\n",
       "      <td>7301591147</td>\n",
       "      <td>https://wyoming.craigslist.org/ctd/d/atlanta-2...</td>\n",
       "      <td>wyoming</td>\n",
       "      <td>https://wyoming.craigslist.org</td>\n",
       "      <td>34990</td>\n",
       "      <td>2020.0</td>\n",
       "      <td>cadillac</td>\n",
       "      <td>xt4 sport suv 4d</td>\n",
       "      <td>good</td>\n",
       "      <td>NaN</td>\n",
       "      <td>diesel</td>\n",
       "      <td>4174.0</td>\n",
       "      <td>clean</td>\n",
       "      <td>other</td>\n",
       "      <td>1GYFZFR46LF088296</td>\n",
       "      <td>NaN</td>\n",
       "      <td>NaN</td>\n",
       "      <td>hatchback</td>\n",
       "      <td>white</td>\n",
       "      <td>https://images.craigslist.org/00L0L_farM7bxnxR...</td>\n",
       "      <td>Carvana is the safer way to buy a car During t...</td>\n",
       "      <td>NaN</td>\n",
       "      <td>wy</td>\n",
       "      <td>33.779214</td>\n",
       "      <td>-84.411811</td>\n",
       "      <td>2021-04-04T03:21:17-0600</td>\n",
       "    </tr>\n",
       "    <tr>\n",
       "      <th>426878</th>\n",
       "      <td>7301591140</td>\n",
       "      <td>https://wyoming.craigslist.org/ctd/d/atlanta-2...</td>\n",
       "      <td>wyoming</td>\n",
       "      <td>https://wyoming.craigslist.org</td>\n",
       "      <td>28990</td>\n",
       "      <td>2018.0</td>\n",
       "      <td>lexus</td>\n",
       "      <td>es 350 sedan 4d</td>\n",
       "      <td>good</td>\n",
       "      <td>6 cylinders</td>\n",
       "      <td>gas</td>\n",
       "      <td>30112.0</td>\n",
       "      <td>clean</td>\n",
       "      <td>other</td>\n",
       "      <td>58ABK1GG4JU103853</td>\n",
       "      <td>fwd</td>\n",
       "      <td>NaN</td>\n",
       "      <td>sedan</td>\n",
       "      <td>silver</td>\n",
       "      <td>https://images.craigslist.org/00z0z_bKnIVGLkDT...</td>\n",
       "      <td>Carvana is the safer way to buy a car During t...</td>\n",
       "      <td>NaN</td>\n",
       "      <td>wy</td>\n",
       "      <td>33.786500</td>\n",
       "      <td>-84.445400</td>\n",
       "      <td>2021-04-04T03:21:11-0600</td>\n",
       "    </tr>\n",
       "    <tr>\n",
       "      <th>426879</th>\n",
       "      <td>7301591129</td>\n",
       "      <td>https://wyoming.craigslist.org/ctd/d/atlanta-2...</td>\n",
       "      <td>wyoming</td>\n",
       "      <td>https://wyoming.craigslist.org</td>\n",
       "      <td>30590</td>\n",
       "      <td>2019.0</td>\n",
       "      <td>bmw</td>\n",
       "      <td>4 series 430i gran coupe</td>\n",
       "      <td>good</td>\n",
       "      <td>NaN</td>\n",
       "      <td>gas</td>\n",
       "      <td>22716.0</td>\n",
       "      <td>clean</td>\n",
       "      <td>other</td>\n",
       "      <td>WBA4J1C58KBM14708</td>\n",
       "      <td>rwd</td>\n",
       "      <td>NaN</td>\n",
       "      <td>coupe</td>\n",
       "      <td>NaN</td>\n",
       "      <td>https://images.craigslist.org/00Y0Y_lEUocjyRxa...</td>\n",
       "      <td>Carvana is the safer way to buy a car During t...</td>\n",
       "      <td>NaN</td>\n",
       "      <td>wy</td>\n",
       "      <td>33.779214</td>\n",
       "      <td>-84.411811</td>\n",
       "      <td>2021-04-04T03:21:07-0600</td>\n",
       "    </tr>\n",
       "  </tbody>\n",
       "</table>\n",
       "<p>426880 rows × 26 columns</p>\n",
       "</div>"
      ],
      "text/plain": [
       "                id                                                url  \\\n",
       "0       7222695916  https://prescott.craigslist.org/cto/d/prescott...   \n",
       "1       7218891961  https://fayar.craigslist.org/ctd/d/bentonville...   \n",
       "2       7221797935  https://keys.craigslist.org/cto/d/summerland-k...   \n",
       "3       7222270760  https://worcester.craigslist.org/cto/d/west-br...   \n",
       "4       7210384030  https://greensboro.craigslist.org/cto/d/trinit...   \n",
       "...            ...                                                ...   \n",
       "426875  7301591192  https://wyoming.craigslist.org/ctd/d/atlanta-2...   \n",
       "426876  7301591187  https://wyoming.craigslist.org/ctd/d/atlanta-2...   \n",
       "426877  7301591147  https://wyoming.craigslist.org/ctd/d/atlanta-2...   \n",
       "426878  7301591140  https://wyoming.craigslist.org/ctd/d/atlanta-2...   \n",
       "426879  7301591129  https://wyoming.craigslist.org/ctd/d/atlanta-2...   \n",
       "\n",
       "                        region                         region_url  price  \\\n",
       "0                     prescott    https://prescott.craigslist.org   6000   \n",
       "1                 fayetteville       https://fayar.craigslist.org  11900   \n",
       "2                 florida keys        https://keys.craigslist.org  21000   \n",
       "3       worcester / central MA   https://worcester.craigslist.org   1500   \n",
       "4                   greensboro  https://greensboro.craigslist.org   4900   \n",
       "...                        ...                                ...    ...   \n",
       "426875                 wyoming     https://wyoming.craigslist.org  23590   \n",
       "426876                 wyoming     https://wyoming.craigslist.org  30590   \n",
       "426877                 wyoming     https://wyoming.craigslist.org  34990   \n",
       "426878                 wyoming     https://wyoming.craigslist.org  28990   \n",
       "426879                 wyoming     https://wyoming.craigslist.org  30590   \n",
       "\n",
       "          year manufacturer                     model condition    cylinders  \\\n",
       "0       2010.0          NaN                       NaN       NaN          NaN   \n",
       "1       2017.0          NaN                       NaN       NaN          NaN   \n",
       "2       2005.0          NaN                       NaN       NaN          NaN   \n",
       "3       2002.0          NaN                       NaN       NaN          NaN   \n",
       "4       1965.0          NaN                       NaN       NaN          NaN   \n",
       "...        ...          ...                       ...       ...          ...   \n",
       "426875  2019.0       nissan         maxima s sedan 4d      good  6 cylinders   \n",
       "426876  2020.0        volvo  s60 t5 momentum sedan 4d      good          NaN   \n",
       "426877  2020.0     cadillac          xt4 sport suv 4d      good          NaN   \n",
       "426878  2018.0        lexus           es 350 sedan 4d      good  6 cylinders   \n",
       "426879  2019.0          bmw  4 series 430i gran coupe      good          NaN   \n",
       "\n",
       "          fuel  odometer title_status transmission                VIN drive  \\\n",
       "0          NaN       NaN          NaN          NaN                NaN   NaN   \n",
       "1          NaN       NaN          NaN          NaN                NaN   NaN   \n",
       "2          NaN       NaN          NaN          NaN                NaN   NaN   \n",
       "3          NaN       NaN          NaN          NaN                NaN   NaN   \n",
       "4          NaN       NaN          NaN          NaN                NaN   NaN   \n",
       "...        ...       ...          ...          ...                ...   ...   \n",
       "426875     gas   32226.0        clean        other  1N4AA6AV6KC367801   fwd   \n",
       "426876     gas   12029.0        clean        other  7JR102FKXLG042696   fwd   \n",
       "426877  diesel    4174.0        clean        other  1GYFZFR46LF088296   NaN   \n",
       "426878     gas   30112.0        clean        other  58ABK1GG4JU103853   fwd   \n",
       "426879     gas   22716.0        clean        other  WBA4J1C58KBM14708   rwd   \n",
       "\n",
       "       size       type paint_color  \\\n",
       "0       NaN        NaN         NaN   \n",
       "1       NaN        NaN         NaN   \n",
       "2       NaN        NaN         NaN   \n",
       "3       NaN        NaN         NaN   \n",
       "4       NaN        NaN         NaN   \n",
       "...     ...        ...         ...   \n",
       "426875  NaN      sedan         NaN   \n",
       "426876  NaN      sedan         red   \n",
       "426877  NaN  hatchback       white   \n",
       "426878  NaN      sedan      silver   \n",
       "426879  NaN      coupe         NaN   \n",
       "\n",
       "                                                image_url  \\\n",
       "0                                                     NaN   \n",
       "1                                                     NaN   \n",
       "2                                                     NaN   \n",
       "3                                                     NaN   \n",
       "4                                                     NaN   \n",
       "...                                                   ...   \n",
       "426875  https://images.craigslist.org/00o0o_iiraFnHg8q...   \n",
       "426876  https://images.craigslist.org/00x0x_15sbgnxCIS...   \n",
       "426877  https://images.craigslist.org/00L0L_farM7bxnxR...   \n",
       "426878  https://images.craigslist.org/00z0z_bKnIVGLkDT...   \n",
       "426879  https://images.craigslist.org/00Y0Y_lEUocjyRxa...   \n",
       "\n",
       "                                              description  county state  \\\n",
       "0                                                     NaN     NaN    az   \n",
       "1                                                     NaN     NaN    ar   \n",
       "2                                                     NaN     NaN    fl   \n",
       "3                                                     NaN     NaN    ma   \n",
       "4                                                     NaN     NaN    nc   \n",
       "...                                                   ...     ...   ...   \n",
       "426875  Carvana is the safer way to buy a car During t...     NaN    wy   \n",
       "426876  Carvana is the safer way to buy a car During t...     NaN    wy   \n",
       "426877  Carvana is the safer way to buy a car During t...     NaN    wy   \n",
       "426878  Carvana is the safer way to buy a car During t...     NaN    wy   \n",
       "426879  Carvana is the safer way to buy a car During t...     NaN    wy   \n",
       "\n",
       "              lat       long              posting_date  \n",
       "0             NaN        NaN                       NaN  \n",
       "1             NaN        NaN                       NaN  \n",
       "2             NaN        NaN                       NaN  \n",
       "3             NaN        NaN                       NaN  \n",
       "4             NaN        NaN                       NaN  \n",
       "...           ...        ...                       ...  \n",
       "426875  33.786500 -84.445400  2021-04-04T03:21:31-0600  \n",
       "426876  33.786500 -84.445400  2021-04-04T03:21:29-0600  \n",
       "426877  33.779214 -84.411811  2021-04-04T03:21:17-0600  \n",
       "426878  33.786500 -84.445400  2021-04-04T03:21:11-0600  \n",
       "426879  33.779214 -84.411811  2021-04-04T03:21:07-0600  \n",
       "\n",
       "[426880 rows x 26 columns]"
      ]
     },
     "execution_count": 30,
     "metadata": {},
     "output_type": "execute_result"
    }
   ],
   "source": [
    "df"
   ]
  },
  {
   "cell_type": "markdown",
   "metadata": {},
   "source": [
    "### The year column in the original dataframe has been filled"
   ]
  },
  {
   "cell_type": "code",
   "execution_count": 31,
   "metadata": {
    "execution": {
     "iopub.execute_input": "2021-05-20T13:38:28.624176Z",
     "iopub.status.busy": "2021-05-20T13:38:28.623736Z",
     "iopub.status.idle": "2021-05-20T13:38:28.750363Z",
     "shell.execute_reply": "2021-05-20T13:38:28.749422Z",
     "shell.execute_reply.started": "2021-05-20T13:38:28.624143Z"
    }
   },
   "outputs": [
    {
     "data": {
      "text/plain": [
       "255"
      ]
     },
     "execution_count": 31,
     "metadata": {},
     "output_type": "execute_result"
    }
   ],
   "source": [
    "gc.collect()"
   ]
  },
  {
   "cell_type": "markdown",
   "metadata": {},
   "source": [
    "### MANUFACTURER"
   ]
  },
  {
   "cell_type": "markdown",
   "metadata": {},
   "source": [
    "#### Filling the Manufacturer column\n",
    "\n",
    "#### First of all, we check for unique values in the manfacturer column from the original dataframe"
   ]
  },
  {
   "cell_type": "code",
   "execution_count": 32,
   "metadata": {
    "execution": {
     "iopub.execute_input": "2021-05-20T13:38:28.751985Z",
     "iopub.status.busy": "2021-05-20T13:38:28.751661Z",
     "iopub.status.idle": "2021-05-20T13:38:28.799992Z",
     "shell.execute_reply": "2021-05-20T13:38:28.799057Z",
     "shell.execute_reply.started": "2021-05-20T13:38:28.751954Z"
    }
   },
   "outputs": [
    {
     "data": {
      "text/plain": [
       "array([nan, 'gmc', 'chevrolet', 'toyota', 'ford', 'jeep', 'nissan', 'ram',\n",
       "       'mazda', 'cadillac', 'honda', 'dodge', 'lexus', 'jaguar', 'buick',\n",
       "       'chrysler', 'volvo', 'audi', 'infiniti', 'lincoln', 'alfa-romeo',\n",
       "       'subaru', 'acura', 'hyundai', 'mercedes-benz', 'bmw', 'mitsubishi',\n",
       "       'volkswagen', 'porsche', 'kia', 'rover', 'ferrari', 'mini',\n",
       "       'pontiac', 'fiat', 'tesla', 'saturn', 'mercury', 'harley-davidson',\n",
       "       'datsun', 'aston-martin', 'land rover', 'morgan'], dtype=object)"
      ]
     },
     "execution_count": 32,
     "metadata": {},
     "output_type": "execute_result"
    }
   ],
   "source": [
    "#checking out unique values for the manufacturer columns\n",
    "df.manufacturer.unique()"
   ]
  },
  {
   "cell_type": "markdown",
   "metadata": {},
   "source": [
    "#### Next we create a list for these unique values. They are then extracted from the path column in the new dataframe(df2) and put into a new column called 'manu'"
   ]
  },
  {
   "cell_type": "code",
   "execution_count": 33,
   "metadata": {
    "execution": {
     "iopub.execute_input": "2021-05-20T13:38:28.801891Z",
     "iopub.status.busy": "2021-05-20T13:38:28.801468Z",
     "iopub.status.idle": "2021-05-20T13:38:38.239936Z",
     "shell.execute_reply": "2021-05-20T13:38:38.239026Z",
     "shell.execute_reply.started": "2021-05-20T13:38:28.801858Z"
    }
   },
   "outputs": [
    {
     "data": {
      "text/html": [
       "<div>\n",
       "<style scoped>\n",
       "    .dataframe tbody tr th:only-of-type {\n",
       "        vertical-align: middle;\n",
       "    }\n",
       "\n",
       "    .dataframe tbody tr th {\n",
       "        vertical-align: top;\n",
       "    }\n",
       "\n",
       "    .dataframe thead th {\n",
       "        text-align: right;\n",
       "    }\n",
       "</style>\n",
       "<table border=\"1\" class=\"dataframe\">\n",
       "  <thead>\n",
       "    <tr style=\"text-align: right;\">\n",
       "      <th></th>\n",
       "      <th>protocol</th>\n",
       "      <th>domain</th>\n",
       "      <th>path</th>\n",
       "      <th>path_int</th>\n",
       "      <th>pa_th</th>\n",
       "      <th>year</th>\n",
       "      <th>id</th>\n",
       "      <th>manu</th>\n",
       "    </tr>\n",
       "  </thead>\n",
       "  <tbody>\n",
       "    <tr>\n",
       "      <th>0</th>\n",
       "      <td>https</td>\n",
       "      <td>prescott.craigslist.org</td>\n",
       "      <td>cto d prescott 2010 ford ranger 7222695916 html</td>\n",
       "      <td>2010     7222695916</td>\n",
       "      <td>2010     7222695916</td>\n",
       "      <td>2010.0</td>\n",
       "      <td>7222695916</td>\n",
       "      <td>ford</td>\n",
       "    </tr>\n",
       "    <tr>\n",
       "      <th>1</th>\n",
       "      <td>https</td>\n",
       "      <td>fayar.craigslist.org</td>\n",
       "      <td>ctd d bentonville 2017 hyundai elantra se 721...</td>\n",
       "      <td>2017       7218891961</td>\n",
       "      <td>2017       7218891961</td>\n",
       "      <td>2017.0</td>\n",
       "      <td>7218891961</td>\n",
       "      <td>hyundai</td>\n",
       "    </tr>\n",
       "    <tr>\n",
       "      <th>2</th>\n",
       "      <td>https</td>\n",
       "      <td>keys.craigslist.org</td>\n",
       "      <td>cto d summerland key 2005 excursion 722179793...</td>\n",
       "      <td>2005   7221797935</td>\n",
       "      <td>2005   7221797935</td>\n",
       "      <td>2005.0</td>\n",
       "      <td>7221797935</td>\n",
       "      <td>NaN</td>\n",
       "    </tr>\n",
       "    <tr>\n",
       "      <th>3</th>\n",
       "      <td>https</td>\n",
       "      <td>worcester.craigslist.org</td>\n",
       "      <td>cto d west brookfield 2002 honda odyssey ex 7...</td>\n",
       "      <td>2002       7222270760</td>\n",
       "      <td>2002       7222270760</td>\n",
       "      <td>2002.0</td>\n",
       "      <td>7222270760</td>\n",
       "      <td>honda</td>\n",
       "    </tr>\n",
       "    <tr>\n",
       "      <th>4</th>\n",
       "      <td>https</td>\n",
       "      <td>greensboro.craigslist.org</td>\n",
       "      <td>cto d trinity 1965 chevrolet truck 7210384030...</td>\n",
       "      <td>1965     7210384030</td>\n",
       "      <td>1965     7210384030</td>\n",
       "      <td>1965.0</td>\n",
       "      <td>7210384030</td>\n",
       "      <td>chevrolet</td>\n",
       "    </tr>\n",
       "    <tr>\n",
       "      <th>...</th>\n",
       "      <td>...</td>\n",
       "      <td>...</td>\n",
       "      <td>...</td>\n",
       "      <td>...</td>\n",
       "      <td>...</td>\n",
       "      <td>...</td>\n",
       "      <td>...</td>\n",
       "      <td>...</td>\n",
       "    </tr>\n",
       "    <tr>\n",
       "      <th>426875</th>\n",
       "      <td>https</td>\n",
       "      <td>wyoming.craigslist.org</td>\n",
       "      <td>ctd d atlanta 2019 nissan maxima sedan 4d 730...</td>\n",
       "      <td>2019       4  7301591192</td>\n",
       "      <td>2019       4  7301591192</td>\n",
       "      <td>2019.0</td>\n",
       "      <td>7301591192</td>\n",
       "      <td>nissan</td>\n",
       "    </tr>\n",
       "    <tr>\n",
       "      <th>426876</th>\n",
       "      <td>https</td>\n",
       "      <td>wyoming.craigslist.org</td>\n",
       "      <td>ctd d atlanta 2020 volvo s60 t5 momentum 7301...</td>\n",
       "      <td>2020    60  5   7301591187</td>\n",
       "      <td>2020    60  5   7301591187</td>\n",
       "      <td>2020.0</td>\n",
       "      <td>7301591187</td>\n",
       "      <td>volvo</td>\n",
       "    </tr>\n",
       "    <tr>\n",
       "      <th>426877</th>\n",
       "      <td>https</td>\n",
       "      <td>wyoming.craigslist.org</td>\n",
       "      <td>ctd d atlanta 2020 caddy cadillac xt4 sport 7...</td>\n",
       "      <td>2020      4   7301591147</td>\n",
       "      <td>2020      4   7301591147</td>\n",
       "      <td>2020.0</td>\n",
       "      <td>7301591147</td>\n",
       "      <td>cadillac</td>\n",
       "    </tr>\n",
       "    <tr>\n",
       "      <th>426878</th>\n",
       "      <td>https</td>\n",
       "      <td>wyoming.craigslist.org</td>\n",
       "      <td>ctd d atlanta 2018 lexus es es 350 sedan 4d 7...</td>\n",
       "      <td>2018       350   4  7301591140</td>\n",
       "      <td>2018       350   4  7301591140</td>\n",
       "      <td>2018.0</td>\n",
       "      <td>7301591140</td>\n",
       "      <td>lexus</td>\n",
       "    </tr>\n",
       "    <tr>\n",
       "      <th>426879</th>\n",
       "      <td>https</td>\n",
       "      <td>wyoming.craigslist.org</td>\n",
       "      <td>ctd d atlanta 2019 bmw series 430i gran coupe...</td>\n",
       "      <td>2019     430      7301591129</td>\n",
       "      <td>2019     430      7301591129</td>\n",
       "      <td>2019.0</td>\n",
       "      <td>7301591129</td>\n",
       "      <td>bmw</td>\n",
       "    </tr>\n",
       "  </tbody>\n",
       "</table>\n",
       "<p>426880 rows × 8 columns</p>\n",
       "</div>"
      ],
      "text/plain": [
       "       protocol                     domain  \\\n",
       "0         https    prescott.craigslist.org   \n",
       "1         https       fayar.craigslist.org   \n",
       "2         https        keys.craigslist.org   \n",
       "3         https   worcester.craigslist.org   \n",
       "4         https  greensboro.craigslist.org   \n",
       "...         ...                        ...   \n",
       "426875    https     wyoming.craigslist.org   \n",
       "426876    https     wyoming.craigslist.org   \n",
       "426877    https     wyoming.craigslist.org   \n",
       "426878    https     wyoming.craigslist.org   \n",
       "426879    https     wyoming.craigslist.org   \n",
       "\n",
       "                                                     path  \\\n",
       "0         cto d prescott 2010 ford ranger 7222695916 html   \n",
       "1        ctd d bentonville 2017 hyundai elantra se 721...   \n",
       "2        cto d summerland key 2005 excursion 722179793...   \n",
       "3        cto d west brookfield 2002 honda odyssey ex 7...   \n",
       "4        cto d trinity 1965 chevrolet truck 7210384030...   \n",
       "...                                                   ...   \n",
       "426875   ctd d atlanta 2019 nissan maxima sedan 4d 730...   \n",
       "426876   ctd d atlanta 2020 volvo s60 t5 momentum 7301...   \n",
       "426877   ctd d atlanta 2020 caddy cadillac xt4 sport 7...   \n",
       "426878   ctd d atlanta 2018 lexus es es 350 sedan 4d 7...   \n",
       "426879   ctd d atlanta 2019 bmw series 430i gran coupe...   \n",
       "\n",
       "                              path_int                           pa_th  \\\n",
       "0                  2010     7222695916             2010     7222695916   \n",
       "1                2017       7218891961           2017       7218891961   \n",
       "2                    2005   7221797935               2005   7221797935   \n",
       "3                2002       7222270760           2002       7222270760   \n",
       "4                  1965     7210384030             1965     7210384030   \n",
       "...                                ...                             ...   \n",
       "426875        2019       4  7301591192        2019       4  7301591192   \n",
       "426876      2020    60  5   7301591187      2020    60  5   7301591187   \n",
       "426877        2020      4   7301591147        2020      4   7301591147   \n",
       "426878  2018       350   4  7301591140  2018       350   4  7301591140   \n",
       "426879    2019     430      7301591129    2019     430      7301591129   \n",
       "\n",
       "          year          id       manu  \n",
       "0       2010.0  7222695916       ford  \n",
       "1       2017.0  7218891961    hyundai  \n",
       "2       2005.0  7221797935        NaN  \n",
       "3       2002.0  7222270760      honda  \n",
       "4       1965.0  7210384030  chevrolet  \n",
       "...        ...         ...        ...  \n",
       "426875  2019.0  7301591192     nissan  \n",
       "426876  2020.0  7301591187      volvo  \n",
       "426877  2020.0  7301591147   cadillac  \n",
       "426878  2018.0  7301591140      lexus  \n",
       "426879  2019.0  7301591129        bmw  \n",
       "\n",
       "[426880 rows x 8 columns]"
      ]
     },
     "execution_count": 33,
     "metadata": {},
     "output_type": "execute_result"
    }
   ],
   "source": [
    "#extracting manufacturer from path column\n",
    "L = '|'.join(['gmc', 'chevrolet', 'toyota', 'ford', 'jeep', 'nissan', 'ram',\n",
    "       'mazda', 'cadillac', 'honda', 'dodge', 'lexus', 'jaguar', 'buick',\n",
    "       'chrysler', 'volvo', 'audi', 'infiniti', 'lincoln', 'alfa-romeo',\n",
    "       'subaru', 'acura', 'hyundai', 'mercedes-benz', 'bmw', 'mitsubishi',\n",
    "       'volkswagen', 'porsche', 'kia', 'rover', 'ferrari', 'mini',\n",
    "       'pontiac', 'fiat', 'tesla', 'saturn', 'mercury', 'harley-davidson',\n",
    "       'datsun', 'aston-martin', 'land rover', 'morgan'])\n",
    "#creating a new column containing the names of each manufacturer found in the path column\n",
    "df2['manu'] = df2['path'].str.extract('('+ L + ')', expand=False, flags=re.I)\n",
    "df2"
   ]
  },
  {
   "cell_type": "code",
   "execution_count": 34,
   "metadata": {
    "execution": {
     "iopub.execute_input": "2021-05-20T13:38:38.241532Z",
     "iopub.status.busy": "2021-05-20T13:38:38.241239Z",
     "iopub.status.idle": "2021-05-20T13:38:38.353441Z",
     "shell.execute_reply": "2021-05-20T13:38:38.352496Z",
     "shell.execute_reply.started": "2021-05-20T13:38:38.241501Z"
    }
   },
   "outputs": [
    {
     "data": {
      "text/plain": [
       "22"
      ]
     },
     "execution_count": 34,
     "metadata": {},
     "output_type": "execute_result"
    }
   ],
   "source": [
    "gc.collect()"
   ]
  },
  {
   "cell_type": "markdown",
   "metadata": {},
   "source": [
    "#### We check to see if the path column contains the manufaturer detail for all rows"
   ]
  },
  {
   "cell_type": "code",
   "execution_count": 35,
   "metadata": {
    "execution": {
     "iopub.execute_input": "2021-05-20T13:38:38.355031Z",
     "iopub.status.busy": "2021-05-20T13:38:38.354720Z",
     "iopub.status.idle": "2021-05-20T13:38:39.815510Z",
     "shell.execute_reply": "2021-05-20T13:38:39.814602Z",
     "shell.execute_reply.started": "2021-05-20T13:38:38.355001Z"
    }
   },
   "outputs": [
    {
     "data": {
      "text/plain": [
       "0          True\n",
       "1          True\n",
       "2         False\n",
       "3          True\n",
       "4          True\n",
       "          ...  \n",
       "426875     True\n",
       "426876     True\n",
       "426877     True\n",
       "426878     True\n",
       "426879     True\n",
       "Name: path, Length: 426880, dtype: bool"
      ]
     },
     "execution_count": 35,
     "metadata": {},
     "output_type": "execute_result"
    }
   ],
   "source": [
    "#checking if the path column contains the manufacturer details for all rows\n",
    "df2.path.str.contains(L)"
   ]
  },
  {
   "cell_type": "markdown",
   "metadata": {},
   "source": [
    "#### False value shows that the manufacturer details are missing for a particular row. Hence we fill this with the most occured value"
   ]
  },
  {
   "cell_type": "code",
   "execution_count": 36,
   "metadata": {
    "execution": {
     "iopub.execute_input": "2021-05-20T13:38:39.816873Z",
     "iopub.status.busy": "2021-05-20T13:38:39.816600Z",
     "iopub.status.idle": "2021-05-20T13:38:39.889074Z",
     "shell.execute_reply": "2021-05-20T13:38:39.888164Z",
     "shell.execute_reply.started": "2021-05-20T13:38:39.816848Z"
    }
   },
   "outputs": [
    {
     "data": {
      "text/html": [
       "<div>\n",
       "<style scoped>\n",
       "    .dataframe tbody tr th:only-of-type {\n",
       "        vertical-align: middle;\n",
       "    }\n",
       "\n",
       "    .dataframe tbody tr th {\n",
       "        vertical-align: top;\n",
       "    }\n",
       "\n",
       "    .dataframe thead th {\n",
       "        text-align: right;\n",
       "    }\n",
       "</style>\n",
       "<table border=\"1\" class=\"dataframe\">\n",
       "  <thead>\n",
       "    <tr style=\"text-align: right;\">\n",
       "      <th></th>\n",
       "      <th>protocol</th>\n",
       "      <th>domain</th>\n",
       "      <th>path</th>\n",
       "      <th>path_int</th>\n",
       "      <th>pa_th</th>\n",
       "      <th>year</th>\n",
       "      <th>id</th>\n",
       "      <th>manu</th>\n",
       "    </tr>\n",
       "  </thead>\n",
       "  <tbody>\n",
       "    <tr>\n",
       "      <th>0</th>\n",
       "      <td>https</td>\n",
       "      <td>prescott.craigslist.org</td>\n",
       "      <td>cto d prescott 2010 ford ranger 7222695916 html</td>\n",
       "      <td>2010     7222695916</td>\n",
       "      <td>2010     7222695916</td>\n",
       "      <td>2010.0</td>\n",
       "      <td>7222695916</td>\n",
       "      <td>ford</td>\n",
       "    </tr>\n",
       "    <tr>\n",
       "      <th>1</th>\n",
       "      <td>https</td>\n",
       "      <td>fayar.craigslist.org</td>\n",
       "      <td>ctd d bentonville 2017 hyundai elantra se 721...</td>\n",
       "      <td>2017       7218891961</td>\n",
       "      <td>2017       7218891961</td>\n",
       "      <td>2017.0</td>\n",
       "      <td>7218891961</td>\n",
       "      <td>hyundai</td>\n",
       "    </tr>\n",
       "    <tr>\n",
       "      <th>2</th>\n",
       "      <td>https</td>\n",
       "      <td>keys.craigslist.org</td>\n",
       "      <td>cto d summerland key 2005 excursion 722179793...</td>\n",
       "      <td>2005   7221797935</td>\n",
       "      <td>2005   7221797935</td>\n",
       "      <td>2005.0</td>\n",
       "      <td>7221797935</td>\n",
       "      <td>ford</td>\n",
       "    </tr>\n",
       "    <tr>\n",
       "      <th>3</th>\n",
       "      <td>https</td>\n",
       "      <td>worcester.craigslist.org</td>\n",
       "      <td>cto d west brookfield 2002 honda odyssey ex 7...</td>\n",
       "      <td>2002       7222270760</td>\n",
       "      <td>2002       7222270760</td>\n",
       "      <td>2002.0</td>\n",
       "      <td>7222270760</td>\n",
       "      <td>honda</td>\n",
       "    </tr>\n",
       "    <tr>\n",
       "      <th>4</th>\n",
       "      <td>https</td>\n",
       "      <td>greensboro.craigslist.org</td>\n",
       "      <td>cto d trinity 1965 chevrolet truck 7210384030...</td>\n",
       "      <td>1965     7210384030</td>\n",
       "      <td>1965     7210384030</td>\n",
       "      <td>1965.0</td>\n",
       "      <td>7210384030</td>\n",
       "      <td>chevrolet</td>\n",
       "    </tr>\n",
       "    <tr>\n",
       "      <th>...</th>\n",
       "      <td>...</td>\n",
       "      <td>...</td>\n",
       "      <td>...</td>\n",
       "      <td>...</td>\n",
       "      <td>...</td>\n",
       "      <td>...</td>\n",
       "      <td>...</td>\n",
       "      <td>...</td>\n",
       "    </tr>\n",
       "    <tr>\n",
       "      <th>426875</th>\n",
       "      <td>https</td>\n",
       "      <td>wyoming.craigslist.org</td>\n",
       "      <td>ctd d atlanta 2019 nissan maxima sedan 4d 730...</td>\n",
       "      <td>2019       4  7301591192</td>\n",
       "      <td>2019       4  7301591192</td>\n",
       "      <td>2019.0</td>\n",
       "      <td>7301591192</td>\n",
       "      <td>nissan</td>\n",
       "    </tr>\n",
       "    <tr>\n",
       "      <th>426876</th>\n",
       "      <td>https</td>\n",
       "      <td>wyoming.craigslist.org</td>\n",
       "      <td>ctd d atlanta 2020 volvo s60 t5 momentum 7301...</td>\n",
       "      <td>2020    60  5   7301591187</td>\n",
       "      <td>2020    60  5   7301591187</td>\n",
       "      <td>2020.0</td>\n",
       "      <td>7301591187</td>\n",
       "      <td>volvo</td>\n",
       "    </tr>\n",
       "    <tr>\n",
       "      <th>426877</th>\n",
       "      <td>https</td>\n",
       "      <td>wyoming.craigslist.org</td>\n",
       "      <td>ctd d atlanta 2020 caddy cadillac xt4 sport 7...</td>\n",
       "      <td>2020      4   7301591147</td>\n",
       "      <td>2020      4   7301591147</td>\n",
       "      <td>2020.0</td>\n",
       "      <td>7301591147</td>\n",
       "      <td>cadillac</td>\n",
       "    </tr>\n",
       "    <tr>\n",
       "      <th>426878</th>\n",
       "      <td>https</td>\n",
       "      <td>wyoming.craigslist.org</td>\n",
       "      <td>ctd d atlanta 2018 lexus es es 350 sedan 4d 7...</td>\n",
       "      <td>2018       350   4  7301591140</td>\n",
       "      <td>2018       350   4  7301591140</td>\n",
       "      <td>2018.0</td>\n",
       "      <td>7301591140</td>\n",
       "      <td>lexus</td>\n",
       "    </tr>\n",
       "    <tr>\n",
       "      <th>426879</th>\n",
       "      <td>https</td>\n",
       "      <td>wyoming.craigslist.org</td>\n",
       "      <td>ctd d atlanta 2019 bmw series 430i gran coupe...</td>\n",
       "      <td>2019     430      7301591129</td>\n",
       "      <td>2019     430      7301591129</td>\n",
       "      <td>2019.0</td>\n",
       "      <td>7301591129</td>\n",
       "      <td>bmw</td>\n",
       "    </tr>\n",
       "  </tbody>\n",
       "</table>\n",
       "<p>426880 rows × 8 columns</p>\n",
       "</div>"
      ],
      "text/plain": [
       "       protocol                     domain  \\\n",
       "0         https    prescott.craigslist.org   \n",
       "1         https       fayar.craigslist.org   \n",
       "2         https        keys.craigslist.org   \n",
       "3         https   worcester.craigslist.org   \n",
       "4         https  greensboro.craigslist.org   \n",
       "...         ...                        ...   \n",
       "426875    https     wyoming.craigslist.org   \n",
       "426876    https     wyoming.craigslist.org   \n",
       "426877    https     wyoming.craigslist.org   \n",
       "426878    https     wyoming.craigslist.org   \n",
       "426879    https     wyoming.craigslist.org   \n",
       "\n",
       "                                                     path  \\\n",
       "0         cto d prescott 2010 ford ranger 7222695916 html   \n",
       "1        ctd d bentonville 2017 hyundai elantra se 721...   \n",
       "2        cto d summerland key 2005 excursion 722179793...   \n",
       "3        cto d west brookfield 2002 honda odyssey ex 7...   \n",
       "4        cto d trinity 1965 chevrolet truck 7210384030...   \n",
       "...                                                   ...   \n",
       "426875   ctd d atlanta 2019 nissan maxima sedan 4d 730...   \n",
       "426876   ctd d atlanta 2020 volvo s60 t5 momentum 7301...   \n",
       "426877   ctd d atlanta 2020 caddy cadillac xt4 sport 7...   \n",
       "426878   ctd d atlanta 2018 lexus es es 350 sedan 4d 7...   \n",
       "426879   ctd d atlanta 2019 bmw series 430i gran coupe...   \n",
       "\n",
       "                              path_int                           pa_th  \\\n",
       "0                  2010     7222695916             2010     7222695916   \n",
       "1                2017       7218891961           2017       7218891961   \n",
       "2                    2005   7221797935               2005   7221797935   \n",
       "3                2002       7222270760           2002       7222270760   \n",
       "4                  1965     7210384030             1965     7210384030   \n",
       "...                                ...                             ...   \n",
       "426875        2019       4  7301591192        2019       4  7301591192   \n",
       "426876      2020    60  5   7301591187      2020    60  5   7301591187   \n",
       "426877        2020      4   7301591147        2020      4   7301591147   \n",
       "426878  2018       350   4  7301591140  2018       350   4  7301591140   \n",
       "426879    2019     430      7301591129    2019     430      7301591129   \n",
       "\n",
       "          year          id       manu  \n",
       "0       2010.0  7222695916       ford  \n",
       "1       2017.0  7218891961    hyundai  \n",
       "2       2005.0  7221797935       ford  \n",
       "3       2002.0  7222270760      honda  \n",
       "4       1965.0  7210384030  chevrolet  \n",
       "...        ...         ...        ...  \n",
       "426875  2019.0  7301591192     nissan  \n",
       "426876  2020.0  7301591187      volvo  \n",
       "426877  2020.0  7301591147   cadillac  \n",
       "426878  2018.0  7301591140      lexus  \n",
       "426879  2019.0  7301591129        bmw  \n",
       "\n",
       "[426880 rows x 8 columns]"
      ]
     },
     "execution_count": 36,
     "metadata": {},
     "output_type": "execute_result"
    }
   ],
   "source": [
    "#fill the nan values in the new manu column with the mode\n",
    "df2['manu']=df2['manu'].fillna('ford')\n",
    "df2"
   ]
  },
  {
   "cell_type": "markdown",
   "metadata": {},
   "source": [
    "### Next we fill nan values in the manufacturer column in the original dataframe with values from the new dataframe based on mactching ids"
   ]
  },
  {
   "cell_type": "code",
   "execution_count": 37,
   "metadata": {
    "execution": {
     "iopub.execute_input": "2021-05-20T13:38:39.890534Z",
     "iopub.status.busy": "2021-05-20T13:38:39.890250Z",
     "iopub.status.idle": "2021-05-20T13:38:40.156562Z",
     "shell.execute_reply": "2021-05-20T13:38:40.155509Z",
     "shell.execute_reply.started": "2021-05-20T13:38:39.890505Z"
    }
   },
   "outputs": [],
   "source": [
    "#replacing missing values in the manufacturer column in the first dataframe with actual values in df2\n",
    "df['manufacturer']=df.set_index('id')['manufacturer'].fillna(df2.set_index('id')['manu']).values"
   ]
  },
  {
   "cell_type": "code",
   "execution_count": 38,
   "metadata": {
    "execution": {
     "iopub.execute_input": "2021-05-20T13:38:40.158182Z",
     "iopub.status.busy": "2021-05-20T13:38:40.157861Z",
     "iopub.status.idle": "2021-05-20T13:38:40.204141Z",
     "shell.execute_reply": "2021-05-20T13:38:40.203176Z",
     "shell.execute_reply.started": "2021-05-20T13:38:40.158151Z"
    }
   },
   "outputs": [
    {
     "data": {
      "text/html": [
       "<div>\n",
       "<style scoped>\n",
       "    .dataframe tbody tr th:only-of-type {\n",
       "        vertical-align: middle;\n",
       "    }\n",
       "\n",
       "    .dataframe tbody tr th {\n",
       "        vertical-align: top;\n",
       "    }\n",
       "\n",
       "    .dataframe thead th {\n",
       "        text-align: right;\n",
       "    }\n",
       "</style>\n",
       "<table border=\"1\" class=\"dataframe\">\n",
       "  <thead>\n",
       "    <tr style=\"text-align: right;\">\n",
       "      <th></th>\n",
       "      <th>id</th>\n",
       "      <th>url</th>\n",
       "      <th>region</th>\n",
       "      <th>region_url</th>\n",
       "      <th>price</th>\n",
       "      <th>year</th>\n",
       "      <th>manufacturer</th>\n",
       "      <th>model</th>\n",
       "      <th>condition</th>\n",
       "      <th>cylinders</th>\n",
       "      <th>fuel</th>\n",
       "      <th>odometer</th>\n",
       "      <th>title_status</th>\n",
       "      <th>transmission</th>\n",
       "      <th>VIN</th>\n",
       "      <th>drive</th>\n",
       "      <th>size</th>\n",
       "      <th>type</th>\n",
       "      <th>paint_color</th>\n",
       "      <th>image_url</th>\n",
       "      <th>description</th>\n",
       "      <th>county</th>\n",
       "      <th>state</th>\n",
       "      <th>lat</th>\n",
       "      <th>long</th>\n",
       "      <th>posting_date</th>\n",
       "    </tr>\n",
       "  </thead>\n",
       "  <tbody>\n",
       "    <tr>\n",
       "      <th>0</th>\n",
       "      <td>7222695916</td>\n",
       "      <td>https://prescott.craigslist.org/cto/d/prescott...</td>\n",
       "      <td>prescott</td>\n",
       "      <td>https://prescott.craigslist.org</td>\n",
       "      <td>6000</td>\n",
       "      <td>2010.0</td>\n",
       "      <td>ford</td>\n",
       "      <td>NaN</td>\n",
       "      <td>NaN</td>\n",
       "      <td>NaN</td>\n",
       "      <td>NaN</td>\n",
       "      <td>NaN</td>\n",
       "      <td>NaN</td>\n",
       "      <td>NaN</td>\n",
       "      <td>NaN</td>\n",
       "      <td>NaN</td>\n",
       "      <td>NaN</td>\n",
       "      <td>NaN</td>\n",
       "      <td>NaN</td>\n",
       "      <td>NaN</td>\n",
       "      <td>NaN</td>\n",
       "      <td>NaN</td>\n",
       "      <td>az</td>\n",
       "      <td>NaN</td>\n",
       "      <td>NaN</td>\n",
       "      <td>NaN</td>\n",
       "    </tr>\n",
       "    <tr>\n",
       "      <th>1</th>\n",
       "      <td>7218891961</td>\n",
       "      <td>https://fayar.craigslist.org/ctd/d/bentonville...</td>\n",
       "      <td>fayetteville</td>\n",
       "      <td>https://fayar.craigslist.org</td>\n",
       "      <td>11900</td>\n",
       "      <td>2017.0</td>\n",
       "      <td>hyundai</td>\n",
       "      <td>NaN</td>\n",
       "      <td>NaN</td>\n",
       "      <td>NaN</td>\n",
       "      <td>NaN</td>\n",
       "      <td>NaN</td>\n",
       "      <td>NaN</td>\n",
       "      <td>NaN</td>\n",
       "      <td>NaN</td>\n",
       "      <td>NaN</td>\n",
       "      <td>NaN</td>\n",
       "      <td>NaN</td>\n",
       "      <td>NaN</td>\n",
       "      <td>NaN</td>\n",
       "      <td>NaN</td>\n",
       "      <td>NaN</td>\n",
       "      <td>ar</td>\n",
       "      <td>NaN</td>\n",
       "      <td>NaN</td>\n",
       "      <td>NaN</td>\n",
       "    </tr>\n",
       "    <tr>\n",
       "      <th>2</th>\n",
       "      <td>7221797935</td>\n",
       "      <td>https://keys.craigslist.org/cto/d/summerland-k...</td>\n",
       "      <td>florida keys</td>\n",
       "      <td>https://keys.craigslist.org</td>\n",
       "      <td>21000</td>\n",
       "      <td>2005.0</td>\n",
       "      <td>ford</td>\n",
       "      <td>NaN</td>\n",
       "      <td>NaN</td>\n",
       "      <td>NaN</td>\n",
       "      <td>NaN</td>\n",
       "      <td>NaN</td>\n",
       "      <td>NaN</td>\n",
       "      <td>NaN</td>\n",
       "      <td>NaN</td>\n",
       "      <td>NaN</td>\n",
       "      <td>NaN</td>\n",
       "      <td>NaN</td>\n",
       "      <td>NaN</td>\n",
       "      <td>NaN</td>\n",
       "      <td>NaN</td>\n",
       "      <td>NaN</td>\n",
       "      <td>fl</td>\n",
       "      <td>NaN</td>\n",
       "      <td>NaN</td>\n",
       "      <td>NaN</td>\n",
       "    </tr>\n",
       "    <tr>\n",
       "      <th>3</th>\n",
       "      <td>7222270760</td>\n",
       "      <td>https://worcester.craigslist.org/cto/d/west-br...</td>\n",
       "      <td>worcester / central MA</td>\n",
       "      <td>https://worcester.craigslist.org</td>\n",
       "      <td>1500</td>\n",
       "      <td>2002.0</td>\n",
       "      <td>honda</td>\n",
       "      <td>NaN</td>\n",
       "      <td>NaN</td>\n",
       "      <td>NaN</td>\n",
       "      <td>NaN</td>\n",
       "      <td>NaN</td>\n",
       "      <td>NaN</td>\n",
       "      <td>NaN</td>\n",
       "      <td>NaN</td>\n",
       "      <td>NaN</td>\n",
       "      <td>NaN</td>\n",
       "      <td>NaN</td>\n",
       "      <td>NaN</td>\n",
       "      <td>NaN</td>\n",
       "      <td>NaN</td>\n",
       "      <td>NaN</td>\n",
       "      <td>ma</td>\n",
       "      <td>NaN</td>\n",
       "      <td>NaN</td>\n",
       "      <td>NaN</td>\n",
       "    </tr>\n",
       "    <tr>\n",
       "      <th>4</th>\n",
       "      <td>7210384030</td>\n",
       "      <td>https://greensboro.craigslist.org/cto/d/trinit...</td>\n",
       "      <td>greensboro</td>\n",
       "      <td>https://greensboro.craigslist.org</td>\n",
       "      <td>4900</td>\n",
       "      <td>1965.0</td>\n",
       "      <td>chevrolet</td>\n",
       "      <td>NaN</td>\n",
       "      <td>NaN</td>\n",
       "      <td>NaN</td>\n",
       "      <td>NaN</td>\n",
       "      <td>NaN</td>\n",
       "      <td>NaN</td>\n",
       "      <td>NaN</td>\n",
       "      <td>NaN</td>\n",
       "      <td>NaN</td>\n",
       "      <td>NaN</td>\n",
       "      <td>NaN</td>\n",
       "      <td>NaN</td>\n",
       "      <td>NaN</td>\n",
       "      <td>NaN</td>\n",
       "      <td>NaN</td>\n",
       "      <td>nc</td>\n",
       "      <td>NaN</td>\n",
       "      <td>NaN</td>\n",
       "      <td>NaN</td>\n",
       "    </tr>\n",
       "    <tr>\n",
       "      <th>...</th>\n",
       "      <td>...</td>\n",
       "      <td>...</td>\n",
       "      <td>...</td>\n",
       "      <td>...</td>\n",
       "      <td>...</td>\n",
       "      <td>...</td>\n",
       "      <td>...</td>\n",
       "      <td>...</td>\n",
       "      <td>...</td>\n",
       "      <td>...</td>\n",
       "      <td>...</td>\n",
       "      <td>...</td>\n",
       "      <td>...</td>\n",
       "      <td>...</td>\n",
       "      <td>...</td>\n",
       "      <td>...</td>\n",
       "      <td>...</td>\n",
       "      <td>...</td>\n",
       "      <td>...</td>\n",
       "      <td>...</td>\n",
       "      <td>...</td>\n",
       "      <td>...</td>\n",
       "      <td>...</td>\n",
       "      <td>...</td>\n",
       "      <td>...</td>\n",
       "      <td>...</td>\n",
       "    </tr>\n",
       "    <tr>\n",
       "      <th>426875</th>\n",
       "      <td>7301591192</td>\n",
       "      <td>https://wyoming.craigslist.org/ctd/d/atlanta-2...</td>\n",
       "      <td>wyoming</td>\n",
       "      <td>https://wyoming.craigslist.org</td>\n",
       "      <td>23590</td>\n",
       "      <td>2019.0</td>\n",
       "      <td>nissan</td>\n",
       "      <td>maxima s sedan 4d</td>\n",
       "      <td>good</td>\n",
       "      <td>6 cylinders</td>\n",
       "      <td>gas</td>\n",
       "      <td>32226.0</td>\n",
       "      <td>clean</td>\n",
       "      <td>other</td>\n",
       "      <td>1N4AA6AV6KC367801</td>\n",
       "      <td>fwd</td>\n",
       "      <td>NaN</td>\n",
       "      <td>sedan</td>\n",
       "      <td>NaN</td>\n",
       "      <td>https://images.craigslist.org/00o0o_iiraFnHg8q...</td>\n",
       "      <td>Carvana is the safer way to buy a car During t...</td>\n",
       "      <td>NaN</td>\n",
       "      <td>wy</td>\n",
       "      <td>33.786500</td>\n",
       "      <td>-84.445400</td>\n",
       "      <td>2021-04-04T03:21:31-0600</td>\n",
       "    </tr>\n",
       "    <tr>\n",
       "      <th>426876</th>\n",
       "      <td>7301591187</td>\n",
       "      <td>https://wyoming.craigslist.org/ctd/d/atlanta-2...</td>\n",
       "      <td>wyoming</td>\n",
       "      <td>https://wyoming.craigslist.org</td>\n",
       "      <td>30590</td>\n",
       "      <td>2020.0</td>\n",
       "      <td>volvo</td>\n",
       "      <td>s60 t5 momentum sedan 4d</td>\n",
       "      <td>good</td>\n",
       "      <td>NaN</td>\n",
       "      <td>gas</td>\n",
       "      <td>12029.0</td>\n",
       "      <td>clean</td>\n",
       "      <td>other</td>\n",
       "      <td>7JR102FKXLG042696</td>\n",
       "      <td>fwd</td>\n",
       "      <td>NaN</td>\n",
       "      <td>sedan</td>\n",
       "      <td>red</td>\n",
       "      <td>https://images.craigslist.org/00x0x_15sbgnxCIS...</td>\n",
       "      <td>Carvana is the safer way to buy a car During t...</td>\n",
       "      <td>NaN</td>\n",
       "      <td>wy</td>\n",
       "      <td>33.786500</td>\n",
       "      <td>-84.445400</td>\n",
       "      <td>2021-04-04T03:21:29-0600</td>\n",
       "    </tr>\n",
       "    <tr>\n",
       "      <th>426877</th>\n",
       "      <td>7301591147</td>\n",
       "      <td>https://wyoming.craigslist.org/ctd/d/atlanta-2...</td>\n",
       "      <td>wyoming</td>\n",
       "      <td>https://wyoming.craigslist.org</td>\n",
       "      <td>34990</td>\n",
       "      <td>2020.0</td>\n",
       "      <td>cadillac</td>\n",
       "      <td>xt4 sport suv 4d</td>\n",
       "      <td>good</td>\n",
       "      <td>NaN</td>\n",
       "      <td>diesel</td>\n",
       "      <td>4174.0</td>\n",
       "      <td>clean</td>\n",
       "      <td>other</td>\n",
       "      <td>1GYFZFR46LF088296</td>\n",
       "      <td>NaN</td>\n",
       "      <td>NaN</td>\n",
       "      <td>hatchback</td>\n",
       "      <td>white</td>\n",
       "      <td>https://images.craigslist.org/00L0L_farM7bxnxR...</td>\n",
       "      <td>Carvana is the safer way to buy a car During t...</td>\n",
       "      <td>NaN</td>\n",
       "      <td>wy</td>\n",
       "      <td>33.779214</td>\n",
       "      <td>-84.411811</td>\n",
       "      <td>2021-04-04T03:21:17-0600</td>\n",
       "    </tr>\n",
       "    <tr>\n",
       "      <th>426878</th>\n",
       "      <td>7301591140</td>\n",
       "      <td>https://wyoming.craigslist.org/ctd/d/atlanta-2...</td>\n",
       "      <td>wyoming</td>\n",
       "      <td>https://wyoming.craigslist.org</td>\n",
       "      <td>28990</td>\n",
       "      <td>2018.0</td>\n",
       "      <td>lexus</td>\n",
       "      <td>es 350 sedan 4d</td>\n",
       "      <td>good</td>\n",
       "      <td>6 cylinders</td>\n",
       "      <td>gas</td>\n",
       "      <td>30112.0</td>\n",
       "      <td>clean</td>\n",
       "      <td>other</td>\n",
       "      <td>58ABK1GG4JU103853</td>\n",
       "      <td>fwd</td>\n",
       "      <td>NaN</td>\n",
       "      <td>sedan</td>\n",
       "      <td>silver</td>\n",
       "      <td>https://images.craigslist.org/00z0z_bKnIVGLkDT...</td>\n",
       "      <td>Carvana is the safer way to buy a car During t...</td>\n",
       "      <td>NaN</td>\n",
       "      <td>wy</td>\n",
       "      <td>33.786500</td>\n",
       "      <td>-84.445400</td>\n",
       "      <td>2021-04-04T03:21:11-0600</td>\n",
       "    </tr>\n",
       "    <tr>\n",
       "      <th>426879</th>\n",
       "      <td>7301591129</td>\n",
       "      <td>https://wyoming.craigslist.org/ctd/d/atlanta-2...</td>\n",
       "      <td>wyoming</td>\n",
       "      <td>https://wyoming.craigslist.org</td>\n",
       "      <td>30590</td>\n",
       "      <td>2019.0</td>\n",
       "      <td>bmw</td>\n",
       "      <td>4 series 430i gran coupe</td>\n",
       "      <td>good</td>\n",
       "      <td>NaN</td>\n",
       "      <td>gas</td>\n",
       "      <td>22716.0</td>\n",
       "      <td>clean</td>\n",
       "      <td>other</td>\n",
       "      <td>WBA4J1C58KBM14708</td>\n",
       "      <td>rwd</td>\n",
       "      <td>NaN</td>\n",
       "      <td>coupe</td>\n",
       "      <td>NaN</td>\n",
       "      <td>https://images.craigslist.org/00Y0Y_lEUocjyRxa...</td>\n",
       "      <td>Carvana is the safer way to buy a car During t...</td>\n",
       "      <td>NaN</td>\n",
       "      <td>wy</td>\n",
       "      <td>33.779214</td>\n",
       "      <td>-84.411811</td>\n",
       "      <td>2021-04-04T03:21:07-0600</td>\n",
       "    </tr>\n",
       "  </tbody>\n",
       "</table>\n",
       "<p>426880 rows × 26 columns</p>\n",
       "</div>"
      ],
      "text/plain": [
       "                id                                                url  \\\n",
       "0       7222695916  https://prescott.craigslist.org/cto/d/prescott...   \n",
       "1       7218891961  https://fayar.craigslist.org/ctd/d/bentonville...   \n",
       "2       7221797935  https://keys.craigslist.org/cto/d/summerland-k...   \n",
       "3       7222270760  https://worcester.craigslist.org/cto/d/west-br...   \n",
       "4       7210384030  https://greensboro.craigslist.org/cto/d/trinit...   \n",
       "...            ...                                                ...   \n",
       "426875  7301591192  https://wyoming.craigslist.org/ctd/d/atlanta-2...   \n",
       "426876  7301591187  https://wyoming.craigslist.org/ctd/d/atlanta-2...   \n",
       "426877  7301591147  https://wyoming.craigslist.org/ctd/d/atlanta-2...   \n",
       "426878  7301591140  https://wyoming.craigslist.org/ctd/d/atlanta-2...   \n",
       "426879  7301591129  https://wyoming.craigslist.org/ctd/d/atlanta-2...   \n",
       "\n",
       "                        region                         region_url  price  \\\n",
       "0                     prescott    https://prescott.craigslist.org   6000   \n",
       "1                 fayetteville       https://fayar.craigslist.org  11900   \n",
       "2                 florida keys        https://keys.craigslist.org  21000   \n",
       "3       worcester / central MA   https://worcester.craigslist.org   1500   \n",
       "4                   greensboro  https://greensboro.craigslist.org   4900   \n",
       "...                        ...                                ...    ...   \n",
       "426875                 wyoming     https://wyoming.craigslist.org  23590   \n",
       "426876                 wyoming     https://wyoming.craigslist.org  30590   \n",
       "426877                 wyoming     https://wyoming.craigslist.org  34990   \n",
       "426878                 wyoming     https://wyoming.craigslist.org  28990   \n",
       "426879                 wyoming     https://wyoming.craigslist.org  30590   \n",
       "\n",
       "          year manufacturer                     model condition    cylinders  \\\n",
       "0       2010.0         ford                       NaN       NaN          NaN   \n",
       "1       2017.0      hyundai                       NaN       NaN          NaN   \n",
       "2       2005.0         ford                       NaN       NaN          NaN   \n",
       "3       2002.0        honda                       NaN       NaN          NaN   \n",
       "4       1965.0    chevrolet                       NaN       NaN          NaN   \n",
       "...        ...          ...                       ...       ...          ...   \n",
       "426875  2019.0       nissan         maxima s sedan 4d      good  6 cylinders   \n",
       "426876  2020.0        volvo  s60 t5 momentum sedan 4d      good          NaN   \n",
       "426877  2020.0     cadillac          xt4 sport suv 4d      good          NaN   \n",
       "426878  2018.0        lexus           es 350 sedan 4d      good  6 cylinders   \n",
       "426879  2019.0          bmw  4 series 430i gran coupe      good          NaN   \n",
       "\n",
       "          fuel  odometer title_status transmission                VIN drive  \\\n",
       "0          NaN       NaN          NaN          NaN                NaN   NaN   \n",
       "1          NaN       NaN          NaN          NaN                NaN   NaN   \n",
       "2          NaN       NaN          NaN          NaN                NaN   NaN   \n",
       "3          NaN       NaN          NaN          NaN                NaN   NaN   \n",
       "4          NaN       NaN          NaN          NaN                NaN   NaN   \n",
       "...        ...       ...          ...          ...                ...   ...   \n",
       "426875     gas   32226.0        clean        other  1N4AA6AV6KC367801   fwd   \n",
       "426876     gas   12029.0        clean        other  7JR102FKXLG042696   fwd   \n",
       "426877  diesel    4174.0        clean        other  1GYFZFR46LF088296   NaN   \n",
       "426878     gas   30112.0        clean        other  58ABK1GG4JU103853   fwd   \n",
       "426879     gas   22716.0        clean        other  WBA4J1C58KBM14708   rwd   \n",
       "\n",
       "       size       type paint_color  \\\n",
       "0       NaN        NaN         NaN   \n",
       "1       NaN        NaN         NaN   \n",
       "2       NaN        NaN         NaN   \n",
       "3       NaN        NaN         NaN   \n",
       "4       NaN        NaN         NaN   \n",
       "...     ...        ...         ...   \n",
       "426875  NaN      sedan         NaN   \n",
       "426876  NaN      sedan         red   \n",
       "426877  NaN  hatchback       white   \n",
       "426878  NaN      sedan      silver   \n",
       "426879  NaN      coupe         NaN   \n",
       "\n",
       "                                                image_url  \\\n",
       "0                                                     NaN   \n",
       "1                                                     NaN   \n",
       "2                                                     NaN   \n",
       "3                                                     NaN   \n",
       "4                                                     NaN   \n",
       "...                                                   ...   \n",
       "426875  https://images.craigslist.org/00o0o_iiraFnHg8q...   \n",
       "426876  https://images.craigslist.org/00x0x_15sbgnxCIS...   \n",
       "426877  https://images.craigslist.org/00L0L_farM7bxnxR...   \n",
       "426878  https://images.craigslist.org/00z0z_bKnIVGLkDT...   \n",
       "426879  https://images.craigslist.org/00Y0Y_lEUocjyRxa...   \n",
       "\n",
       "                                              description  county state  \\\n",
       "0                                                     NaN     NaN    az   \n",
       "1                                                     NaN     NaN    ar   \n",
       "2                                                     NaN     NaN    fl   \n",
       "3                                                     NaN     NaN    ma   \n",
       "4                                                     NaN     NaN    nc   \n",
       "...                                                   ...     ...   ...   \n",
       "426875  Carvana is the safer way to buy a car During t...     NaN    wy   \n",
       "426876  Carvana is the safer way to buy a car During t...     NaN    wy   \n",
       "426877  Carvana is the safer way to buy a car During t...     NaN    wy   \n",
       "426878  Carvana is the safer way to buy a car During t...     NaN    wy   \n",
       "426879  Carvana is the safer way to buy a car During t...     NaN    wy   \n",
       "\n",
       "              lat       long              posting_date  \n",
       "0             NaN        NaN                       NaN  \n",
       "1             NaN        NaN                       NaN  \n",
       "2             NaN        NaN                       NaN  \n",
       "3             NaN        NaN                       NaN  \n",
       "4             NaN        NaN                       NaN  \n",
       "...           ...        ...                       ...  \n",
       "426875  33.786500 -84.445400  2021-04-04T03:21:31-0600  \n",
       "426876  33.786500 -84.445400  2021-04-04T03:21:29-0600  \n",
       "426877  33.779214 -84.411811  2021-04-04T03:21:17-0600  \n",
       "426878  33.786500 -84.445400  2021-04-04T03:21:11-0600  \n",
       "426879  33.779214 -84.411811  2021-04-04T03:21:07-0600  \n",
       "\n",
       "[426880 rows x 26 columns]"
      ]
     },
     "execution_count": 38,
     "metadata": {},
     "output_type": "execute_result"
    }
   ],
   "source": [
    "#inspecting dataframe\n",
    "df"
   ]
  },
  {
   "cell_type": "markdown",
   "metadata": {},
   "source": [
    "### The manufacturer column has been filled"
   ]
  },
  {
   "cell_type": "code",
   "execution_count": 39,
   "metadata": {
    "execution": {
     "iopub.execute_input": "2021-05-20T13:38:40.205681Z",
     "iopub.status.busy": "2021-05-20T13:38:40.205391Z",
     "iopub.status.idle": "2021-05-20T13:38:40.322279Z",
     "shell.execute_reply": "2021-05-20T13:38:40.321238Z",
     "shell.execute_reply.started": "2021-05-20T13:38:40.205654Z"
    }
   },
   "outputs": [
    {
     "data": {
      "text/plain": [
       "80"
      ]
     },
     "execution_count": 39,
     "metadata": {},
     "output_type": "execute_result"
    }
   ],
   "source": [
    "gc.collect()"
   ]
  },
  {
   "cell_type": "markdown",
   "metadata": {},
   "source": [
    "#### TYPE"
   ]
  },
  {
   "cell_type": "markdown",
   "metadata": {},
   "source": [
    "#### Filling the type column\n",
    "\n",
    "#### First of all, we check for unique values in the type column from the original dataframe"
   ]
  },
  {
   "cell_type": "code",
   "execution_count": 40,
   "metadata": {
    "execution": {
     "iopub.execute_input": "2021-05-20T13:38:40.323786Z",
     "iopub.status.busy": "2021-05-20T13:38:40.323504Z",
     "iopub.status.idle": "2021-05-20T13:38:40.375980Z",
     "shell.execute_reply": "2021-05-20T13:38:40.374977Z",
     "shell.execute_reply.started": "2021-05-20T13:38:40.323759Z"
    }
   },
   "outputs": [
    {
     "data": {
      "text/plain": [
       "array([nan, 'pickup', 'truck', 'other', 'coupe', 'SUV', 'hatchback',\n",
       "       'mini-van', 'sedan', 'offroad', 'bus', 'van', 'convertible',\n",
       "       'wagon'], dtype=object)"
      ]
     },
     "execution_count": 40,
     "metadata": {},
     "output_type": "execute_result"
    }
   ],
   "source": [
    "#checking for unique car types\n",
    "df['type'].unique()"
   ]
  },
  {
   "cell_type": "markdown",
   "metadata": {},
   "source": [
    "#### Next we create a list for these unique values. They are then extracted from the path column in the new dataframe(df2) and put into a new column called 'type'"
   ]
  },
  {
   "cell_type": "code",
   "execution_count": 41,
   "metadata": {
    "execution": {
     "iopub.execute_input": "2021-05-20T13:38:40.377440Z",
     "iopub.status.busy": "2021-05-20T13:38:40.377149Z",
     "iopub.status.idle": "2021-05-20T13:38:49.263667Z",
     "shell.execute_reply": "2021-05-20T13:38:49.262604Z",
     "shell.execute_reply.started": "2021-05-20T13:38:40.377413Z"
    }
   },
   "outputs": [
    {
     "data": {
      "text/html": [
       "<div>\n",
       "<style scoped>\n",
       "    .dataframe tbody tr th:only-of-type {\n",
       "        vertical-align: middle;\n",
       "    }\n",
       "\n",
       "    .dataframe tbody tr th {\n",
       "        vertical-align: top;\n",
       "    }\n",
       "\n",
       "    .dataframe thead th {\n",
       "        text-align: right;\n",
       "    }\n",
       "</style>\n",
       "<table border=\"1\" class=\"dataframe\">\n",
       "  <thead>\n",
       "    <tr style=\"text-align: right;\">\n",
       "      <th></th>\n",
       "      <th>protocol</th>\n",
       "      <th>domain</th>\n",
       "      <th>path</th>\n",
       "      <th>path_int</th>\n",
       "      <th>pa_th</th>\n",
       "      <th>year</th>\n",
       "      <th>id</th>\n",
       "      <th>manu</th>\n",
       "      <th>type</th>\n",
       "    </tr>\n",
       "  </thead>\n",
       "  <tbody>\n",
       "    <tr>\n",
       "      <th>0</th>\n",
       "      <td>https</td>\n",
       "      <td>prescott.craigslist.org</td>\n",
       "      <td>cto d prescott 2010 ford ranger 7222695916 html</td>\n",
       "      <td>2010     7222695916</td>\n",
       "      <td>2010     7222695916</td>\n",
       "      <td>2010.0</td>\n",
       "      <td>7222695916</td>\n",
       "      <td>ford</td>\n",
       "      <td>NaN</td>\n",
       "    </tr>\n",
       "    <tr>\n",
       "      <th>1</th>\n",
       "      <td>https</td>\n",
       "      <td>fayar.craigslist.org</td>\n",
       "      <td>ctd d bentonville 2017 hyundai elantra se 721...</td>\n",
       "      <td>2017       7218891961</td>\n",
       "      <td>2017       7218891961</td>\n",
       "      <td>2017.0</td>\n",
       "      <td>7218891961</td>\n",
       "      <td>hyundai</td>\n",
       "      <td>NaN</td>\n",
       "    </tr>\n",
       "    <tr>\n",
       "      <th>2</th>\n",
       "      <td>https</td>\n",
       "      <td>keys.craigslist.org</td>\n",
       "      <td>cto d summerland key 2005 excursion 722179793...</td>\n",
       "      <td>2005   7221797935</td>\n",
       "      <td>2005   7221797935</td>\n",
       "      <td>2005.0</td>\n",
       "      <td>7221797935</td>\n",
       "      <td>ford</td>\n",
       "      <td>NaN</td>\n",
       "    </tr>\n",
       "    <tr>\n",
       "      <th>3</th>\n",
       "      <td>https</td>\n",
       "      <td>worcester.craigslist.org</td>\n",
       "      <td>cto d west brookfield 2002 honda odyssey ex 7...</td>\n",
       "      <td>2002       7222270760</td>\n",
       "      <td>2002       7222270760</td>\n",
       "      <td>2002.0</td>\n",
       "      <td>7222270760</td>\n",
       "      <td>honda</td>\n",
       "      <td>NaN</td>\n",
       "    </tr>\n",
       "    <tr>\n",
       "      <th>4</th>\n",
       "      <td>https</td>\n",
       "      <td>greensboro.craigslist.org</td>\n",
       "      <td>cto d trinity 1965 chevrolet truck 7210384030...</td>\n",
       "      <td>1965     7210384030</td>\n",
       "      <td>1965     7210384030</td>\n",
       "      <td>1965.0</td>\n",
       "      <td>7210384030</td>\n",
       "      <td>chevrolet</td>\n",
       "      <td>truck</td>\n",
       "    </tr>\n",
       "    <tr>\n",
       "      <th>...</th>\n",
       "      <td>...</td>\n",
       "      <td>...</td>\n",
       "      <td>...</td>\n",
       "      <td>...</td>\n",
       "      <td>...</td>\n",
       "      <td>...</td>\n",
       "      <td>...</td>\n",
       "      <td>...</td>\n",
       "      <td>...</td>\n",
       "    </tr>\n",
       "    <tr>\n",
       "      <th>426875</th>\n",
       "      <td>https</td>\n",
       "      <td>wyoming.craigslist.org</td>\n",
       "      <td>ctd d atlanta 2019 nissan maxima sedan 4d 730...</td>\n",
       "      <td>2019       4  7301591192</td>\n",
       "      <td>2019       4  7301591192</td>\n",
       "      <td>2019.0</td>\n",
       "      <td>7301591192</td>\n",
       "      <td>nissan</td>\n",
       "      <td>sedan</td>\n",
       "    </tr>\n",
       "    <tr>\n",
       "      <th>426876</th>\n",
       "      <td>https</td>\n",
       "      <td>wyoming.craigslist.org</td>\n",
       "      <td>ctd d atlanta 2020 volvo s60 t5 momentum 7301...</td>\n",
       "      <td>2020    60  5   7301591187</td>\n",
       "      <td>2020    60  5   7301591187</td>\n",
       "      <td>2020.0</td>\n",
       "      <td>7301591187</td>\n",
       "      <td>volvo</td>\n",
       "      <td>NaN</td>\n",
       "    </tr>\n",
       "    <tr>\n",
       "      <th>426877</th>\n",
       "      <td>https</td>\n",
       "      <td>wyoming.craigslist.org</td>\n",
       "      <td>ctd d atlanta 2020 caddy cadillac xt4 sport 7...</td>\n",
       "      <td>2020      4   7301591147</td>\n",
       "      <td>2020      4   7301591147</td>\n",
       "      <td>2020.0</td>\n",
       "      <td>7301591147</td>\n",
       "      <td>cadillac</td>\n",
       "      <td>NaN</td>\n",
       "    </tr>\n",
       "    <tr>\n",
       "      <th>426878</th>\n",
       "      <td>https</td>\n",
       "      <td>wyoming.craigslist.org</td>\n",
       "      <td>ctd d atlanta 2018 lexus es es 350 sedan 4d 7...</td>\n",
       "      <td>2018       350   4  7301591140</td>\n",
       "      <td>2018       350   4  7301591140</td>\n",
       "      <td>2018.0</td>\n",
       "      <td>7301591140</td>\n",
       "      <td>lexus</td>\n",
       "      <td>sedan</td>\n",
       "    </tr>\n",
       "    <tr>\n",
       "      <th>426879</th>\n",
       "      <td>https</td>\n",
       "      <td>wyoming.craigslist.org</td>\n",
       "      <td>ctd d atlanta 2019 bmw series 430i gran coupe...</td>\n",
       "      <td>2019     430      7301591129</td>\n",
       "      <td>2019     430      7301591129</td>\n",
       "      <td>2019.0</td>\n",
       "      <td>7301591129</td>\n",
       "      <td>bmw</td>\n",
       "      <td>coupe</td>\n",
       "    </tr>\n",
       "  </tbody>\n",
       "</table>\n",
       "<p>426880 rows × 9 columns</p>\n",
       "</div>"
      ],
      "text/plain": [
       "       protocol                     domain  \\\n",
       "0         https    prescott.craigslist.org   \n",
       "1         https       fayar.craigslist.org   \n",
       "2         https        keys.craigslist.org   \n",
       "3         https   worcester.craigslist.org   \n",
       "4         https  greensboro.craigslist.org   \n",
       "...         ...                        ...   \n",
       "426875    https     wyoming.craigslist.org   \n",
       "426876    https     wyoming.craigslist.org   \n",
       "426877    https     wyoming.craigslist.org   \n",
       "426878    https     wyoming.craigslist.org   \n",
       "426879    https     wyoming.craigslist.org   \n",
       "\n",
       "                                                     path  \\\n",
       "0         cto d prescott 2010 ford ranger 7222695916 html   \n",
       "1        ctd d bentonville 2017 hyundai elantra se 721...   \n",
       "2        cto d summerland key 2005 excursion 722179793...   \n",
       "3        cto d west brookfield 2002 honda odyssey ex 7...   \n",
       "4        cto d trinity 1965 chevrolet truck 7210384030...   \n",
       "...                                                   ...   \n",
       "426875   ctd d atlanta 2019 nissan maxima sedan 4d 730...   \n",
       "426876   ctd d atlanta 2020 volvo s60 t5 momentum 7301...   \n",
       "426877   ctd d atlanta 2020 caddy cadillac xt4 sport 7...   \n",
       "426878   ctd d atlanta 2018 lexus es es 350 sedan 4d 7...   \n",
       "426879   ctd d atlanta 2019 bmw series 430i gran coupe...   \n",
       "\n",
       "                              path_int                           pa_th  \\\n",
       "0                  2010     7222695916             2010     7222695916   \n",
       "1                2017       7218891961           2017       7218891961   \n",
       "2                    2005   7221797935               2005   7221797935   \n",
       "3                2002       7222270760           2002       7222270760   \n",
       "4                  1965     7210384030             1965     7210384030   \n",
       "...                                ...                             ...   \n",
       "426875        2019       4  7301591192        2019       4  7301591192   \n",
       "426876      2020    60  5   7301591187      2020    60  5   7301591187   \n",
       "426877        2020      4   7301591147        2020      4   7301591147   \n",
       "426878  2018       350   4  7301591140  2018       350   4  7301591140   \n",
       "426879    2019     430      7301591129    2019     430      7301591129   \n",
       "\n",
       "          year          id       manu   type  \n",
       "0       2010.0  7222695916       ford    NaN  \n",
       "1       2017.0  7218891961    hyundai    NaN  \n",
       "2       2005.0  7221797935       ford    NaN  \n",
       "3       2002.0  7222270760      honda    NaN  \n",
       "4       1965.0  7210384030  chevrolet  truck  \n",
       "...        ...         ...        ...    ...  \n",
       "426875  2019.0  7301591192     nissan  sedan  \n",
       "426876  2020.0  7301591187      volvo    NaN  \n",
       "426877  2020.0  7301591147   cadillac    NaN  \n",
       "426878  2018.0  7301591140      lexus  sedan  \n",
       "426879  2019.0  7301591129        bmw  coupe  \n",
       "\n",
       "[426880 rows x 9 columns]"
      ]
     },
     "execution_count": 41,
     "metadata": {},
     "output_type": "execute_result"
    }
   ],
   "source": [
    "#creating a list for the car types\n",
    "T= '|'.join(['pickup', 'truck', 'other', 'coupe', 'SUV', 'hatchback',\n",
    "       'mini-van', 'sedan', 'offroad', 'bus', 'van', 'convertible',\n",
    "       'wagon'])\n",
    "#extracting the types from the path column and putting them in a new column\n",
    "df2['type'] = df2['path'].str.extract('('+ T + ')', expand=False, flags=re.I)\n",
    "df2"
   ]
  },
  {
   "cell_type": "markdown",
   "metadata": {},
   "source": [
    "### There are still some missing values in the new type column. This missing valued are then filled with the most occuring car type in the type column"
   ]
  },
  {
   "cell_type": "code",
   "execution_count": 42,
   "metadata": {
    "execution": {
     "iopub.execute_input": "2021-05-20T13:38:49.265586Z",
     "iopub.status.busy": "2021-05-20T13:38:49.265245Z",
     "iopub.status.idle": "2021-05-20T13:38:49.299284Z",
     "shell.execute_reply": "2021-05-20T13:38:49.298173Z",
     "shell.execute_reply.started": "2021-05-20T13:38:49.265555Z"
    }
   },
   "outputs": [],
   "source": [
    "#filling nan values with the mode\n",
    "df2['type']=df2['type'].fillna('sedan')"
   ]
  },
  {
   "cell_type": "markdown",
   "metadata": {},
   "source": [
    "### Next we fill nan values in the type column in the original dataframe with values from the new type column in the second dataframe based on mactching ids"
   ]
  },
  {
   "cell_type": "code",
   "execution_count": 43,
   "metadata": {
    "_kg_hide-input": false,
    "execution": {
     "iopub.execute_input": "2021-05-20T13:38:49.300868Z",
     "iopub.status.busy": "2021-05-20T13:38:49.300539Z",
     "iopub.status.idle": "2021-05-20T13:38:49.628422Z",
     "shell.execute_reply": "2021-05-20T13:38:49.627302Z",
     "shell.execute_reply.started": "2021-05-20T13:38:49.300835Z"
    }
   },
   "outputs": [
    {
     "data": {
      "text/html": [
       "<div>\n",
       "<style scoped>\n",
       "    .dataframe tbody tr th:only-of-type {\n",
       "        vertical-align: middle;\n",
       "    }\n",
       "\n",
       "    .dataframe tbody tr th {\n",
       "        vertical-align: top;\n",
       "    }\n",
       "\n",
       "    .dataframe thead th {\n",
       "        text-align: right;\n",
       "    }\n",
       "</style>\n",
       "<table border=\"1\" class=\"dataframe\">\n",
       "  <thead>\n",
       "    <tr style=\"text-align: right;\">\n",
       "      <th></th>\n",
       "      <th>id</th>\n",
       "      <th>url</th>\n",
       "      <th>region</th>\n",
       "      <th>region_url</th>\n",
       "      <th>price</th>\n",
       "      <th>year</th>\n",
       "      <th>manufacturer</th>\n",
       "      <th>model</th>\n",
       "      <th>condition</th>\n",
       "      <th>cylinders</th>\n",
       "      <th>fuel</th>\n",
       "      <th>odometer</th>\n",
       "      <th>title_status</th>\n",
       "      <th>transmission</th>\n",
       "      <th>VIN</th>\n",
       "      <th>drive</th>\n",
       "      <th>size</th>\n",
       "      <th>type</th>\n",
       "      <th>paint_color</th>\n",
       "      <th>image_url</th>\n",
       "      <th>description</th>\n",
       "      <th>county</th>\n",
       "      <th>state</th>\n",
       "      <th>lat</th>\n",
       "      <th>long</th>\n",
       "      <th>posting_date</th>\n",
       "    </tr>\n",
       "  </thead>\n",
       "  <tbody>\n",
       "    <tr>\n",
       "      <th>0</th>\n",
       "      <td>7222695916</td>\n",
       "      <td>https://prescott.craigslist.org/cto/d/prescott...</td>\n",
       "      <td>prescott</td>\n",
       "      <td>https://prescott.craigslist.org</td>\n",
       "      <td>6000</td>\n",
       "      <td>2010.0</td>\n",
       "      <td>ford</td>\n",
       "      <td>NaN</td>\n",
       "      <td>NaN</td>\n",
       "      <td>NaN</td>\n",
       "      <td>NaN</td>\n",
       "      <td>NaN</td>\n",
       "      <td>NaN</td>\n",
       "      <td>NaN</td>\n",
       "      <td>NaN</td>\n",
       "      <td>NaN</td>\n",
       "      <td>NaN</td>\n",
       "      <td>sedan</td>\n",
       "      <td>NaN</td>\n",
       "      <td>NaN</td>\n",
       "      <td>NaN</td>\n",
       "      <td>NaN</td>\n",
       "      <td>az</td>\n",
       "      <td>NaN</td>\n",
       "      <td>NaN</td>\n",
       "      <td>NaN</td>\n",
       "    </tr>\n",
       "    <tr>\n",
       "      <th>1</th>\n",
       "      <td>7218891961</td>\n",
       "      <td>https://fayar.craigslist.org/ctd/d/bentonville...</td>\n",
       "      <td>fayetteville</td>\n",
       "      <td>https://fayar.craigslist.org</td>\n",
       "      <td>11900</td>\n",
       "      <td>2017.0</td>\n",
       "      <td>hyundai</td>\n",
       "      <td>NaN</td>\n",
       "      <td>NaN</td>\n",
       "      <td>NaN</td>\n",
       "      <td>NaN</td>\n",
       "      <td>NaN</td>\n",
       "      <td>NaN</td>\n",
       "      <td>NaN</td>\n",
       "      <td>NaN</td>\n",
       "      <td>NaN</td>\n",
       "      <td>NaN</td>\n",
       "      <td>sedan</td>\n",
       "      <td>NaN</td>\n",
       "      <td>NaN</td>\n",
       "      <td>NaN</td>\n",
       "      <td>NaN</td>\n",
       "      <td>ar</td>\n",
       "      <td>NaN</td>\n",
       "      <td>NaN</td>\n",
       "      <td>NaN</td>\n",
       "    </tr>\n",
       "    <tr>\n",
       "      <th>2</th>\n",
       "      <td>7221797935</td>\n",
       "      <td>https://keys.craigslist.org/cto/d/summerland-k...</td>\n",
       "      <td>florida keys</td>\n",
       "      <td>https://keys.craigslist.org</td>\n",
       "      <td>21000</td>\n",
       "      <td>2005.0</td>\n",
       "      <td>ford</td>\n",
       "      <td>NaN</td>\n",
       "      <td>NaN</td>\n",
       "      <td>NaN</td>\n",
       "      <td>NaN</td>\n",
       "      <td>NaN</td>\n",
       "      <td>NaN</td>\n",
       "      <td>NaN</td>\n",
       "      <td>NaN</td>\n",
       "      <td>NaN</td>\n",
       "      <td>NaN</td>\n",
       "      <td>sedan</td>\n",
       "      <td>NaN</td>\n",
       "      <td>NaN</td>\n",
       "      <td>NaN</td>\n",
       "      <td>NaN</td>\n",
       "      <td>fl</td>\n",
       "      <td>NaN</td>\n",
       "      <td>NaN</td>\n",
       "      <td>NaN</td>\n",
       "    </tr>\n",
       "    <tr>\n",
       "      <th>3</th>\n",
       "      <td>7222270760</td>\n",
       "      <td>https://worcester.craigslist.org/cto/d/west-br...</td>\n",
       "      <td>worcester / central MA</td>\n",
       "      <td>https://worcester.craigslist.org</td>\n",
       "      <td>1500</td>\n",
       "      <td>2002.0</td>\n",
       "      <td>honda</td>\n",
       "      <td>NaN</td>\n",
       "      <td>NaN</td>\n",
       "      <td>NaN</td>\n",
       "      <td>NaN</td>\n",
       "      <td>NaN</td>\n",
       "      <td>NaN</td>\n",
       "      <td>NaN</td>\n",
       "      <td>NaN</td>\n",
       "      <td>NaN</td>\n",
       "      <td>NaN</td>\n",
       "      <td>sedan</td>\n",
       "      <td>NaN</td>\n",
       "      <td>NaN</td>\n",
       "      <td>NaN</td>\n",
       "      <td>NaN</td>\n",
       "      <td>ma</td>\n",
       "      <td>NaN</td>\n",
       "      <td>NaN</td>\n",
       "      <td>NaN</td>\n",
       "    </tr>\n",
       "    <tr>\n",
       "      <th>4</th>\n",
       "      <td>7210384030</td>\n",
       "      <td>https://greensboro.craigslist.org/cto/d/trinit...</td>\n",
       "      <td>greensboro</td>\n",
       "      <td>https://greensboro.craigslist.org</td>\n",
       "      <td>4900</td>\n",
       "      <td>1965.0</td>\n",
       "      <td>chevrolet</td>\n",
       "      <td>NaN</td>\n",
       "      <td>NaN</td>\n",
       "      <td>NaN</td>\n",
       "      <td>NaN</td>\n",
       "      <td>NaN</td>\n",
       "      <td>NaN</td>\n",
       "      <td>NaN</td>\n",
       "      <td>NaN</td>\n",
       "      <td>NaN</td>\n",
       "      <td>NaN</td>\n",
       "      <td>truck</td>\n",
       "      <td>NaN</td>\n",
       "      <td>NaN</td>\n",
       "      <td>NaN</td>\n",
       "      <td>NaN</td>\n",
       "      <td>nc</td>\n",
       "      <td>NaN</td>\n",
       "      <td>NaN</td>\n",
       "      <td>NaN</td>\n",
       "    </tr>\n",
       "    <tr>\n",
       "      <th>...</th>\n",
       "      <td>...</td>\n",
       "      <td>...</td>\n",
       "      <td>...</td>\n",
       "      <td>...</td>\n",
       "      <td>...</td>\n",
       "      <td>...</td>\n",
       "      <td>...</td>\n",
       "      <td>...</td>\n",
       "      <td>...</td>\n",
       "      <td>...</td>\n",
       "      <td>...</td>\n",
       "      <td>...</td>\n",
       "      <td>...</td>\n",
       "      <td>...</td>\n",
       "      <td>...</td>\n",
       "      <td>...</td>\n",
       "      <td>...</td>\n",
       "      <td>...</td>\n",
       "      <td>...</td>\n",
       "      <td>...</td>\n",
       "      <td>...</td>\n",
       "      <td>...</td>\n",
       "      <td>...</td>\n",
       "      <td>...</td>\n",
       "      <td>...</td>\n",
       "      <td>...</td>\n",
       "    </tr>\n",
       "    <tr>\n",
       "      <th>426875</th>\n",
       "      <td>7301591192</td>\n",
       "      <td>https://wyoming.craigslist.org/ctd/d/atlanta-2...</td>\n",
       "      <td>wyoming</td>\n",
       "      <td>https://wyoming.craigslist.org</td>\n",
       "      <td>23590</td>\n",
       "      <td>2019.0</td>\n",
       "      <td>nissan</td>\n",
       "      <td>maxima s sedan 4d</td>\n",
       "      <td>good</td>\n",
       "      <td>6 cylinders</td>\n",
       "      <td>gas</td>\n",
       "      <td>32226.0</td>\n",
       "      <td>clean</td>\n",
       "      <td>other</td>\n",
       "      <td>1N4AA6AV6KC367801</td>\n",
       "      <td>fwd</td>\n",
       "      <td>NaN</td>\n",
       "      <td>sedan</td>\n",
       "      <td>NaN</td>\n",
       "      <td>https://images.craigslist.org/00o0o_iiraFnHg8q...</td>\n",
       "      <td>Carvana is the safer way to buy a car During t...</td>\n",
       "      <td>NaN</td>\n",
       "      <td>wy</td>\n",
       "      <td>33.786500</td>\n",
       "      <td>-84.445400</td>\n",
       "      <td>2021-04-04T03:21:31-0600</td>\n",
       "    </tr>\n",
       "    <tr>\n",
       "      <th>426876</th>\n",
       "      <td>7301591187</td>\n",
       "      <td>https://wyoming.craigslist.org/ctd/d/atlanta-2...</td>\n",
       "      <td>wyoming</td>\n",
       "      <td>https://wyoming.craigslist.org</td>\n",
       "      <td>30590</td>\n",
       "      <td>2020.0</td>\n",
       "      <td>volvo</td>\n",
       "      <td>s60 t5 momentum sedan 4d</td>\n",
       "      <td>good</td>\n",
       "      <td>NaN</td>\n",
       "      <td>gas</td>\n",
       "      <td>12029.0</td>\n",
       "      <td>clean</td>\n",
       "      <td>other</td>\n",
       "      <td>7JR102FKXLG042696</td>\n",
       "      <td>fwd</td>\n",
       "      <td>NaN</td>\n",
       "      <td>sedan</td>\n",
       "      <td>red</td>\n",
       "      <td>https://images.craigslist.org/00x0x_15sbgnxCIS...</td>\n",
       "      <td>Carvana is the safer way to buy a car During t...</td>\n",
       "      <td>NaN</td>\n",
       "      <td>wy</td>\n",
       "      <td>33.786500</td>\n",
       "      <td>-84.445400</td>\n",
       "      <td>2021-04-04T03:21:29-0600</td>\n",
       "    </tr>\n",
       "    <tr>\n",
       "      <th>426877</th>\n",
       "      <td>7301591147</td>\n",
       "      <td>https://wyoming.craigslist.org/ctd/d/atlanta-2...</td>\n",
       "      <td>wyoming</td>\n",
       "      <td>https://wyoming.craigslist.org</td>\n",
       "      <td>34990</td>\n",
       "      <td>2020.0</td>\n",
       "      <td>cadillac</td>\n",
       "      <td>xt4 sport suv 4d</td>\n",
       "      <td>good</td>\n",
       "      <td>NaN</td>\n",
       "      <td>diesel</td>\n",
       "      <td>4174.0</td>\n",
       "      <td>clean</td>\n",
       "      <td>other</td>\n",
       "      <td>1GYFZFR46LF088296</td>\n",
       "      <td>NaN</td>\n",
       "      <td>NaN</td>\n",
       "      <td>hatchback</td>\n",
       "      <td>white</td>\n",
       "      <td>https://images.craigslist.org/00L0L_farM7bxnxR...</td>\n",
       "      <td>Carvana is the safer way to buy a car During t...</td>\n",
       "      <td>NaN</td>\n",
       "      <td>wy</td>\n",
       "      <td>33.779214</td>\n",
       "      <td>-84.411811</td>\n",
       "      <td>2021-04-04T03:21:17-0600</td>\n",
       "    </tr>\n",
       "    <tr>\n",
       "      <th>426878</th>\n",
       "      <td>7301591140</td>\n",
       "      <td>https://wyoming.craigslist.org/ctd/d/atlanta-2...</td>\n",
       "      <td>wyoming</td>\n",
       "      <td>https://wyoming.craigslist.org</td>\n",
       "      <td>28990</td>\n",
       "      <td>2018.0</td>\n",
       "      <td>lexus</td>\n",
       "      <td>es 350 sedan 4d</td>\n",
       "      <td>good</td>\n",
       "      <td>6 cylinders</td>\n",
       "      <td>gas</td>\n",
       "      <td>30112.0</td>\n",
       "      <td>clean</td>\n",
       "      <td>other</td>\n",
       "      <td>58ABK1GG4JU103853</td>\n",
       "      <td>fwd</td>\n",
       "      <td>NaN</td>\n",
       "      <td>sedan</td>\n",
       "      <td>silver</td>\n",
       "      <td>https://images.craigslist.org/00z0z_bKnIVGLkDT...</td>\n",
       "      <td>Carvana is the safer way to buy a car During t...</td>\n",
       "      <td>NaN</td>\n",
       "      <td>wy</td>\n",
       "      <td>33.786500</td>\n",
       "      <td>-84.445400</td>\n",
       "      <td>2021-04-04T03:21:11-0600</td>\n",
       "    </tr>\n",
       "    <tr>\n",
       "      <th>426879</th>\n",
       "      <td>7301591129</td>\n",
       "      <td>https://wyoming.craigslist.org/ctd/d/atlanta-2...</td>\n",
       "      <td>wyoming</td>\n",
       "      <td>https://wyoming.craigslist.org</td>\n",
       "      <td>30590</td>\n",
       "      <td>2019.0</td>\n",
       "      <td>bmw</td>\n",
       "      <td>4 series 430i gran coupe</td>\n",
       "      <td>good</td>\n",
       "      <td>NaN</td>\n",
       "      <td>gas</td>\n",
       "      <td>22716.0</td>\n",
       "      <td>clean</td>\n",
       "      <td>other</td>\n",
       "      <td>WBA4J1C58KBM14708</td>\n",
       "      <td>rwd</td>\n",
       "      <td>NaN</td>\n",
       "      <td>coupe</td>\n",
       "      <td>NaN</td>\n",
       "      <td>https://images.craigslist.org/00Y0Y_lEUocjyRxa...</td>\n",
       "      <td>Carvana is the safer way to buy a car During t...</td>\n",
       "      <td>NaN</td>\n",
       "      <td>wy</td>\n",
       "      <td>33.779214</td>\n",
       "      <td>-84.411811</td>\n",
       "      <td>2021-04-04T03:21:07-0600</td>\n",
       "    </tr>\n",
       "  </tbody>\n",
       "</table>\n",
       "<p>426880 rows × 26 columns</p>\n",
       "</div>"
      ],
      "text/plain": [
       "                id                                                url  \\\n",
       "0       7222695916  https://prescott.craigslist.org/cto/d/prescott...   \n",
       "1       7218891961  https://fayar.craigslist.org/ctd/d/bentonville...   \n",
       "2       7221797935  https://keys.craigslist.org/cto/d/summerland-k...   \n",
       "3       7222270760  https://worcester.craigslist.org/cto/d/west-br...   \n",
       "4       7210384030  https://greensboro.craigslist.org/cto/d/trinit...   \n",
       "...            ...                                                ...   \n",
       "426875  7301591192  https://wyoming.craigslist.org/ctd/d/atlanta-2...   \n",
       "426876  7301591187  https://wyoming.craigslist.org/ctd/d/atlanta-2...   \n",
       "426877  7301591147  https://wyoming.craigslist.org/ctd/d/atlanta-2...   \n",
       "426878  7301591140  https://wyoming.craigslist.org/ctd/d/atlanta-2...   \n",
       "426879  7301591129  https://wyoming.craigslist.org/ctd/d/atlanta-2...   \n",
       "\n",
       "                        region                         region_url  price  \\\n",
       "0                     prescott    https://prescott.craigslist.org   6000   \n",
       "1                 fayetteville       https://fayar.craigslist.org  11900   \n",
       "2                 florida keys        https://keys.craigslist.org  21000   \n",
       "3       worcester / central MA   https://worcester.craigslist.org   1500   \n",
       "4                   greensboro  https://greensboro.craigslist.org   4900   \n",
       "...                        ...                                ...    ...   \n",
       "426875                 wyoming     https://wyoming.craigslist.org  23590   \n",
       "426876                 wyoming     https://wyoming.craigslist.org  30590   \n",
       "426877                 wyoming     https://wyoming.craigslist.org  34990   \n",
       "426878                 wyoming     https://wyoming.craigslist.org  28990   \n",
       "426879                 wyoming     https://wyoming.craigslist.org  30590   \n",
       "\n",
       "          year manufacturer                     model condition    cylinders  \\\n",
       "0       2010.0         ford                       NaN       NaN          NaN   \n",
       "1       2017.0      hyundai                       NaN       NaN          NaN   \n",
       "2       2005.0         ford                       NaN       NaN          NaN   \n",
       "3       2002.0        honda                       NaN       NaN          NaN   \n",
       "4       1965.0    chevrolet                       NaN       NaN          NaN   \n",
       "...        ...          ...                       ...       ...          ...   \n",
       "426875  2019.0       nissan         maxima s sedan 4d      good  6 cylinders   \n",
       "426876  2020.0        volvo  s60 t5 momentum sedan 4d      good          NaN   \n",
       "426877  2020.0     cadillac          xt4 sport suv 4d      good          NaN   \n",
       "426878  2018.0        lexus           es 350 sedan 4d      good  6 cylinders   \n",
       "426879  2019.0          bmw  4 series 430i gran coupe      good          NaN   \n",
       "\n",
       "          fuel  odometer title_status transmission                VIN drive  \\\n",
       "0          NaN       NaN          NaN          NaN                NaN   NaN   \n",
       "1          NaN       NaN          NaN          NaN                NaN   NaN   \n",
       "2          NaN       NaN          NaN          NaN                NaN   NaN   \n",
       "3          NaN       NaN          NaN          NaN                NaN   NaN   \n",
       "4          NaN       NaN          NaN          NaN                NaN   NaN   \n",
       "...        ...       ...          ...          ...                ...   ...   \n",
       "426875     gas   32226.0        clean        other  1N4AA6AV6KC367801   fwd   \n",
       "426876     gas   12029.0        clean        other  7JR102FKXLG042696   fwd   \n",
       "426877  diesel    4174.0        clean        other  1GYFZFR46LF088296   NaN   \n",
       "426878     gas   30112.0        clean        other  58ABK1GG4JU103853   fwd   \n",
       "426879     gas   22716.0        clean        other  WBA4J1C58KBM14708   rwd   \n",
       "\n",
       "       size       type paint_color  \\\n",
       "0       NaN      sedan         NaN   \n",
       "1       NaN      sedan         NaN   \n",
       "2       NaN      sedan         NaN   \n",
       "3       NaN      sedan         NaN   \n",
       "4       NaN      truck         NaN   \n",
       "...     ...        ...         ...   \n",
       "426875  NaN      sedan         NaN   \n",
       "426876  NaN      sedan         red   \n",
       "426877  NaN  hatchback       white   \n",
       "426878  NaN      sedan      silver   \n",
       "426879  NaN      coupe         NaN   \n",
       "\n",
       "                                                image_url  \\\n",
       "0                                                     NaN   \n",
       "1                                                     NaN   \n",
       "2                                                     NaN   \n",
       "3                                                     NaN   \n",
       "4                                                     NaN   \n",
       "...                                                   ...   \n",
       "426875  https://images.craigslist.org/00o0o_iiraFnHg8q...   \n",
       "426876  https://images.craigslist.org/00x0x_15sbgnxCIS...   \n",
       "426877  https://images.craigslist.org/00L0L_farM7bxnxR...   \n",
       "426878  https://images.craigslist.org/00z0z_bKnIVGLkDT...   \n",
       "426879  https://images.craigslist.org/00Y0Y_lEUocjyRxa...   \n",
       "\n",
       "                                              description  county state  \\\n",
       "0                                                     NaN     NaN    az   \n",
       "1                                                     NaN     NaN    ar   \n",
       "2                                                     NaN     NaN    fl   \n",
       "3                                                     NaN     NaN    ma   \n",
       "4                                                     NaN     NaN    nc   \n",
       "...                                                   ...     ...   ...   \n",
       "426875  Carvana is the safer way to buy a car During t...     NaN    wy   \n",
       "426876  Carvana is the safer way to buy a car During t...     NaN    wy   \n",
       "426877  Carvana is the safer way to buy a car During t...     NaN    wy   \n",
       "426878  Carvana is the safer way to buy a car During t...     NaN    wy   \n",
       "426879  Carvana is the safer way to buy a car During t...     NaN    wy   \n",
       "\n",
       "              lat       long              posting_date  \n",
       "0             NaN        NaN                       NaN  \n",
       "1             NaN        NaN                       NaN  \n",
       "2             NaN        NaN                       NaN  \n",
       "3             NaN        NaN                       NaN  \n",
       "4             NaN        NaN                       NaN  \n",
       "...           ...        ...                       ...  \n",
       "426875  33.786500 -84.445400  2021-04-04T03:21:31-0600  \n",
       "426876  33.786500 -84.445400  2021-04-04T03:21:29-0600  \n",
       "426877  33.779214 -84.411811  2021-04-04T03:21:17-0600  \n",
       "426878  33.786500 -84.445400  2021-04-04T03:21:11-0600  \n",
       "426879  33.779214 -84.411811  2021-04-04T03:21:07-0600  \n",
       "\n",
       "[426880 rows x 26 columns]"
      ]
     },
     "execution_count": 43,
     "metadata": {},
     "output_type": "execute_result"
    }
   ],
   "source": [
    "#filling the original dataframe type column with corresponding values from the second dataframe based on ID\n",
    "df['type']=df.set_index('id')['type'].fillna(df2.set_index('id')['type']).values\n",
    "\n",
    "df"
   ]
  },
  {
   "cell_type": "code",
   "execution_count": 44,
   "metadata": {
    "execution": {
     "iopub.execute_input": "2021-05-20T13:38:49.630511Z",
     "iopub.status.busy": "2021-05-20T13:38:49.630066Z",
     "iopub.status.idle": "2021-05-20T13:38:50.330663Z",
     "shell.execute_reply": "2021-05-20T13:38:50.329718Z",
     "shell.execute_reply.started": "2021-05-20T13:38:49.630465Z"
    }
   },
   "outputs": [
    {
     "data": {
      "text/plain": [
       "id                   0\n",
       "url                  0\n",
       "region               0\n",
       "region_url           0\n",
       "price                0\n",
       "year                 0\n",
       "manufacturer         0\n",
       "model             5277\n",
       "condition       174104\n",
       "cylinders       177678\n",
       "fuel              3013\n",
       "odometer          4400\n",
       "title_status      8242\n",
       "transmission      2556\n",
       "VIN             161042\n",
       "drive           130567\n",
       "size            306361\n",
       "type                 0\n",
       "paint_color     130203\n",
       "image_url           68\n",
       "description         70\n",
       "county          426880\n",
       "state                0\n",
       "lat               6549\n",
       "long              6549\n",
       "posting_date        68\n",
       "dtype: int64"
      ]
     },
     "execution_count": 44,
     "metadata": {},
     "output_type": "execute_result"
    }
   ],
   "source": [
    "#checking for the remaining null values\n",
    "df.isna().sum()"
   ]
  },
  {
   "cell_type": "code",
   "execution_count": 45,
   "metadata": {
    "execution": {
     "iopub.execute_input": "2021-05-20T13:38:50.332114Z",
     "iopub.status.busy": "2021-05-20T13:38:50.331847Z",
     "iopub.status.idle": "2021-05-20T13:38:50.445467Z",
     "shell.execute_reply": "2021-05-20T13:38:50.444394Z",
     "shell.execute_reply.started": "2021-05-20T13:38:50.332087Z"
    }
   },
   "outputs": [
    {
     "data": {
      "text/plain": [
       "102"
      ]
     },
     "execution_count": 45,
     "metadata": {},
     "output_type": "execute_result"
    }
   ],
   "source": [
    "gc.collect()"
   ]
  },
  {
   "cell_type": "markdown",
   "metadata": {},
   "source": [
    "### Further cleaning "
   ]
  },
  {
   "cell_type": "markdown",
   "metadata": {},
   "source": [
    "### since the vin is specific to each car, will fill missing values with '-' while filling the rest of the categorical variables with the mode"
   ]
  },
  {
   "cell_type": "code",
   "execution_count": 46,
   "metadata": {
    "execution": {
     "iopub.execute_input": "2021-05-20T13:38:50.447853Z",
     "iopub.status.busy": "2021-05-20T13:38:50.447406Z",
     "iopub.status.idle": "2021-05-20T13:38:50.499589Z",
     "shell.execute_reply": "2021-05-20T13:38:50.498604Z",
     "shell.execute_reply.started": "2021-05-20T13:38:50.447788Z"
    }
   },
   "outputs": [],
   "source": [
    "df['VIN']=df['VIN'].fillna('-')"
   ]
  },
  {
   "cell_type": "markdown",
   "metadata": {},
   "source": [
    "### filling nan values in the remaining categorical variables with the most occuring value"
   ]
  },
  {
   "cell_type": "code",
   "execution_count": 47,
   "metadata": {
    "execution": {
     "iopub.execute_input": "2021-05-20T13:38:50.502424Z",
     "iopub.status.busy": "2021-05-20T13:38:50.501959Z",
     "iopub.status.idle": "2021-05-20T13:38:54.301764Z",
     "shell.execute_reply": "2021-05-20T13:38:54.300863Z",
     "shell.execute_reply.started": "2021-05-20T13:38:50.502376Z"
    }
   },
   "outputs": [],
   "source": [
    "#fill categorical variables with the mode\n",
    "df.fillna(df.select_dtypes(include='object').mode().iloc[0], inplace=True)"
   ]
  },
  {
   "cell_type": "code",
   "execution_count": 48,
   "metadata": {
    "execution": {
     "iopub.execute_input": "2021-05-20T13:38:54.303060Z",
     "iopub.status.busy": "2021-05-20T13:38:54.302793Z",
     "iopub.status.idle": "2021-05-20T13:38:54.412033Z",
     "shell.execute_reply": "2021-05-20T13:38:54.411071Z",
     "shell.execute_reply.started": "2021-05-20T13:38:54.303036Z"
    }
   },
   "outputs": [
    {
     "data": {
      "text/plain": [
       "22"
      ]
     },
     "execution_count": 48,
     "metadata": {},
     "output_type": "execute_result"
    }
   ],
   "source": [
    "gc.collect()"
   ]
  },
  {
   "cell_type": "markdown",
   "metadata": {},
   "source": [
    "### ODOMETER"
   ]
  },
  {
   "cell_type": "code",
   "execution_count": 49,
   "metadata": {
    "execution": {
     "iopub.execute_input": "2021-05-20T13:38:54.413484Z",
     "iopub.status.busy": "2021-05-20T13:38:54.413214Z",
     "iopub.status.idle": "2021-05-20T13:38:55.216063Z",
     "shell.execute_reply": "2021-05-20T13:38:55.215054Z",
     "shell.execute_reply.started": "2021-05-20T13:38:54.413451Z"
    }
   },
   "outputs": [
    {
     "data": {
      "text/plain": [
       "<AxesSubplot:>"
      ]
     },
     "execution_count": 49,
     "metadata": {},
     "output_type": "execute_result"
    },
    {
     "data": {
      "image/png": "[encoded data removed]",
      "text/plain": [
       "<Figure size 432x288 with 1 Axes>"
      ]
     },
     "metadata": {
      "needs_background": "light"
     },
     "output_type": "display_data"
    }
   ],
   "source": [
    "#checking the odometer column to see what measure of central tendency will be best to fill it\n",
    "df.boxplot(column=['odometer'])"
   ]
  },
  {
   "cell_type": "markdown",
   "metadata": {},
   "source": [
    "### There are so many outliers in the odometer column and a number of extreme values. It will be best to fill nan with the median\n",
    "\n",
    "### Next, the posting date column is filled too"
   ]
  },
  {
   "cell_type": "code",
   "execution_count": 50,
   "metadata": {
    "execution": {
     "iopub.execute_input": "2021-05-20T13:38:55.217534Z",
     "iopub.status.busy": "2021-05-20T13:38:55.217260Z",
     "iopub.status.idle": "2021-05-20T13:38:55.274849Z",
     "shell.execute_reply": "2021-05-20T13:38:55.273916Z",
     "shell.execute_reply.started": "2021-05-20T13:38:55.217508Z"
    }
   },
   "outputs": [],
   "source": [
    "#filling the odometer with the median value\n",
    "df['odometer'].fillna(df['odometer'].median(), inplace= True)\n",
    "#filling posting date with not specified\n",
    "df['posting_date'].fillna('not specified', inplace= True)"
   ]
  },
  {
   "cell_type": "markdown",
   "metadata": {},
   "source": [
    "### odometer and posting dates have been filled. we move next to the lat and long column"
   ]
  },
  {
   "cell_type": "code",
   "execution_count": 51,
   "metadata": {
    "execution": {
     "iopub.execute_input": "2021-05-20T13:38:55.276346Z",
     "iopub.status.busy": "2021-05-20T13:38:55.276064Z",
     "iopub.status.idle": "2021-05-20T13:38:55.291903Z",
     "shell.execute_reply": "2021-05-20T13:38:55.290928Z",
     "shell.execute_reply.started": "2021-05-20T13:38:55.276319Z"
    }
   },
   "outputs": [],
   "source": [
    "#creating new columns for the lat and long values with the last non NaN value\n",
    "df['lat_shift'] = df['lat'].shift()\n",
    "df['lat_shift'] = df['lat_shift'].fillna(method='ffill')\n",
    "df['long_shift']= df['long'].shift()\n",
    "df['long_shift']= df['long_shift'].fillna(method='ffill')"
   ]
  },
  {
   "cell_type": "code",
   "execution_count": 52,
   "metadata": {
    "execution": {
     "iopub.execute_input": "2021-05-20T13:38:55.293688Z",
     "iopub.status.busy": "2021-05-20T13:38:55.293401Z",
     "iopub.status.idle": "2021-05-20T13:38:55.307333Z",
     "shell.execute_reply": "2021-05-20T13:38:55.306337Z",
     "shell.execute_reply.started": "2021-05-20T13:38:55.293661Z"
    }
   },
   "outputs": [],
   "source": [
    "# creating new metric\n",
    "df['lat_new'] = df['lat_shift'] + (df['lat'] - df['lat_shift'])/2\n",
    "df['long_new'] = df['long_shift'] + (df['long'] - df['long_shift'])/2"
   ]
  },
  {
   "cell_type": "code",
   "execution_count": 53,
   "metadata": {
    "execution": {
     "iopub.execute_input": "2021-05-20T13:38:55.309422Z",
     "iopub.status.busy": "2021-05-20T13:38:55.309030Z",
     "iopub.status.idle": "2021-05-20T13:38:55.329329Z",
     "shell.execute_reply": "2021-05-20T13:38:55.328537Z",
     "shell.execute_reply.started": "2021-05-20T13:38:55.309379Z"
    }
   },
   "outputs": [],
   "source": [
    "#filling Nan Values\n",
    "df.loc[pd.isnull(df['lat']), 'lat'] = df['lat_new'].fillna(method='bfill')\n",
    "df.loc[pd.isnull(df['long']), 'long'] = df['long'].fillna(method='bfill')"
   ]
  },
  {
   "cell_type": "code",
   "execution_count": 54,
   "metadata": {
    "execution": {
     "iopub.execute_input": "2021-05-20T13:38:55.331147Z",
     "iopub.status.busy": "2021-05-20T13:38:55.330541Z",
     "iopub.status.idle": "2021-05-20T13:38:55.451456Z",
     "shell.execute_reply": "2021-05-20T13:38:55.450706Z",
     "shell.execute_reply.started": "2021-05-20T13:38:55.331102Z"
    }
   },
   "outputs": [],
   "source": [
    "#dropping imputed columns with nan values and the county column \n",
    "df.drop(columns=['lat_shift', 'lat_new','long_shift','long_new','county'], inplace=True)"
   ]
  },
  {
   "cell_type": "markdown",
   "metadata": {},
   "source": [
    "### The county column is dropped along side all the new columns created in the original dataframe since the state and region column are sufficient for analysis"
   ]
  },
  {
   "cell_type": "code",
   "execution_count": 55,
   "metadata": {
    "execution": {
     "iopub.execute_input": "2021-05-20T13:38:55.458872Z",
     "iopub.status.busy": "2021-05-20T13:38:55.458382Z",
     "iopub.status.idle": "2021-05-20T13:38:55.572103Z",
     "shell.execute_reply": "2021-05-20T13:38:55.570987Z",
     "shell.execute_reply.started": "2021-05-20T13:38:55.458813Z"
    }
   },
   "outputs": [
    {
     "data": {
      "text/plain": [
       "171"
      ]
     },
     "execution_count": 55,
     "metadata": {},
     "output_type": "execute_result"
    }
   ],
   "source": [
    "gc.collect()"
   ]
  },
  {
   "cell_type": "code",
   "execution_count": 56,
   "metadata": {
    "execution": {
     "iopub.execute_input": "2021-05-20T13:38:55.574870Z",
     "iopub.status.busy": "2021-05-20T13:38:55.574567Z",
     "iopub.status.idle": "2021-05-20T13:38:56.324502Z",
     "shell.execute_reply": "2021-05-20T13:38:56.323557Z",
     "shell.execute_reply.started": "2021-05-20T13:38:55.574816Z"
    }
   },
   "outputs": [
    {
     "data": {
      "text/plain": [
       "id              0\n",
       "url             0\n",
       "region          0\n",
       "region_url      0\n",
       "price           0\n",
       "year            0\n",
       "manufacturer    0\n",
       "model           0\n",
       "condition       0\n",
       "cylinders       0\n",
       "fuel            0\n",
       "odometer        0\n",
       "title_status    0\n",
       "transmission    0\n",
       "VIN             0\n",
       "drive           0\n",
       "size            0\n",
       "type            0\n",
       "paint_color     0\n",
       "image_url       0\n",
       "description     0\n",
       "state           0\n",
       "lat             0\n",
       "long            0\n",
       "posting_date    0\n",
       "dtype: int64"
      ]
     },
     "execution_count": 56,
     "metadata": {},
     "output_type": "execute_result"
    }
   ],
   "source": [
    "df.isna().sum()"
   ]
  },
  {
   "cell_type": "markdown",
   "metadata": {},
   "source": [
    "### There are no missing values left in the dataset. The dataset is now clean"
   ]
  },
  {
   "cell_type": "markdown",
   "metadata": {},
   "source": [
    "## Exploratory Data Analysis"
   ]
  },
  {
   "cell_type": "markdown",
   "metadata": {},
   "source": [
    "#### Visualisations on numerical variables"
   ]
  },
  {
   "cell_type": "code",
   "execution_count": 57,
   "metadata": {
    "execution": {
     "iopub.execute_input": "2021-05-20T13:38:56.325912Z",
     "iopub.status.busy": "2021-05-20T13:38:56.325630Z",
     "iopub.status.idle": "2021-05-20T13:39:00.371570Z",
     "shell.execute_reply": "2021-05-20T13:39:00.370891Z",
     "shell.execute_reply.started": "2021-05-20T13:38:56.325885Z"
    }
   },
   "outputs": [
    {
     "data": {
      "image/png": "[encoded data removed]",
      "text/plain": [
       "<Figure size 720x576 with 5 Axes>"
      ]
     },
     "metadata": {
      "needs_background": "light"
     },
     "output_type": "display_data"
    }
   ],
   "source": [
    "#scatter plots\n",
    "fig, ax = plt.subplots(5, figsize=(10, 8))\n",
    "ax[0].scatter(x = df['year'], y = df['price'])\n",
    "ax[0].set_xlabel(\"year\")\n",
    "ax[0].set_ylabel(\"car price\")\n",
    "\n",
    "ax[1].scatter(x = df['id'], y = df['price'])\n",
    "ax[1].set_xlabel(\"car id\")\n",
    "ax[1].set_ylabel(\"car Price\")\n",
    "\n",
    "ax[2].scatter(x = df['odometer'], y = df['price'])\n",
    "ax[2].set_xlabel(\"odometer\")\n",
    "ax[2].set_ylabel(\"car price\")\n",
    "\n",
    "ax[3].scatter(x = df['lat'], y = df['price'])\n",
    "ax[3].set_xlabel(\"lat\")\n",
    "ax[3].set_ylabel(\"car price\")\n",
    "\n",
    "ax[4].scatter(x = df['long'], y = df['price'])\n",
    "ax[4].set_xlabel(\"long\")\n",
    "ax[4].set_ylabel(\"car price\")\n",
    "\n",
    "\n",
    "\n",
    "plt.show()\n",
    "\n"
   ]
  },
  {
   "cell_type": "markdown",
   "metadata": {},
   "source": [
    "There is no linear relationship between the numerical features and the target variable"
   ]
  },
  {
   "cell_type": "code",
   "execution_count": 58,
   "metadata": {
    "execution": {
     "iopub.execute_input": "2021-05-20T13:39:00.373063Z",
     "iopub.status.busy": "2021-05-20T13:39:00.372624Z",
     "iopub.status.idle": "2021-05-20T13:39:00.490141Z",
     "shell.execute_reply": "2021-05-20T13:39:00.489150Z",
     "shell.execute_reply.started": "2021-05-20T13:39:00.373020Z"
    }
   },
   "outputs": [
    {
     "data": {
      "text/plain": [
       "22"
      ]
     },
     "execution_count": 58,
     "metadata": {},
     "output_type": "execute_result"
    }
   ],
   "source": [
    "gc.collect()"
   ]
  },
  {
   "cell_type": "code",
   "execution_count": 59,
   "metadata": {
    "execution": {
     "iopub.execute_input": "2021-05-20T13:39:00.491548Z",
     "iopub.status.busy": "2021-05-20T13:39:00.491256Z",
     "iopub.status.idle": "2021-05-20T13:39:00.566802Z",
     "shell.execute_reply": "2021-05-20T13:39:00.565750Z",
     "shell.execute_reply.started": "2021-05-20T13:39:00.491521Z"
    }
   },
   "outputs": [
    {
     "data": {
      "text/html": [
       "<div>\n",
       "<style scoped>\n",
       "    .dataframe tbody tr th:only-of-type {\n",
       "        vertical-align: middle;\n",
       "    }\n",
       "\n",
       "    .dataframe tbody tr th {\n",
       "        vertical-align: top;\n",
       "    }\n",
       "\n",
       "    .dataframe thead th {\n",
       "        text-align: right;\n",
       "    }\n",
       "</style>\n",
       "<table border=\"1\" class=\"dataframe\">\n",
       "  <thead>\n",
       "    <tr style=\"text-align: right;\">\n",
       "      <th></th>\n",
       "      <th>id</th>\n",
       "      <th>price</th>\n",
       "      <th>year</th>\n",
       "      <th>odometer</th>\n",
       "      <th>lat</th>\n",
       "      <th>long</th>\n",
       "    </tr>\n",
       "  </thead>\n",
       "  <tbody>\n",
       "    <tr>\n",
       "      <th>id</th>\n",
       "      <td>1.000000</td>\n",
       "      <td>-0.002779</td>\n",
       "      <td>-0.024426</td>\n",
       "      <td>0.010530</td>\n",
       "      <td>-0.066116</td>\n",
       "      <td>-0.120144</td>\n",
       "    </tr>\n",
       "    <tr>\n",
       "      <th>price</th>\n",
       "      <td>-0.002779</td>\n",
       "      <td>1.000000</td>\n",
       "      <td>-0.002501</td>\n",
       "      <td>0.010035</td>\n",
       "      <td>0.000378</td>\n",
       "      <td>-0.000455</td>\n",
       "    </tr>\n",
       "    <tr>\n",
       "      <th>year</th>\n",
       "      <td>-0.024426</td>\n",
       "      <td>-0.002501</td>\n",
       "      <td>1.000000</td>\n",
       "      <td>-0.079044</td>\n",
       "      <td>-0.005348</td>\n",
       "      <td>0.003966</td>\n",
       "    </tr>\n",
       "    <tr>\n",
       "      <th>odometer</th>\n",
       "      <td>0.010530</td>\n",
       "      <td>0.010035</td>\n",
       "      <td>-0.079044</td>\n",
       "      <td>1.000000</td>\n",
       "      <td>-0.001070</td>\n",
       "      <td>0.009125</td>\n",
       "    </tr>\n",
       "    <tr>\n",
       "      <th>lat</th>\n",
       "      <td>-0.066116</td>\n",
       "      <td>0.000378</td>\n",
       "      <td>-0.005348</td>\n",
       "      <td>-0.001070</td>\n",
       "      <td>1.000000</td>\n",
       "      <td>-0.130197</td>\n",
       "    </tr>\n",
       "    <tr>\n",
       "      <th>long</th>\n",
       "      <td>-0.120144</td>\n",
       "      <td>-0.000455</td>\n",
       "      <td>0.003966</td>\n",
       "      <td>0.009125</td>\n",
       "      <td>-0.130197</td>\n",
       "      <td>1.000000</td>\n",
       "    </tr>\n",
       "  </tbody>\n",
       "</table>\n",
       "</div>"
      ],
      "text/plain": [
       "                id     price      year  odometer       lat      long\n",
       "id        1.000000 -0.002779 -0.024426  0.010530 -0.066116 -0.120144\n",
       "price    -0.002779  1.000000 -0.002501  0.010035  0.000378 -0.000455\n",
       "year     -0.024426 -0.002501  1.000000 -0.079044 -0.005348  0.003966\n",
       "odometer  0.010530  0.010035 -0.079044  1.000000 -0.001070  0.009125\n",
       "lat      -0.066116  0.000378 -0.005348 -0.001070  1.000000 -0.130197\n",
       "long     -0.120144 -0.000455  0.003966  0.009125 -0.130197  1.000000"
      ]
     },
     "execution_count": 59,
     "metadata": {},
     "output_type": "execute_result"
    }
   ],
   "source": [
    "#Find the correlation matrix of all the featrures\n",
    "correlation = df.corr()\n",
    "correlation"
   ]
  },
  {
   "cell_type": "code",
   "execution_count": 60,
   "metadata": {
    "execution": {
     "iopub.execute_input": "2021-05-20T13:39:00.568161Z",
     "iopub.status.busy": "2021-05-20T13:39:00.567882Z",
     "iopub.status.idle": "2021-05-20T13:39:00.575634Z",
     "shell.execute_reply": "2021-05-20T13:39:00.574534Z",
     "shell.execute_reply.started": "2021-05-20T13:39:00.568135Z"
    }
   },
   "outputs": [
    {
     "data": {
      "text/plain": [
       "id         -0.002779\n",
       "price       1.000000\n",
       "year       -0.002501\n",
       "odometer    0.010035\n",
       "lat         0.000378\n",
       "long       -0.000455\n",
       "Name: price, dtype: float64"
      ]
     },
     "execution_count": 60,
     "metadata": {},
     "output_type": "execute_result"
    }
   ],
   "source": [
    "#Extract correlation between price and other features\n",
    "correlation.price"
   ]
  },
  {
   "cell_type": "code",
   "execution_count": 61,
   "metadata": {
    "execution": {
     "iopub.execute_input": "2021-05-20T13:39:00.577270Z",
     "iopub.status.busy": "2021-05-20T13:39:00.576841Z",
     "iopub.status.idle": "2021-05-20T13:39:00.800340Z",
     "shell.execute_reply": "2021-05-20T13:39:00.799285Z",
     "shell.execute_reply.started": "2021-05-20T13:39:00.577238Z"
    }
   },
   "outputs": [
    {
     "data": {
      "image/png": "[encoded data removed]",
      "text/plain": [
       "<Figure size 432x288 with 2 Axes>"
      ]
     },
     "metadata": {
      "needs_background": "light"
     },
     "output_type": "display_data"
    }
   ],
   "source": [
    "#heatmap for all features\n",
    "ax = plt.axes()\n",
    "sns.heatmap(correlation)\n",
    "plt.show()"
   ]
  },
  {
   "cell_type": "markdown",
   "metadata": {},
   "source": [
    "None of the numerical features are correlated or have a linear relationship with the target variable price. hence a linear regression model will not work here"
   ]
  },
  {
   "cell_type": "code",
   "execution_count": 62,
   "metadata": {
    "execution": {
     "iopub.execute_input": "2021-05-20T13:39:00.802743Z",
     "iopub.status.busy": "2021-05-20T13:39:00.802018Z",
     "iopub.status.idle": "2021-05-20T13:39:00.921942Z",
     "shell.execute_reply": "2021-05-20T13:39:00.920750Z",
     "shell.execute_reply.started": "2021-05-20T13:39:00.802693Z"
    }
   },
   "outputs": [
    {
     "data": {
      "text/plain": [
       "22"
      ]
     },
     "execution_count": 62,
     "metadata": {},
     "output_type": "execute_result"
    }
   ],
   "source": [
    "gc.collect()"
   ]
  },
  {
   "cell_type": "markdown",
   "metadata": {
    "execution": {
     "iopub.execute_input": "2021-05-20T12:14:22.136523Z",
     "iopub.status.busy": "2021-05-20T12:14:22.136115Z",
     "iopub.status.idle": "2021-05-20T12:14:22.140551Z",
     "shell.execute_reply": "2021-05-20T12:14:22.139781Z",
     "shell.execute_reply.started": "2021-05-20T12:14:22.136489Z"
    }
   },
   "source": [
    "#### Checking for outliers in price and odometer column"
   ]
  },
  {
   "cell_type": "code",
   "execution_count": 63,
   "metadata": {
    "execution": {
     "iopub.execute_input": "2021-05-20T13:39:00.924266Z",
     "iopub.status.busy": "2021-05-20T13:39:00.923821Z",
     "iopub.status.idle": "2021-05-20T13:39:04.762478Z",
     "shell.execute_reply": "2021-05-20T13:39:04.761454Z",
     "shell.execute_reply.started": "2021-05-20T13:39:00.924220Z"
    }
   },
   "outputs": [
    {
     "name": "stderr",
     "output_type": "stream",
     "text": [
      "/opt/conda/lib/python3.7/site-packages/seaborn/_decorators.py:43: FutureWarning: Pass the following variable as a keyword arg: x. From version 0.12, the only valid positional argument will be `data`, and passing other arguments without an explicit keyword will result in an error or misinterpretation.\n",
      "  FutureWarning\n",
      "/opt/conda/lib/python3.7/site-packages/seaborn/distributions.py:2557: FutureWarning: `distplot` is a deprecated function and will be removed in a future version. Please adapt your code to use either `displot` (a figure-level function with similar flexibility) or `histplot` (an axes-level function for histograms).\n",
      "  warnings.warn(msg, FutureWarning)\n"
     ]
    },
    {
     "data": {
      "image/png": "[encoded data removed]",
      "text/plain": [
       "<Figure size 432x288 with 2 Axes>"
      ]
     },
     "metadata": {
      "needs_background": "light"
     },
     "output_type": "display_data"
    },
    {
     "name": "stderr",
     "output_type": "stream",
     "text": [
      "/opt/conda/lib/python3.7/site-packages/seaborn/_decorators.py:43: FutureWarning: Pass the following variable as a keyword arg: x. From version 0.12, the only valid positional argument will be `data`, and passing other arguments without an explicit keyword will result in an error or misinterpretation.\n",
      "  FutureWarning\n",
      "/opt/conda/lib/python3.7/site-packages/seaborn/distributions.py:2557: FutureWarning: `distplot` is a deprecated function and will be removed in a future version. Please adapt your code to use either `displot` (a figure-level function with similar flexibility) or `histplot` (an axes-level function for histograms).\n",
      "  warnings.warn(msg, FutureWarning)\n"
     ]
    },
    {
     "data": {
      "image/png": "[encoded data removed]",
      "text/plain": [
       "<Figure size 432x288 with 2 Axes>"
      ]
     },
     "metadata": {
      "needs_background": "light"
     },
     "output_type": "display_data"
    }
   ],
   "source": [
    "for col in ['price','odometer']:\n",
    "    # set 2 subplots and set ratio of plots \n",
    "    f, (ax_box, ax_hist) = plt.subplots(2, sharex=True, \n",
    "                                        gridspec_kw={\"height_ratios\": (.20, .80)\n",
    "                                        })   \n",
    "    g1 = sns.boxplot(col, ax=ax_box, data=df) # boxplot\n",
    "    g1.set(xlabel=None) # remove x axis label for boxplot\n",
    "    g2 = sns.distplot(df[col], ax=ax_hist) # distribution plot \n",
    "    plt.tight_layout()\n",
    "    plt.show()"
   ]
  },
  {
   "cell_type": "code",
   "execution_count": 64,
   "metadata": {
    "execution": {
     "iopub.execute_input": "2021-05-20T13:39:04.764444Z",
     "iopub.status.busy": "2021-05-20T13:39:04.764026Z",
     "iopub.status.idle": "2021-05-20T13:39:04.875409Z",
     "shell.execute_reply": "2021-05-20T13:39:04.874468Z",
     "shell.execute_reply.started": "2021-05-20T13:39:04.764402Z"
    }
   },
   "outputs": [],
   "source": [
    "# since price value can't be 0, remove the rows with price of 0\n",
    "df = df[df['price']>0]"
   ]
  },
  {
   "cell_type": "code",
   "execution_count": 65,
   "metadata": {
    "execution": {
     "iopub.execute_input": "2021-05-20T13:39:04.877056Z",
     "iopub.status.busy": "2021-05-20T13:39:04.876648Z",
     "iopub.status.idle": "2021-05-20T13:39:04.895689Z",
     "shell.execute_reply": "2021-05-20T13:39:04.894491Z",
     "shell.execute_reply.started": "2021-05-20T13:39:04.877007Z"
    }
   },
   "outputs": [
    {
     "name": "stdout",
     "output_type": "stream",
     "text": [
      "-23885.0 58475.0\n"
     ]
    }
   ],
   "source": [
    "# removing outliers from the price column using IQR\n",
    "Q1 = df['price'].quantile(0.25)\n",
    "Q3 = df['price'].quantile(0.75)\n",
    "\n",
    "IQR = Q3 - Q1\n",
    "\n",
    "lower_bound = Q1 - 1.5 * IQR\n",
    "upper_bound = Q3 + 1.5 * IQR\n",
    "print(lower_bound,upper_bound)"
   ]
  },
  {
   "cell_type": "markdown",
   "metadata": {},
   "source": [
    "### values below the lower bound and values above the upper bound are considered outliers"
   ]
  },
  {
   "cell_type": "code",
   "execution_count": 66,
   "metadata": {
    "execution": {
     "iopub.execute_input": "2021-05-20T13:39:04.897717Z",
     "iopub.status.busy": "2021-05-20T13:39:04.897216Z",
     "iopub.status.idle": "2021-05-20T13:39:04.919363Z",
     "shell.execute_reply": "2021-05-20T13:39:04.918433Z",
     "shell.execute_reply.started": "2021-05-20T13:39:04.897674Z"
    }
   },
   "outputs": [],
   "source": [
    "outliers = df[(df.price < lower_bound) | (df.price > upper_bound)]"
   ]
  },
  {
   "cell_type": "code",
   "execution_count": 67,
   "metadata": {
    "execution": {
     "iopub.execute_input": "2021-05-20T13:39:04.920936Z",
     "iopub.status.busy": "2021-05-20T13:39:04.920616Z",
     "iopub.status.idle": "2021-05-20T13:39:05.108480Z",
     "shell.execute_reply": "2021-05-20T13:39:05.107419Z",
     "shell.execute_reply.started": "2021-05-20T13:39:04.920909Z"
    }
   },
   "outputs": [],
   "source": [
    "#dataframe with price outliers dropped\n",
    "df = df.drop(outliers.index)"
   ]
  },
  {
   "cell_type": "code",
   "execution_count": 68,
   "metadata": {
    "execution": {
     "iopub.execute_input": "2021-05-20T13:39:05.110446Z",
     "iopub.status.busy": "2021-05-20T13:39:05.109980Z",
     "iopub.status.idle": "2021-05-20T13:39:05.247306Z",
     "shell.execute_reply": "2021-05-20T13:39:05.246273Z",
     "shell.execute_reply.started": "2021-05-20T13:39:05.110401Z"
    }
   },
   "outputs": [
    {
     "data": {
      "text/plain": [
       "<AxesSubplot:xlabel='price'>"
      ]
     },
     "execution_count": 68,
     "metadata": {},
     "output_type": "execute_result"
    },
    {
     "data": {
      "image/png": "[encoded data removed]",
      "text/plain": [
       "<Figure size 432x288 with 1 Axes>"
      ]
     },
     "metadata": {
      "needs_background": "light"
     },
     "output_type": "display_data"
    }
   ],
   "source": [
    "# boxplot after removing outliers in price column\n",
    "sns.boxplot(x = df['price'])"
   ]
  },
  {
   "cell_type": "code",
   "execution_count": 69,
   "metadata": {
    "execution": {
     "iopub.execute_input": "2021-05-20T13:39:05.248881Z",
     "iopub.status.busy": "2021-05-20T13:39:05.248562Z",
     "iopub.status.idle": "2021-05-20T13:39:05.386950Z",
     "shell.execute_reply": "2021-05-20T13:39:05.385934Z",
     "shell.execute_reply.started": "2021-05-20T13:39:05.248848Z"
    }
   },
   "outputs": [
    {
     "data": {
      "text/plain": [
       "9275"
      ]
     },
     "execution_count": 69,
     "metadata": {},
     "output_type": "execute_result"
    }
   ],
   "source": [
    "gc.collect()"
   ]
  },
  {
   "cell_type": "code",
   "execution_count": 70,
   "metadata": {
    "execution": {
     "iopub.execute_input": "2021-05-20T13:39:05.388849Z",
     "iopub.status.busy": "2021-05-20T13:39:05.388506Z",
     "iopub.status.idle": "2021-05-20T13:39:05.416371Z",
     "shell.execute_reply": "2021-05-20T13:39:05.415326Z",
     "shell.execute_reply.started": "2021-05-20T13:39:05.388794Z"
    }
   },
   "outputs": [
    {
     "name": "stdout",
     "output_type": "stream",
     "text": [
      "-104875.0 280525.0\n"
     ]
    }
   ],
   "source": [
    "# removing outliers from the odometer column using IQR\n",
    "Q1 = df['odometer'].quantile(0.25)\n",
    "Q3 = df['odometer'].quantile(0.75)\n",
    "\n",
    "IQR = Q3 - Q1\n",
    "\n",
    "lower_bound = Q1 - 1.5 * IQR\n",
    "upper_bound = Q3 + 1.5 * IQR\n",
    "print(lower_bound,upper_bound)"
   ]
  },
  {
   "cell_type": "code",
   "execution_count": 71,
   "metadata": {
    "execution": {
     "iopub.execute_input": "2021-05-20T13:39:05.418617Z",
     "iopub.status.busy": "2021-05-20T13:39:05.418181Z",
     "iopub.status.idle": "2021-05-20T13:39:05.437385Z",
     "shell.execute_reply": "2021-05-20T13:39:05.436400Z",
     "shell.execute_reply.started": "2021-05-20T13:39:05.418569Z"
    }
   },
   "outputs": [],
   "source": [
    "outliers = df[(df.odometer < lower_bound) | (df.odometer > upper_bound)]"
   ]
  },
  {
   "cell_type": "code",
   "execution_count": 72,
   "metadata": {
    "execution": {
     "iopub.execute_input": "2021-05-20T13:39:05.438934Z",
     "iopub.status.busy": "2021-05-20T13:39:05.438627Z",
     "iopub.status.idle": "2021-05-20T13:39:05.595663Z",
     "shell.execute_reply": "2021-05-20T13:39:05.594662Z",
     "shell.execute_reply.started": "2021-05-20T13:39:05.438902Z"
    }
   },
   "outputs": [],
   "source": [
    "df = df.drop(outliers.index)"
   ]
  },
  {
   "cell_type": "code",
   "execution_count": 73,
   "metadata": {
    "execution": {
     "iopub.execute_input": "2021-05-20T13:39:05.597352Z",
     "iopub.status.busy": "2021-05-20T13:39:05.597044Z",
     "iopub.status.idle": "2021-05-20T13:39:05.725752Z",
     "shell.execute_reply": "2021-05-20T13:39:05.724836Z",
     "shell.execute_reply.started": "2021-05-20T13:39:05.597324Z"
    }
   },
   "outputs": [
    {
     "data": {
      "text/plain": [
       "<AxesSubplot:xlabel='odometer'>"
      ]
     },
     "execution_count": 73,
     "metadata": {},
     "output_type": "execute_result"
    },
    {
     "data": {
      "image/png": "[encoded data removed]",
      "text/plain": [
       "<Figure size 432x288 with 1 Axes>"
      ]
     },
     "metadata": {
      "needs_background": "light"
     },
     "output_type": "display_data"
    }
   ],
   "source": [
    "# boxplot after removing outliers in odometer column\n",
    "sns.boxplot(x = df['odometer'])"
   ]
  },
  {
   "cell_type": "code",
   "execution_count": 74,
   "metadata": {
    "execution": {
     "iopub.execute_input": "2021-05-20T13:39:05.727331Z",
     "iopub.status.busy": "2021-05-20T13:39:05.727035Z",
     "iopub.status.idle": "2021-05-20T13:39:05.856482Z",
     "shell.execute_reply": "2021-05-20T13:39:05.855740Z",
     "shell.execute_reply.started": "2021-05-20T13:39:05.727303Z"
    }
   },
   "outputs": [
    {
     "data": {
      "text/plain": [
       "22"
      ]
     },
     "execution_count": 74,
     "metadata": {},
     "output_type": "execute_result"
    }
   ],
   "source": [
    "gc.collect()"
   ]
  },
  {
   "cell_type": "code",
   "execution_count": 75,
   "metadata": {
    "execution": {
     "iopub.execute_input": "2021-05-20T13:39:05.858162Z",
     "iopub.status.busy": "2021-05-20T13:39:05.857697Z",
     "iopub.status.idle": "2021-05-20T13:39:05.963421Z",
     "shell.execute_reply": "2021-05-20T13:39:05.962246Z",
     "shell.execute_reply.started": "2021-05-20T13:39:05.858130Z"
    }
   },
   "outputs": [
    {
     "data": {
      "text/html": [
       "<div>\n",
       "<style scoped>\n",
       "    .dataframe tbody tr th:only-of-type {\n",
       "        vertical-align: middle;\n",
       "    }\n",
       "\n",
       "    .dataframe tbody tr th {\n",
       "        vertical-align: top;\n",
       "    }\n",
       "\n",
       "    .dataframe thead th {\n",
       "        text-align: right;\n",
       "    }\n",
       "</style>\n",
       "<table border=\"1\" class=\"dataframe\">\n",
       "  <thead>\n",
       "    <tr style=\"text-align: right;\">\n",
       "      <th></th>\n",
       "      <th>id</th>\n",
       "      <th>price</th>\n",
       "      <th>year</th>\n",
       "      <th>odometer</th>\n",
       "      <th>lat</th>\n",
       "      <th>long</th>\n",
       "    </tr>\n",
       "  </thead>\n",
       "  <tbody>\n",
       "    <tr>\n",
       "      <th>count</th>\n",
       "      <td>3.824210e+05</td>\n",
       "      <td>382421.000000</td>\n",
       "      <td>382421.000000</td>\n",
       "      <td>382421.000000</td>\n",
       "      <td>382421.000000</td>\n",
       "      <td>382421.000000</td>\n",
       "    </tr>\n",
       "    <tr>\n",
       "      <th>mean</th>\n",
       "      <td>7.311477e+09</td>\n",
       "      <td>17844.465293</td>\n",
       "      <td>2010.965005</td>\n",
       "      <td>91826.186334</td>\n",
       "      <td>38.501493</td>\n",
       "      <td>-94.136018</td>\n",
       "    </tr>\n",
       "    <tr>\n",
       "      <th>std</th>\n",
       "      <td>4.475106e+06</td>\n",
       "      <td>12816.154723</td>\n",
       "      <td>16.069363</td>\n",
       "      <td>60705.832216</td>\n",
       "      <td>5.834980</td>\n",
       "      <td>18.124898</td>\n",
       "    </tr>\n",
       "    <tr>\n",
       "      <th>min</th>\n",
       "      <td>7.207408e+09</td>\n",
       "      <td>1.000000</td>\n",
       "      <td>0.000000</td>\n",
       "      <td>0.000000</td>\n",
       "      <td>-81.838232</td>\n",
       "      <td>-159.827728</td>\n",
       "    </tr>\n",
       "    <tr>\n",
       "      <th>25%</th>\n",
       "      <td>7.308118e+09</td>\n",
       "      <td>7000.000000</td>\n",
       "      <td>2008.000000</td>\n",
       "      <td>39293.000000</td>\n",
       "      <td>34.720000</td>\n",
       "      <td>-110.874757</td>\n",
       "    </tr>\n",
       "    <tr>\n",
       "      <th>50%</th>\n",
       "      <td>7.312616e+09</td>\n",
       "      <td>14995.000000</td>\n",
       "      <td>2013.000000</td>\n",
       "      <td>87051.000000</td>\n",
       "      <td>39.222701</td>\n",
       "      <td>-87.838870</td>\n",
       "    </tr>\n",
       "    <tr>\n",
       "      <th>75%</th>\n",
       "      <td>7.315248e+09</td>\n",
       "      <td>26990.000000</td>\n",
       "      <td>2017.000000</td>\n",
       "      <td>134431.000000</td>\n",
       "      <td>42.358190</td>\n",
       "      <td>-80.668700</td>\n",
       "    </tr>\n",
       "    <tr>\n",
       "      <th>max</th>\n",
       "      <td>7.317101e+09</td>\n",
       "      <td>58448.000000</td>\n",
       "      <td>2022.000000</td>\n",
       "      <td>280463.000000</td>\n",
       "      <td>82.390818</td>\n",
       "      <td>167.629911</td>\n",
       "    </tr>\n",
       "  </tbody>\n",
       "</table>\n",
       "</div>"
      ],
      "text/plain": [
       "                 id          price           year       odometer  \\\n",
       "count  3.824210e+05  382421.000000  382421.000000  382421.000000   \n",
       "mean   7.311477e+09   17844.465293    2010.965005   91826.186334   \n",
       "std    4.475106e+06   12816.154723      16.069363   60705.832216   \n",
       "min    7.207408e+09       1.000000       0.000000       0.000000   \n",
       "25%    7.308118e+09    7000.000000    2008.000000   39293.000000   \n",
       "50%    7.312616e+09   14995.000000    2013.000000   87051.000000   \n",
       "75%    7.315248e+09   26990.000000    2017.000000  134431.000000   \n",
       "max    7.317101e+09   58448.000000    2022.000000  280463.000000   \n",
       "\n",
       "                 lat           long  \n",
       "count  382421.000000  382421.000000  \n",
       "mean       38.501493     -94.136018  \n",
       "std         5.834980      18.124898  \n",
       "min       -81.838232    -159.827728  \n",
       "25%        34.720000    -110.874757  \n",
       "50%        39.222701     -87.838870  \n",
       "75%        42.358190     -80.668700  \n",
       "max        82.390818     167.629911  "
      ]
     },
     "execution_count": 75,
     "metadata": {},
     "output_type": "execute_result"
    }
   ],
   "source": [
    "df.describe()"
   ]
  },
  {
   "cell_type": "markdown",
   "metadata": {
    "execution": {
     "iopub.execute_input": "2021-05-20T12:27:40.632102Z",
     "iopub.status.busy": "2021-05-20T12:27:40.631710Z",
     "iopub.status.idle": "2021-05-20T12:27:40.636485Z",
     "shell.execute_reply": "2021-05-20T12:27:40.635311Z",
     "shell.execute_reply.started": "2021-05-20T12:27:40.632066Z"
    }
   },
   "source": [
    "### selecting the final dataset to work with by dropping columns not needed for model building"
   ]
  },
  {
   "cell_type": "code",
   "execution_count": 76,
   "metadata": {
    "execution": {
     "iopub.execute_input": "2021-05-20T13:39:05.965361Z",
     "iopub.status.busy": "2021-05-20T13:39:05.964990Z",
     "iopub.status.idle": "2021-05-20T13:39:06.047997Z",
     "shell.execute_reply": "2021-05-20T13:39:06.046781Z",
     "shell.execute_reply.started": "2021-05-20T13:39:05.965316Z"
    }
   },
   "outputs": [],
   "source": [
    "#dropping some columns\n",
    "df.drop(columns=['id','url','region_url','condition','VIN','description','image_url','size','lat','long','posting_date'],inplace=True)"
   ]
  },
  {
   "cell_type": "code",
   "execution_count": 77,
   "metadata": {
    "execution": {
     "iopub.execute_input": "2021-05-20T13:39:06.049976Z",
     "iopub.status.busy": "2021-05-20T13:39:06.049525Z",
     "iopub.status.idle": "2021-05-20T13:39:06.087495Z",
     "shell.execute_reply": "2021-05-20T13:39:06.086301Z",
     "shell.execute_reply.started": "2021-05-20T13:39:06.049932Z"
    }
   },
   "outputs": [
    {
     "data": {
      "text/html": [
       "<div>\n",
       "<style scoped>\n",
       "    .dataframe tbody tr th:only-of-type {\n",
       "        vertical-align: middle;\n",
       "    }\n",
       "\n",
       "    .dataframe tbody tr th {\n",
       "        vertical-align: top;\n",
       "    }\n",
       "\n",
       "    .dataframe thead th {\n",
       "        text-align: right;\n",
       "    }\n",
       "</style>\n",
       "<table border=\"1\" class=\"dataframe\">\n",
       "  <thead>\n",
       "    <tr style=\"text-align: right;\">\n",
       "      <th></th>\n",
       "      <th>region</th>\n",
       "      <th>price</th>\n",
       "      <th>year</th>\n",
       "      <th>manufacturer</th>\n",
       "      <th>model</th>\n",
       "      <th>cylinders</th>\n",
       "      <th>fuel</th>\n",
       "      <th>odometer</th>\n",
       "      <th>title_status</th>\n",
       "      <th>transmission</th>\n",
       "      <th>drive</th>\n",
       "      <th>type</th>\n",
       "      <th>paint_color</th>\n",
       "      <th>state</th>\n",
       "    </tr>\n",
       "  </thead>\n",
       "  <tbody>\n",
       "    <tr>\n",
       "      <th>0</th>\n",
       "      <td>prescott</td>\n",
       "      <td>6000</td>\n",
       "      <td>2010.0</td>\n",
       "      <td>ford</td>\n",
       "      <td>f-150</td>\n",
       "      <td>6 cylinders</td>\n",
       "      <td>gas</td>\n",
       "      <td>85548.0</td>\n",
       "      <td>clean</td>\n",
       "      <td>automatic</td>\n",
       "      <td>4wd</td>\n",
       "      <td>sedan</td>\n",
       "      <td>white</td>\n",
       "      <td>az</td>\n",
       "    </tr>\n",
       "    <tr>\n",
       "      <th>1</th>\n",
       "      <td>fayetteville</td>\n",
       "      <td>11900</td>\n",
       "      <td>2017.0</td>\n",
       "      <td>hyundai</td>\n",
       "      <td>f-150</td>\n",
       "      <td>6 cylinders</td>\n",
       "      <td>gas</td>\n",
       "      <td>85548.0</td>\n",
       "      <td>clean</td>\n",
       "      <td>automatic</td>\n",
       "      <td>4wd</td>\n",
       "      <td>sedan</td>\n",
       "      <td>white</td>\n",
       "      <td>ar</td>\n",
       "    </tr>\n",
       "    <tr>\n",
       "      <th>2</th>\n",
       "      <td>florida keys</td>\n",
       "      <td>21000</td>\n",
       "      <td>2005.0</td>\n",
       "      <td>ford</td>\n",
       "      <td>f-150</td>\n",
       "      <td>6 cylinders</td>\n",
       "      <td>gas</td>\n",
       "      <td>85548.0</td>\n",
       "      <td>clean</td>\n",
       "      <td>automatic</td>\n",
       "      <td>4wd</td>\n",
       "      <td>sedan</td>\n",
       "      <td>white</td>\n",
       "      <td>fl</td>\n",
       "    </tr>\n",
       "    <tr>\n",
       "      <th>3</th>\n",
       "      <td>worcester / central MA</td>\n",
       "      <td>1500</td>\n",
       "      <td>2002.0</td>\n",
       "      <td>honda</td>\n",
       "      <td>f-150</td>\n",
       "      <td>6 cylinders</td>\n",
       "      <td>gas</td>\n",
       "      <td>85548.0</td>\n",
       "      <td>clean</td>\n",
       "      <td>automatic</td>\n",
       "      <td>4wd</td>\n",
       "      <td>sedan</td>\n",
       "      <td>white</td>\n",
       "      <td>ma</td>\n",
       "    </tr>\n",
       "    <tr>\n",
       "      <th>4</th>\n",
       "      <td>greensboro</td>\n",
       "      <td>4900</td>\n",
       "      <td>1965.0</td>\n",
       "      <td>chevrolet</td>\n",
       "      <td>f-150</td>\n",
       "      <td>6 cylinders</td>\n",
       "      <td>gas</td>\n",
       "      <td>85548.0</td>\n",
       "      <td>clean</td>\n",
       "      <td>automatic</td>\n",
       "      <td>4wd</td>\n",
       "      <td>truck</td>\n",
       "      <td>white</td>\n",
       "      <td>nc</td>\n",
       "    </tr>\n",
       "    <tr>\n",
       "      <th>...</th>\n",
       "      <td>...</td>\n",
       "      <td>...</td>\n",
       "      <td>...</td>\n",
       "      <td>...</td>\n",
       "      <td>...</td>\n",
       "      <td>...</td>\n",
       "      <td>...</td>\n",
       "      <td>...</td>\n",
       "      <td>...</td>\n",
       "      <td>...</td>\n",
       "      <td>...</td>\n",
       "      <td>...</td>\n",
       "      <td>...</td>\n",
       "      <td>...</td>\n",
       "    </tr>\n",
       "    <tr>\n",
       "      <th>426875</th>\n",
       "      <td>wyoming</td>\n",
       "      <td>23590</td>\n",
       "      <td>2019.0</td>\n",
       "      <td>nissan</td>\n",
       "      <td>maxima s sedan 4d</td>\n",
       "      <td>6 cylinders</td>\n",
       "      <td>gas</td>\n",
       "      <td>32226.0</td>\n",
       "      <td>clean</td>\n",
       "      <td>other</td>\n",
       "      <td>fwd</td>\n",
       "      <td>sedan</td>\n",
       "      <td>white</td>\n",
       "      <td>wy</td>\n",
       "    </tr>\n",
       "    <tr>\n",
       "      <th>426876</th>\n",
       "      <td>wyoming</td>\n",
       "      <td>30590</td>\n",
       "      <td>2020.0</td>\n",
       "      <td>volvo</td>\n",
       "      <td>s60 t5 momentum sedan 4d</td>\n",
       "      <td>6 cylinders</td>\n",
       "      <td>gas</td>\n",
       "      <td>12029.0</td>\n",
       "      <td>clean</td>\n",
       "      <td>other</td>\n",
       "      <td>fwd</td>\n",
       "      <td>sedan</td>\n",
       "      <td>red</td>\n",
       "      <td>wy</td>\n",
       "    </tr>\n",
       "    <tr>\n",
       "      <th>426877</th>\n",
       "      <td>wyoming</td>\n",
       "      <td>34990</td>\n",
       "      <td>2020.0</td>\n",
       "      <td>cadillac</td>\n",
       "      <td>xt4 sport suv 4d</td>\n",
       "      <td>6 cylinders</td>\n",
       "      <td>diesel</td>\n",
       "      <td>4174.0</td>\n",
       "      <td>clean</td>\n",
       "      <td>other</td>\n",
       "      <td>4wd</td>\n",
       "      <td>hatchback</td>\n",
       "      <td>white</td>\n",
       "      <td>wy</td>\n",
       "    </tr>\n",
       "    <tr>\n",
       "      <th>426878</th>\n",
       "      <td>wyoming</td>\n",
       "      <td>28990</td>\n",
       "      <td>2018.0</td>\n",
       "      <td>lexus</td>\n",
       "      <td>es 350 sedan 4d</td>\n",
       "      <td>6 cylinders</td>\n",
       "      <td>gas</td>\n",
       "      <td>30112.0</td>\n",
       "      <td>clean</td>\n",
       "      <td>other</td>\n",
       "      <td>fwd</td>\n",
       "      <td>sedan</td>\n",
       "      <td>silver</td>\n",
       "      <td>wy</td>\n",
       "    </tr>\n",
       "    <tr>\n",
       "      <th>426879</th>\n",
       "      <td>wyoming</td>\n",
       "      <td>30590</td>\n",
       "      <td>2019.0</td>\n",
       "      <td>bmw</td>\n",
       "      <td>4 series 430i gran coupe</td>\n",
       "      <td>6 cylinders</td>\n",
       "      <td>gas</td>\n",
       "      <td>22716.0</td>\n",
       "      <td>clean</td>\n",
       "      <td>other</td>\n",
       "      <td>rwd</td>\n",
       "      <td>coupe</td>\n",
       "      <td>white</td>\n",
       "      <td>wy</td>\n",
       "    </tr>\n",
       "  </tbody>\n",
       "</table>\n",
       "<p>382421 rows × 14 columns</p>\n",
       "</div>"
      ],
      "text/plain": [
       "                        region  price    year manufacturer  \\\n",
       "0                     prescott   6000  2010.0         ford   \n",
       "1                 fayetteville  11900  2017.0      hyundai   \n",
       "2                 florida keys  21000  2005.0         ford   \n",
       "3       worcester / central MA   1500  2002.0        honda   \n",
       "4                   greensboro   4900  1965.0    chevrolet   \n",
       "...                        ...    ...     ...          ...   \n",
       "426875                 wyoming  23590  2019.0       nissan   \n",
       "426876                 wyoming  30590  2020.0        volvo   \n",
       "426877                 wyoming  34990  2020.0     cadillac   \n",
       "426878                 wyoming  28990  2018.0        lexus   \n",
       "426879                 wyoming  30590  2019.0          bmw   \n",
       "\n",
       "                           model    cylinders    fuel  odometer title_status  \\\n",
       "0                          f-150  6 cylinders     gas   85548.0        clean   \n",
       "1                          f-150  6 cylinders     gas   85548.0        clean   \n",
       "2                          f-150  6 cylinders     gas   85548.0        clean   \n",
       "3                          f-150  6 cylinders     gas   85548.0        clean   \n",
       "4                          f-150  6 cylinders     gas   85548.0        clean   \n",
       "...                          ...          ...     ...       ...          ...   \n",
       "426875         maxima s sedan 4d  6 cylinders     gas   32226.0        clean   \n",
       "426876  s60 t5 momentum sedan 4d  6 cylinders     gas   12029.0        clean   \n",
       "426877          xt4 sport suv 4d  6 cylinders  diesel    4174.0        clean   \n",
       "426878           es 350 sedan 4d  6 cylinders     gas   30112.0        clean   \n",
       "426879  4 series 430i gran coupe  6 cylinders     gas   22716.0        clean   \n",
       "\n",
       "       transmission drive       type paint_color state  \n",
       "0         automatic   4wd      sedan       white    az  \n",
       "1         automatic   4wd      sedan       white    ar  \n",
       "2         automatic   4wd      sedan       white    fl  \n",
       "3         automatic   4wd      sedan       white    ma  \n",
       "4         automatic   4wd      truck       white    nc  \n",
       "...             ...   ...        ...         ...   ...  \n",
       "426875        other   fwd      sedan       white    wy  \n",
       "426876        other   fwd      sedan         red    wy  \n",
       "426877        other   4wd  hatchback       white    wy  \n",
       "426878        other   fwd      sedan      silver    wy  \n",
       "426879        other   rwd      coupe       white    wy  \n",
       "\n",
       "[382421 rows x 14 columns]"
      ]
     },
     "execution_count": 77,
     "metadata": {},
     "output_type": "execute_result"
    }
   ],
   "source": [
    "# loading the final data set\n",
    "df"
   ]
  },
  {
   "cell_type": "code",
   "execution_count": 78,
   "metadata": {
    "execution": {
     "iopub.execute_input": "2021-05-20T13:39:06.089147Z",
     "iopub.status.busy": "2021-05-20T13:39:06.088811Z",
     "iopub.status.idle": "2021-05-20T13:39:06.474295Z",
     "shell.execute_reply": "2021-05-20T13:39:06.473271Z",
     "shell.execute_reply.started": "2021-05-20T13:39:06.089117Z"
    }
   },
   "outputs": [
    {
     "name": "stdout",
     "output_type": "stream",
     "text": [
      "<class 'pandas.core.frame.DataFrame'>\n",
      "Int64Index: 382421 entries, 0 to 426879\n",
      "Data columns (total 14 columns):\n",
      " #   Column        Non-Null Count   Dtype  \n",
      "---  ------        --------------   -----  \n",
      " 0   region        382421 non-null  object \n",
      " 1   price         382421 non-null  int64  \n",
      " 2   year          382421 non-null  float64\n",
      " 3   manufacturer  382421 non-null  object \n",
      " 4   model         382421 non-null  object \n",
      " 5   cylinders     382421 non-null  object \n",
      " 6   fuel          382421 non-null  object \n",
      " 7   odometer      382421 non-null  float64\n",
      " 8   title_status  382421 non-null  object \n",
      " 9   transmission  382421 non-null  object \n",
      " 10  drive         382421 non-null  object \n",
      " 11  type          382421 non-null  object \n",
      " 12  paint_color   382421 non-null  object \n",
      " 13  state         382421 non-null  object \n",
      "dtypes: float64(2), int64(1), object(11)\n",
      "memory usage: 43.8+ MB\n"
     ]
    }
   ],
   "source": [
    "df.info()"
   ]
  },
  {
   "cell_type": "code",
   "execution_count": 79,
   "metadata": {
    "execution": {
     "iopub.execute_input": "2021-05-20T13:39:06.475688Z",
     "iopub.status.busy": "2021-05-20T13:39:06.475426Z",
     "iopub.status.idle": "2021-05-20T13:39:06.599250Z",
     "shell.execute_reply": "2021-05-20T13:39:06.598468Z",
     "shell.execute_reply.started": "2021-05-20T13:39:06.475662Z"
    }
   },
   "outputs": [
    {
     "data": {
      "text/plain": [
       "22"
      ]
     },
     "execution_count": 79,
     "metadata": {},
     "output_type": "execute_result"
    }
   ],
   "source": [
    "gc.collect()"
   ]
  },
  {
   "cell_type": "markdown",
   "metadata": {},
   "source": [
    "### **Using Label Encoder to convert categorical values to numbers** "
   ]
  },
  {
   "cell_type": "code",
   "execution_count": 80,
   "metadata": {
    "execution": {
     "iopub.execute_input": "2021-05-20T13:39:06.600900Z",
     "iopub.status.busy": "2021-05-20T13:39:06.600429Z",
     "iopub.status.idle": "2021-05-20T13:39:06.650052Z",
     "shell.execute_reply": "2021-05-20T13:39:06.649018Z",
     "shell.execute_reply.started": "2021-05-20T13:39:06.600846Z"
    }
   },
   "outputs": [
    {
     "data": {
      "text/plain": [
       "Index(['region', 'manufacturer', 'model', 'cylinders', 'fuel', 'title_status',\n",
       "       'transmission', 'drive', 'type', 'paint_color', 'state'],\n",
       "      dtype='object')"
      ]
     },
     "execution_count": 80,
     "metadata": {},
     "output_type": "execute_result"
    }
   ],
   "source": [
    "#selecting categorical features\n",
    "cat_feat = df.select_dtypes(exclude = np.number).columns \n",
    "cat_feat"
   ]
  },
  {
   "cell_type": "code",
   "execution_count": 81,
   "metadata": {
    "execution": {
     "iopub.execute_input": "2021-05-20T13:39:06.651817Z",
     "iopub.status.busy": "2021-05-20T13:39:06.651430Z",
     "iopub.status.idle": "2021-05-20T13:39:08.262177Z",
     "shell.execute_reply": "2021-05-20T13:39:08.261094Z",
     "shell.execute_reply.started": "2021-05-20T13:39:06.651776Z"
    }
   },
   "outputs": [],
   "source": [
    "# label encode categorical features \n",
    "for col in cat_feat:   \n",
    "    le = LabelEncoder()\n",
    "    df[col] = le.fit_transform(df[col])"
   ]
  },
  {
   "cell_type": "code",
   "execution_count": 82,
   "metadata": {
    "execution": {
     "iopub.execute_input": "2021-05-20T13:39:08.263800Z",
     "iopub.status.busy": "2021-05-20T13:39:08.263491Z",
     "iopub.status.idle": "2021-05-20T13:39:08.318631Z",
     "shell.execute_reply": "2021-05-20T13:39:08.317680Z",
     "shell.execute_reply.started": "2021-05-20T13:39:08.263770Z"
    }
   },
   "outputs": [
    {
     "data": {
      "text/html": [
       "<div>\n",
       "<style scoped>\n",
       "    .dataframe tbody tr th:only-of-type {\n",
       "        vertical-align: middle;\n",
       "    }\n",
       "\n",
       "    .dataframe tbody tr th {\n",
       "        vertical-align: top;\n",
       "    }\n",
       "\n",
       "    .dataframe thead th {\n",
       "        text-align: right;\n",
       "    }\n",
       "</style>\n",
       "<table border=\"1\" class=\"dataframe\">\n",
       "  <thead>\n",
       "    <tr style=\"text-align: right;\">\n",
       "      <th></th>\n",
       "      <th>region</th>\n",
       "      <th>price</th>\n",
       "      <th>year</th>\n",
       "      <th>manufacturer</th>\n",
       "      <th>model</th>\n",
       "      <th>cylinders</th>\n",
       "      <th>fuel</th>\n",
       "      <th>odometer</th>\n",
       "      <th>title_status</th>\n",
       "      <th>transmission</th>\n",
       "      <th>drive</th>\n",
       "      <th>type</th>\n",
       "      <th>paint_color</th>\n",
       "      <th>state</th>\n",
       "    </tr>\n",
       "  </thead>\n",
       "  <tbody>\n",
       "    <tr>\n",
       "      <th>321009</th>\n",
       "      <td>259</td>\n",
       "      <td>22990</td>\n",
       "      <td>2001.0</td>\n",
       "      <td>34</td>\n",
       "      <td>12907</td>\n",
       "      <td>5</td>\n",
       "      <td>2</td>\n",
       "      <td>116346.0</td>\n",
       "      <td>0</td>\n",
       "      <td>0</td>\n",
       "      <td>0</td>\n",
       "      <td>8</td>\n",
       "      <td>8</td>\n",
       "      <td>37</td>\n",
       "    </tr>\n",
       "    <tr>\n",
       "      <th>413182</th>\n",
       "      <td>398</td>\n",
       "      <td>37999</td>\n",
       "      <td>2017.0</td>\n",
       "      <td>13</td>\n",
       "      <td>13885</td>\n",
       "      <td>5</td>\n",
       "      <td>2</td>\n",
       "      <td>20834.0</td>\n",
       "      <td>0</td>\n",
       "      <td>0</td>\n",
       "      <td>0</td>\n",
       "      <td>11</td>\n",
       "      <td>0</td>\n",
       "      <td>47</td>\n",
       "    </tr>\n",
       "    <tr>\n",
       "      <th>304673</th>\n",
       "      <td>254</td>\n",
       "      <td>3500</td>\n",
       "      <td>1983.0</td>\n",
       "      <td>14</td>\n",
       "      <td>25503</td>\n",
       "      <td>6</td>\n",
       "      <td>2</td>\n",
       "      <td>100000.0</td>\n",
       "      <td>0</td>\n",
       "      <td>0</td>\n",
       "      <td>0</td>\n",
       "      <td>12</td>\n",
       "      <td>10</td>\n",
       "      <td>36</td>\n",
       "    </tr>\n",
       "    <tr>\n",
       "      <th>386602</th>\n",
       "      <td>344</td>\n",
       "      <td>6750</td>\n",
       "      <td>2006.0</td>\n",
       "      <td>23</td>\n",
       "      <td>15813</td>\n",
       "      <td>5</td>\n",
       "      <td>2</td>\n",
       "      <td>151000.0</td>\n",
       "      <td>0</td>\n",
       "      <td>0</td>\n",
       "      <td>1</td>\n",
       "      <td>9</td>\n",
       "      <td>8</td>\n",
       "      <td>44</td>\n",
       "    </tr>\n",
       "    <tr>\n",
       "      <th>94320</th>\n",
       "      <td>120</td>\n",
       "      <td>9500</td>\n",
       "      <td>1991.0</td>\n",
       "      <td>7</td>\n",
       "      <td>8774</td>\n",
       "      <td>5</td>\n",
       "      <td>2</td>\n",
       "      <td>128000.0</td>\n",
       "      <td>0</td>\n",
       "      <td>0</td>\n",
       "      <td>2</td>\n",
       "      <td>2</td>\n",
       "      <td>8</td>\n",
       "      <td>9</td>\n",
       "    </tr>\n",
       "  </tbody>\n",
       "</table>\n",
       "</div>"
      ],
      "text/plain": [
       "        region  price    year  manufacturer  model  cylinders  fuel  odometer  \\\n",
       "321009     259  22990  2001.0            34  12907          5     2  116346.0   \n",
       "413182     398  37999  2017.0            13  13885          5     2   20834.0   \n",
       "304673     254   3500  1983.0            14  25503          6     2  100000.0   \n",
       "386602     344   6750  2006.0            23  15813          5     2  151000.0   \n",
       "94320      120   9500  1991.0             7   8774          5     2  128000.0   \n",
       "\n",
       "        title_status  transmission  drive  type  paint_color  state  \n",
       "321009             0             0      0     8            8     37  \n",
       "413182             0             0      0    11            0     47  \n",
       "304673             0             0      0    12           10     36  \n",
       "386602             0             0      1     9            8     44  \n",
       "94320              0             0      2     2            8      9  "
      ]
     },
     "execution_count": 82,
     "metadata": {},
     "output_type": "execute_result"
    }
   ],
   "source": [
    "df.sample(5)"
   ]
  },
  {
   "cell_type": "code",
   "execution_count": 83,
   "metadata": {
    "execution": {
     "iopub.execute_input": "2021-05-20T13:39:08.320168Z",
     "iopub.status.busy": "2021-05-20T13:39:08.319825Z",
     "iopub.status.idle": "2021-05-20T13:39:08.450028Z",
     "shell.execute_reply": "2021-05-20T13:39:08.448913Z",
     "shell.execute_reply.started": "2021-05-20T13:39:08.320136Z"
    }
   },
   "outputs": [
    {
     "data": {
      "text/plain": [
       "88"
      ]
     },
     "execution_count": 83,
     "metadata": {},
     "output_type": "execute_result"
    }
   ],
   "source": [
    "gc.collect()"
   ]
  },
  {
   "cell_type": "markdown",
   "metadata": {},
   "source": [
    "### Building Models"
   ]
  },
  {
   "cell_type": "code",
   "execution_count": 84,
   "metadata": {
    "execution": {
     "iopub.execute_input": "2021-05-20T13:39:08.452162Z",
     "iopub.status.busy": "2021-05-20T13:39:08.451751Z",
     "iopub.status.idle": "2021-05-20T13:39:08.479656Z",
     "shell.execute_reply": "2021-05-20T13:39:08.478589Z",
     "shell.execute_reply.started": "2021-05-20T13:39:08.452117Z"
    }
   },
   "outputs": [],
   "source": [
    "#selecting Features\n",
    "x = df.drop(\"price\",1)\n",
    "#selecting target Variable\n",
    "y = df[\"price\"]          "
   ]
  },
  {
   "cell_type": "code",
   "execution_count": 85,
   "metadata": {
    "execution": {
     "iopub.execute_input": "2021-05-20T13:39:08.481375Z",
     "iopub.status.busy": "2021-05-20T13:39:08.481042Z",
     "iopub.status.idle": "2021-05-20T13:39:08.505844Z",
     "shell.execute_reply": "2021-05-20T13:39:08.504934Z",
     "shell.execute_reply.started": "2021-05-20T13:39:08.481344Z"
    }
   },
   "outputs": [
    {
     "data": {
      "text/html": [
       "<div>\n",
       "<style scoped>\n",
       "    .dataframe tbody tr th:only-of-type {\n",
       "        vertical-align: middle;\n",
       "    }\n",
       "\n",
       "    .dataframe tbody tr th {\n",
       "        vertical-align: top;\n",
       "    }\n",
       "\n",
       "    .dataframe thead th {\n",
       "        text-align: right;\n",
       "    }\n",
       "</style>\n",
       "<table border=\"1\" class=\"dataframe\">\n",
       "  <thead>\n",
       "    <tr style=\"text-align: right;\">\n",
       "      <th></th>\n",
       "      <th>region</th>\n",
       "      <th>year</th>\n",
       "      <th>manufacturer</th>\n",
       "      <th>model</th>\n",
       "      <th>cylinders</th>\n",
       "      <th>fuel</th>\n",
       "      <th>odometer</th>\n",
       "      <th>title_status</th>\n",
       "      <th>transmission</th>\n",
       "      <th>drive</th>\n",
       "      <th>type</th>\n",
       "      <th>paint_color</th>\n",
       "      <th>state</th>\n",
       "    </tr>\n",
       "  </thead>\n",
       "  <tbody>\n",
       "    <tr>\n",
       "      <th>0</th>\n",
       "      <td>277</td>\n",
       "      <td>2010.0</td>\n",
       "      <td>13</td>\n",
       "      <td>12907</td>\n",
       "      <td>5</td>\n",
       "      <td>2</td>\n",
       "      <td>85548.0</td>\n",
       "      <td>0</td>\n",
       "      <td>0</td>\n",
       "      <td>0</td>\n",
       "      <td>9</td>\n",
       "      <td>10</td>\n",
       "      <td>3</td>\n",
       "    </tr>\n",
       "    <tr>\n",
       "      <th>1</th>\n",
       "      <td>105</td>\n",
       "      <td>2017.0</td>\n",
       "      <td>17</td>\n",
       "      <td>12907</td>\n",
       "      <td>5</td>\n",
       "      <td>2</td>\n",
       "      <td>85548.0</td>\n",
       "      <td>0</td>\n",
       "      <td>0</td>\n",
       "      <td>0</td>\n",
       "      <td>9</td>\n",
       "      <td>10</td>\n",
       "      <td>2</td>\n",
       "    </tr>\n",
       "    <tr>\n",
       "      <th>2</th>\n",
       "      <td>111</td>\n",
       "      <td>2005.0</td>\n",
       "      <td>13</td>\n",
       "      <td>12907</td>\n",
       "      <td>5</td>\n",
       "      <td>2</td>\n",
       "      <td>85548.0</td>\n",
       "      <td>0</td>\n",
       "      <td>0</td>\n",
       "      <td>0</td>\n",
       "      <td>9</td>\n",
       "      <td>10</td>\n",
       "      <td>9</td>\n",
       "    </tr>\n",
       "    <tr>\n",
       "      <th>3</th>\n",
       "      <td>396</td>\n",
       "      <td>2002.0</td>\n",
       "      <td>16</td>\n",
       "      <td>12907</td>\n",
       "      <td>5</td>\n",
       "      <td>2</td>\n",
       "      <td>85548.0</td>\n",
       "      <td>0</td>\n",
       "      <td>0</td>\n",
       "      <td>0</td>\n",
       "      <td>9</td>\n",
       "      <td>10</td>\n",
       "      <td>19</td>\n",
       "    </tr>\n",
       "    <tr>\n",
       "      <th>4</th>\n",
       "      <td>131</td>\n",
       "      <td>1965.0</td>\n",
       "      <td>7</td>\n",
       "      <td>12907</td>\n",
       "      <td>5</td>\n",
       "      <td>2</td>\n",
       "      <td>85548.0</td>\n",
       "      <td>0</td>\n",
       "      <td>0</td>\n",
       "      <td>0</td>\n",
       "      <td>11</td>\n",
       "      <td>10</td>\n",
       "      <td>27</td>\n",
       "    </tr>\n",
       "    <tr>\n",
       "      <th>...</th>\n",
       "      <td>...</td>\n",
       "      <td>...</td>\n",
       "      <td>...</td>\n",
       "      <td>...</td>\n",
       "      <td>...</td>\n",
       "      <td>...</td>\n",
       "      <td>...</td>\n",
       "      <td>...</td>\n",
       "      <td>...</td>\n",
       "      <td>...</td>\n",
       "      <td>...</td>\n",
       "      <td>...</td>\n",
       "      <td>...</td>\n",
       "    </tr>\n",
       "    <tr>\n",
       "      <th>426875</th>\n",
       "      <td>397</td>\n",
       "      <td>2019.0</td>\n",
       "      <td>31</td>\n",
       "      <td>17889</td>\n",
       "      <td>5</td>\n",
       "      <td>2</td>\n",
       "      <td>32226.0</td>\n",
       "      <td>0</td>\n",
       "      <td>2</td>\n",
       "      <td>1</td>\n",
       "      <td>9</td>\n",
       "      <td>10</td>\n",
       "      <td>50</td>\n",
       "    </tr>\n",
       "    <tr>\n",
       "      <th>426876</th>\n",
       "      <td>397</td>\n",
       "      <td>2020.0</td>\n",
       "      <td>41</td>\n",
       "      <td>21475</td>\n",
       "      <td>5</td>\n",
       "      <td>2</td>\n",
       "      <td>12029.0</td>\n",
       "      <td>0</td>\n",
       "      <td>2</td>\n",
       "      <td>1</td>\n",
       "      <td>9</td>\n",
       "      <td>8</td>\n",
       "      <td>50</td>\n",
       "    </tr>\n",
       "    <tr>\n",
       "      <th>426877</th>\n",
       "      <td>397</td>\n",
       "      <td>2020.0</td>\n",
       "      <td>6</td>\n",
       "      <td>26630</td>\n",
       "      <td>5</td>\n",
       "      <td>0</td>\n",
       "      <td>4174.0</td>\n",
       "      <td>0</td>\n",
       "      <td>2</td>\n",
       "      <td>0</td>\n",
       "      <td>4</td>\n",
       "      <td>10</td>\n",
       "      <td>50</td>\n",
       "    </tr>\n",
       "    <tr>\n",
       "      <th>426878</th>\n",
       "      <td>397</td>\n",
       "      <td>2018.0</td>\n",
       "      <td>23</td>\n",
       "      <td>12239</td>\n",
       "      <td>5</td>\n",
       "      <td>2</td>\n",
       "      <td>30112.0</td>\n",
       "      <td>0</td>\n",
       "      <td>2</td>\n",
       "      <td>1</td>\n",
       "      <td>9</td>\n",
       "      <td>9</td>\n",
       "      <td>50</td>\n",
       "    </tr>\n",
       "    <tr>\n",
       "      <th>426879</th>\n",
       "      <td>397</td>\n",
       "      <td>2019.0</td>\n",
       "      <td>4</td>\n",
       "      <td>2763</td>\n",
       "      <td>5</td>\n",
       "      <td>2</td>\n",
       "      <td>22716.0</td>\n",
       "      <td>0</td>\n",
       "      <td>2</td>\n",
       "      <td>2</td>\n",
       "      <td>3</td>\n",
       "      <td>10</td>\n",
       "      <td>50</td>\n",
       "    </tr>\n",
       "  </tbody>\n",
       "</table>\n",
       "<p>382421 rows × 13 columns</p>\n",
       "</div>"
      ],
      "text/plain": [
       "        region    year  manufacturer  model  cylinders  fuel  odometer  \\\n",
       "0          277  2010.0            13  12907          5     2   85548.0   \n",
       "1          105  2017.0            17  12907          5     2   85548.0   \n",
       "2          111  2005.0            13  12907          5     2   85548.0   \n",
       "3          396  2002.0            16  12907          5     2   85548.0   \n",
       "4          131  1965.0             7  12907          5     2   85548.0   \n",
       "...        ...     ...           ...    ...        ...   ...       ...   \n",
       "426875     397  2019.0            31  17889          5     2   32226.0   \n",
       "426876     397  2020.0            41  21475          5     2   12029.0   \n",
       "426877     397  2020.0             6  26630          5     0    4174.0   \n",
       "426878     397  2018.0            23  12239          5     2   30112.0   \n",
       "426879     397  2019.0             4   2763          5     2   22716.0   \n",
       "\n",
       "        title_status  transmission  drive  type  paint_color  state  \n",
       "0                  0             0      0     9           10      3  \n",
       "1                  0             0      0     9           10      2  \n",
       "2                  0             0      0     9           10      9  \n",
       "3                  0             0      0     9           10     19  \n",
       "4                  0             0      0    11           10     27  \n",
       "...              ...           ...    ...   ...          ...    ...  \n",
       "426875             0             2      1     9           10     50  \n",
       "426876             0             2      1     9            8     50  \n",
       "426877             0             2      0     4           10     50  \n",
       "426878             0             2      1     9            9     50  \n",
       "426879             0             2      2     3           10     50  \n",
       "\n",
       "[382421 rows x 13 columns]"
      ]
     },
     "execution_count": 85,
     "metadata": {},
     "output_type": "execute_result"
    }
   ],
   "source": [
    "x"
   ]
  },
  {
   "cell_type": "code",
   "execution_count": 86,
   "metadata": {
    "execution": {
     "iopub.execute_input": "2021-05-20T13:39:08.507784Z",
     "iopub.status.busy": "2021-05-20T13:39:08.507352Z",
     "iopub.status.idle": "2021-05-20T13:39:08.517850Z",
     "shell.execute_reply": "2021-05-20T13:39:08.516772Z",
     "shell.execute_reply.started": "2021-05-20T13:39:08.507737Z"
    }
   },
   "outputs": [
    {
     "data": {
      "text/plain": [
       "0          6000\n",
       "1         11900\n",
       "2         21000\n",
       "3          1500\n",
       "4          4900\n",
       "          ...  \n",
       "426875    23590\n",
       "426876    30590\n",
       "426877    34990\n",
       "426878    28990\n",
       "426879    30590\n",
       "Name: price, Length: 382421, dtype: int64"
      ]
     },
     "execution_count": 86,
     "metadata": {},
     "output_type": "execute_result"
    }
   ],
   "source": [
    "y"
   ]
  },
  {
   "cell_type": "code",
   "execution_count": 87,
   "metadata": {
    "execution": {
     "iopub.execute_input": "2021-05-20T13:39:08.519663Z",
     "iopub.status.busy": "2021-05-20T13:39:08.519240Z",
     "iopub.status.idle": "2021-05-20T13:39:08.667084Z",
     "shell.execute_reply": "2021-05-20T13:39:08.666167Z",
     "shell.execute_reply.started": "2021-05-20T13:39:08.519619Z"
    }
   },
   "outputs": [],
   "source": [
    "# normalize the data\n",
    "x = StandardScaler().fit_transform(x.astype(float))"
   ]
  },
  {
   "cell_type": "code",
   "execution_count": 88,
   "metadata": {
    "execution": {
     "iopub.execute_input": "2021-05-20T13:39:08.668556Z",
     "iopub.status.busy": "2021-05-20T13:39:08.668274Z",
     "iopub.status.idle": "2021-05-20T13:39:08.753814Z",
     "shell.execute_reply": "2021-05-20T13:39:08.753004Z",
     "shell.execute_reply.started": "2021-05-20T13:39:08.668529Z"
    }
   },
   "outputs": [
    {
     "name": "stdout",
     "output_type": "stream",
     "text": [
      "Train set:  (305936, 13) (305936,)\n",
      "Test set:  (76485, 13) (76485,)\n"
     ]
    }
   ],
   "source": [
    "#create and split train and test set\n",
    "x_train, x_test, y_train, y_test = train_test_split(x,y,test_size=0.2,random_state=0)\n",
    "print('Train set: ', x_train.shape, y_train.shape)\n",
    "print('Test set: ', x_test.shape, y_test.shape)"
   ]
  },
  {
   "cell_type": "code",
   "execution_count": 90,
   "metadata": {
    "execution": {
     "iopub.execute_input": "2021-05-20T13:39:08.760972Z",
     "iopub.status.busy": "2021-05-20T13:39:08.760633Z",
     "iopub.status.idle": "2021-05-20T13:39:08.772333Z",
     "shell.execute_reply": "2021-05-20T13:39:08.771284Z",
     "shell.execute_reply.started": "2021-05-20T13:39:08.760938Z"
    }
   },
   "outputs": [
    {
     "data": {
      "text/plain": [
       "array([[ 0.8671553 ,  0.37555959,  1.40680622, ..., -1.74388415,\n",
       "         0.77011887,  0.88955036],\n",
       "       [-0.07450461, -0.12228283,  0.37236689, ...,  0.56282539,\n",
       "        -1.73588112,  0.55885276],\n",
       "       [-1.4233688 , -0.06005252,  1.75161933, ...,  0.30652433,\n",
       "         0.51951888,  0.88955036],\n",
       "       ...,\n",
       "       [ 1.66459703, -0.06005252,  1.06199311, ...,  0.56282539,\n",
       "        -0.48288112, -0.49937958],\n",
       "       [-1.36398485,  0.4377899 , -0.74827572, ...,  1.33172857,\n",
       "         0.51951888, -0.69779814],\n",
       "       [ 1.68156388,  0.25109899,  1.92402588, ...,  0.56282539,\n",
       "         0.77011887,  0.95568988]])"
      ]
     },
     "execution_count": 90,
     "metadata": {},
     "output_type": "execute_result"
    }
   ],
   "source": [
    "x_train"
   ]
  },
  {
   "cell_type": "markdown",
   "metadata": {},
   "source": [
    "### Random Forest"
   ]
  },
  {
   "cell_type": "code",
   "execution_count": 91,
   "metadata": {
    "execution": {
     "iopub.execute_input": "2021-05-20T13:39:08.773962Z",
     "iopub.status.busy": "2021-05-20T13:39:08.773554Z",
     "iopub.status.idle": "2021-05-20T13:43:40.350849Z",
     "shell.execute_reply": "2021-05-20T13:43:40.349914Z",
     "shell.execute_reply.started": "2021-05-20T13:39:08.773908Z"
    }
   },
   "outputs": [
    {
     "data": {
      "text/plain": [
       "RandomForestRegressor(n_estimators=150, random_state=42)"
      ]
     },
     "execution_count": 91,
     "metadata": {},
     "output_type": "execute_result"
    }
   ],
   "source": [
    "rf = RandomForestRegressor(n_estimators=150, random_state=42)\n",
    "rf.fit(x_train, y_train.ravel())"
   ]
  },
  {
   "cell_type": "code",
   "execution_count": 92,
   "metadata": {
    "execution": {
     "iopub.execute_input": "2021-05-20T13:43:40.352478Z",
     "iopub.status.busy": "2021-05-20T13:43:40.352202Z",
     "iopub.status.idle": "2021-05-20T13:43:40.491198Z",
     "shell.execute_reply": "2021-05-20T13:43:40.490018Z",
     "shell.execute_reply.started": "2021-05-20T13:43:40.352452Z"
    }
   },
   "outputs": [
    {
     "data": {
      "text/plain": [
       "46"
      ]
     },
     "execution_count": 92,
     "metadata": {},
     "output_type": "execute_result"
    }
   ],
   "source": [
    "gc.collect()"
   ]
  },
  {
   "cell_type": "code",
   "execution_count": 93,
   "metadata": {
    "execution": {
     "iopub.execute_input": "2021-05-20T13:43:40.493573Z",
     "iopub.status.busy": "2021-05-20T13:43:40.493091Z",
     "iopub.status.idle": "2021-05-20T13:43:46.889501Z",
     "shell.execute_reply": "2021-05-20T13:43:46.888427Z",
     "shell.execute_reply.started": "2021-05-20T13:43:40.493477Z"
    }
   },
   "outputs": [],
   "source": [
    "y_pred = rf.predict(x_test)"
   ]
  },
  {
   "cell_type": "code",
   "execution_count": 94,
   "metadata": {
    "execution": {
     "iopub.execute_input": "2021-05-20T13:43:46.891048Z",
     "iopub.status.busy": "2021-05-20T13:43:46.890723Z",
     "iopub.status.idle": "2021-05-20T13:43:47.020361Z",
     "shell.execute_reply": "2021-05-20T13:43:47.019566Z",
     "shell.execute_reply.started": "2021-05-20T13:43:46.891018Z"
    }
   },
   "outputs": [
    {
     "data": {
      "text/plain": [
       "46"
      ]
     },
     "execution_count": 94,
     "metadata": {},
     "output_type": "execute_result"
    }
   ],
   "source": [
    "gc.collect()"
   ]
  },
  {
   "cell_type": "markdown",
   "metadata": {},
   "source": [
    "### Extra Trees Model"
   ]
  },
  {
   "cell_type": "code",
   "execution_count": 95,
   "metadata": {
    "execution": {
     "iopub.execute_input": "2021-05-20T13:43:47.022347Z",
     "iopub.status.busy": "2021-05-20T13:43:47.021758Z",
     "iopub.status.idle": "2021-05-20T13:50:24.040757Z",
     "shell.execute_reply": "2021-05-20T13:50:24.038875Z",
     "shell.execute_reply.started": "2021-05-20T13:43:47.022312Z"
    }
   },
   "outputs": [
    {
     "data": {
      "text/plain": [
       "ExtraTreesRegressor(n_estimators=400, random_state=42)"
      ]
     },
     "execution_count": 95,
     "metadata": {},
     "output_type": "execute_result"
    }
   ],
   "source": [
    "#calling and fitting model \n",
    "ET = ExtraTreesRegressor(n_estimators=400, random_state=42)\n",
    "ET.fit(x_train, y_train.ravel())"
   ]
  },
  {
   "cell_type": "code",
   "execution_count": 96,
   "metadata": {
    "execution": {
     "iopub.execute_input": "2021-05-20T13:50:24.043951Z",
     "iopub.status.busy": "2021-05-20T13:50:24.043508Z",
     "iopub.status.idle": "2021-05-20T13:50:24.205639Z",
     "shell.execute_reply": "2021-05-20T13:50:24.204656Z",
     "shell.execute_reply.started": "2021-05-20T13:50:24.043916Z"
    }
   },
   "outputs": [
    {
     "data": {
      "text/plain": [
       "46"
      ]
     },
     "execution_count": 96,
     "metadata": {},
     "output_type": "execute_result"
    }
   ],
   "source": [
    "gc.collect()"
   ]
  },
  {
   "cell_type": "code",
   "execution_count": 97,
   "metadata": {
    "execution": {
     "iopub.execute_input": "2021-05-20T13:50:24.207348Z",
     "iopub.status.busy": "2021-05-20T13:50:24.207043Z",
     "iopub.status.idle": "2021-05-20T13:50:43.643592Z",
     "shell.execute_reply": "2021-05-20T13:50:43.642573Z",
     "shell.execute_reply.started": "2021-05-20T13:50:24.207319Z"
    }
   },
   "outputs": [],
   "source": [
    "y_predET = ET.predict(x_test)"
   ]
  },
  {
   "cell_type": "code",
   "execution_count": 98,
   "metadata": {
    "execution": {
     "iopub.execute_input": "2021-05-20T13:50:43.645501Z",
     "iopub.status.busy": "2021-05-20T13:50:43.645102Z",
     "iopub.status.idle": "2021-05-20T13:50:43.774859Z",
     "shell.execute_reply": "2021-05-20T13:50:43.773902Z",
     "shell.execute_reply.started": "2021-05-20T13:50:43.645457Z"
    }
   },
   "outputs": [
    {
     "data": {
      "text/plain": [
       "46"
      ]
     },
     "execution_count": 98,
     "metadata": {},
     "output_type": "execute_result"
    }
   ],
   "source": [
    "gc.collect()"
   ]
  },
  {
   "cell_type": "markdown",
   "metadata": {},
   "source": [
    "### Model Evaluation"
   ]
  },
  {
   "cell_type": "markdown",
   "metadata": {},
   "source": [
    "The models are evaluated based on the following metrics \n",
    "\n",
    "MAE- Mean Absolute Error\n",
    "\n",
    "MSE- Mean Squared Error\n",
    "\n",
    "RMSE- Root Mean Squared Error\n",
    "\n",
    "R2 Score"
   ]
  },
  {
   "cell_type": "markdown",
   "metadata": {},
   "source": [
    "#### Evaluating Random Forest Model"
   ]
  },
  {
   "cell_type": "code",
   "execution_count": 99,
   "metadata": {
    "execution": {
     "iopub.execute_input": "2021-05-20T13:50:43.776150Z",
     "iopub.status.busy": "2021-05-20T13:50:43.775870Z",
     "iopub.status.idle": "2021-05-20T13:50:43.799724Z",
     "shell.execute_reply": "2021-05-20T13:50:43.798748Z",
     "shell.execute_reply.started": "2021-05-20T13:50:43.776123Z"
    }
   },
   "outputs": [
    {
     "name": "stdout",
     "output_type": "stream",
     "text": [
      "Mean Absolute Error:  2110.87\n",
      "Mean Squared Error:  18064637.7\n",
      "Root Mean Squared Error:  4250.25\n",
      "R2 score:  0.89\n"
     ]
    }
   ],
   "source": [
    "print('Mean Absolute Error: ', round(metrics.mean_absolute_error(y_test, y_pred), 2))\n",
    "print('Mean Squared Error: ', round(metrics.mean_squared_error(y_test, y_pred), 2))\n",
    "print('Root Mean Squared Error: ', round(np.sqrt(metrics.mean_squared_error(y_test, y_pred)), 2))\n",
    "print('R2 score: ', round(r2_score(y_test, y_pred), 2))"
   ]
  },
  {
   "cell_type": "code",
   "execution_count": 100,
   "metadata": {
    "execution": {
     "iopub.execute_input": "2021-05-20T13:50:43.801713Z",
     "iopub.status.busy": "2021-05-20T13:50:43.801288Z",
     "iopub.status.idle": "2021-05-20T13:50:43.933304Z",
     "shell.execute_reply": "2021-05-20T13:50:43.932027Z",
     "shell.execute_reply.started": "2021-05-20T13:50:43.801670Z"
    }
   },
   "outputs": [
    {
     "data": {
      "text/plain": [
       "44"
      ]
     },
     "execution_count": 100,
     "metadata": {},
     "output_type": "execute_result"
    }
   ],
   "source": [
    "gc.collect()"
   ]
  },
  {
   "cell_type": "markdown",
   "metadata": {},
   "source": [
    "#### Evaluating Extra Trees Model"
   ]
  },
  {
   "cell_type": "code",
   "execution_count": 101,
   "metadata": {
    "execution": {
     "iopub.execute_input": "2021-05-20T13:50:43.935465Z",
     "iopub.status.busy": "2021-05-20T13:50:43.934989Z",
     "iopub.status.idle": "2021-05-20T13:50:43.949911Z",
     "shell.execute_reply": "2021-05-20T13:50:43.948728Z",
     "shell.execute_reply.started": "2021-05-20T13:50:43.935421Z"
    }
   },
   "outputs": [
    {
     "name": "stdout",
     "output_type": "stream",
     "text": [
      "Mean Absolute Error:  1948.26\n",
      "Mean Squared Error:  17632025.0\n",
      "Root Mean Squared Error:  4199.05\n",
      "R2 score:  0.89\n"
     ]
    }
   ],
   "source": [
    "print('Mean Absolute Error: ', round(metrics.mean_absolute_error(y_test, y_predET), 2))\n",
    "print('Mean Squared Error: ', round(metrics.mean_squared_error(y_test, y_predET), 2))\n",
    "print('Root Mean Squared Error: ', round(np.sqrt(metrics.mean_squared_error(y_test, y_predET)), 2))\n",
    "print('R2 score: ', round(r2_score(y_test, y_predET), 2))"
   ]
  },
  {
   "cell_type": "code",
   "execution_count": 102,
   "metadata": {
    "execution": {
     "iopub.execute_input": "2021-05-20T13:50:43.953741Z",
     "iopub.status.busy": "2021-05-20T13:50:43.951568Z",
     "iopub.status.idle": "2021-05-20T13:50:44.079761Z",
     "shell.execute_reply": "2021-05-20T13:50:44.079040Z",
     "shell.execute_reply.started": "2021-05-20T13:50:43.953709Z"
    }
   },
   "outputs": [
    {
     "data": {
      "text/plain": [
       "44"
      ]
     },
     "execution_count": 102,
     "metadata": {},
     "output_type": "execute_result"
    }
   ],
   "source": [
    "gc.collect()"
   ]
  },
  {
   "cell_type": "markdown",
   "metadata": {},
   "source": [
    "## Model Comparison"
   ]
  },
  {
   "cell_type": "code",
   "execution_count": 103,
   "metadata": {
    "execution": {
     "iopub.execute_input": "2021-05-20T13:50:44.081284Z",
     "iopub.status.busy": "2021-05-20T13:50:44.081035Z",
     "iopub.status.idle": "2021-05-20T13:50:44.101459Z",
     "shell.execute_reply": "2021-05-20T13:50:44.100633Z",
     "shell.execute_reply.started": "2021-05-20T13:50:44.081260Z"
    }
   },
   "outputs": [],
   "source": [
    "Models_list = ['Random Forest ', 'Extra Trees']\n",
    "\n",
    "Score_list = [round(r2_score(y_test, y_pred), 2), round(r2_score(y_test, y_predET), 2)]\n",
    "\n",
    "MSE_list = [round(metrics.mean_squared_error(y_test, y_pred), 2),round(metrics.mean_squared_error(y_test, y_predET), 2)]\n",
    "\n",
    "MAE_list = [round(metrics.mean_absolute_error(y_test, y_pred), 2),round(metrics.mean_absolute_error(y_test, y_predET), 2)]\n",
    "RMSE_list=[round(np.sqrt(metrics.mean_squared_error(y_test, y_pred)), 2),round(np.sqrt(metrics.mean_squared_error(y_test, y_predET)), 2)]"
   ]
  },
  {
   "cell_type": "code",
   "execution_count": 104,
   "metadata": {
    "execution": {
     "iopub.execute_input": "2021-05-20T13:50:44.103290Z",
     "iopub.status.busy": "2021-05-20T13:50:44.102781Z",
     "iopub.status.idle": "2021-05-20T13:50:44.129804Z",
     "shell.execute_reply": "2021-05-20T13:50:44.129128Z",
     "shell.execute_reply.started": "2021-05-20T13:50:44.103256Z"
    }
   },
   "outputs": [
    {
     "data": {
      "text/html": [
       "<div>\n",
       "<style scoped>\n",
       "    .dataframe tbody tr th:only-of-type {\n",
       "        vertical-align: middle;\n",
       "    }\n",
       "\n",
       "    .dataframe tbody tr th {\n",
       "        vertical-align: top;\n",
       "    }\n",
       "\n",
       "    .dataframe thead th {\n",
       "        text-align: right;\n",
       "    }\n",
       "</style>\n",
       "<table border=\"1\" class=\"dataframe\">\n",
       "  <thead>\n",
       "    <tr style=\"text-align: right;\">\n",
       "      <th></th>\n",
       "      <th>Model</th>\n",
       "      <th>R2 Score</th>\n",
       "      <th>MSE</th>\n",
       "      <th>MAE</th>\n",
       "      <th>RMSE</th>\n",
       "    </tr>\n",
       "  </thead>\n",
       "  <tbody>\n",
       "    <tr>\n",
       "      <th>0</th>\n",
       "      <td>Random Forest</td>\n",
       "      <td>0.89</td>\n",
       "      <td>18064637.7</td>\n",
       "      <td>2110.87</td>\n",
       "      <td>4250.25</td>\n",
       "    </tr>\n",
       "    <tr>\n",
       "      <th>1</th>\n",
       "      <td>Extra Trees</td>\n",
       "      <td>0.89</td>\n",
       "      <td>17632025.0</td>\n",
       "      <td>1948.26</td>\n",
       "      <td>4199.05</td>\n",
       "    </tr>\n",
       "  </tbody>\n",
       "</table>\n",
       "</div>"
      ],
      "text/plain": [
       "            Model  R2 Score         MSE      MAE     RMSE\n",
       "0  Random Forest       0.89  18064637.7  2110.87  4250.25\n",
       "1     Extra Trees      0.89  17632025.0  1948.26  4199.05"
      ]
     },
     "execution_count": 104,
     "metadata": {},
     "output_type": "execute_result"
    }
   ],
   "source": [
    "# The models are put in a dataframe with their respective scores\n",
    "dict_of_lists = {\"Model\":Models_list,\n",
    "               \"R2 Score\":Score_list,\n",
    "               \"MSE\":MSE_list,\n",
    "               \"MAE\":MAE_list,\n",
    "                \"RMSE\":RMSE_list}\n",
    "\n",
    "models= pd.DataFrame(dict_of_lists)\n",
    "\n",
    "models"
   ]
  },
  {
   "cell_type": "markdown",
   "metadata": {},
   "source": [
    "### CONCLUSION\n",
    "\n",
    "With a lower RMSE value 4199.05 and MAE value 2110.87, the Extra Trees Regressor performed best in predicting the prices of used cars"
   ]
  }
 ],
 "metadata": {
  "kernelspec": {
   "display_name": "Python 3",
   "language": "python",
   "name": "python3"
  },
  "language_info": {
   "codemirror_mode": {
    "name": "ipython",
    "version": 3
   },
   "file_extension": ".py",
   "mimetype": "text/x-python",
   "name": "python",
   "nbconvert_exporter": "python",
   "pygments_lexer": "ipython3",
   "version": "3.8.5"
  }
 },
 "nbformat": 4,
 "nbformat_minor": 4
}
